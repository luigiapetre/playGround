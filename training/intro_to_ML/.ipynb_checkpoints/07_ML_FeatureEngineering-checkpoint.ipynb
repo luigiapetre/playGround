{
 "cells": [
  {
   "cell_type": "code",
   "execution_count": 1,
   "metadata": {
    "ExecuteTime": {
     "end_time": "2019-08-27T13:50:35.924369Z",
     "start_time": "2019-08-27T13:50:35.199173Z"
    }
   },
   "outputs": [],
   "source": [
    "%matplotlib inline\n",
    "import matplotlib\n",
    "import seaborn as sns\n",
    "matplotlib.rcParams['savefig.dpi'] = 144"
   ]
  },
  {
   "cell_type": "code",
   "execution_count": 2,
   "metadata": {
    "ExecuteTime": {
     "end_time": "2019-08-27T13:50:35.929254Z",
     "start_time": "2019-08-27T13:50:35.926564Z"
    }
   },
   "outputs": [],
   "source": [
    "import numpy as np\n",
    "import pandas as pd\n",
    "import matplotlib.pyplot as plt"
   ]
  },
  {
   "cell_type": "markdown",
   "metadata": {},
   "source": [
    "# Feature engineering\n",
    "\n",
    "<!-- requirement: data/land_temps_by_city.csv -->\n",
    "\n",
    "Our models can't reveal structure in our data when no structure exists."
   ]
  },
  {
   "cell_type": "code",
   "execution_count": 5,
   "metadata": {
    "ExecuteTime": {
     "end_time": "2019-08-27T13:50:40.231560Z",
     "start_time": "2019-08-27T13:50:40.080308Z"
    }
   },
   "outputs": [
    {
     "data": {
      "image/png": "[encoded data removed]",
      "text/plain": [
       "<Figure size 576x576 with 1 Axes>"
      ]
     },
     "metadata": {
      "needs_background": "light"
     },
     "output_type": "display_data"
    }
   ],
   "source": [
    "x1 = np.random.randn(100)\n",
    "x2 = np.random.randn(100)\n",
    "y = np.random.choice([True, False], size=100)\n",
    "\n",
    "plt.figure(figsize=(8,8))\n",
    "plt.plot(x1[y], x2[y], 'b.')\n",
    "plt.plot(x1[~y], x2[~y], 'r.');"
   ]
  },
  {
   "cell_type": "code",
   "execution_count": 6,
   "metadata": {
    "ExecuteTime": {
     "end_time": "2019-08-27T13:50:40.798646Z",
     "start_time": "2019-08-27T13:50:40.790030Z"
    }
   },
   "outputs": [
    {
     "data": {
      "text/html": [
       "<div>\n",
       "<style scoped>\n",
       "    .dataframe tbody tr th:only-of-type {\n",
       "        vertical-align: middle;\n",
       "    }\n",
       "\n",
       "    .dataframe tbody tr th {\n",
       "        vertical-align: top;\n",
       "    }\n",
       "\n",
       "    .dataframe thead th {\n",
       "        text-align: right;\n",
       "    }\n",
       "</style>\n",
       "<table border=\"1\" class=\"dataframe\">\n",
       "  <thead>\n",
       "    <tr style=\"text-align: right;\">\n",
       "      <th></th>\n",
       "      <th>x1</th>\n",
       "      <th>x2</th>\n",
       "      <th>y</th>\n",
       "    </tr>\n",
       "  </thead>\n",
       "  <tbody>\n",
       "    <tr>\n",
       "      <th>0</th>\n",
       "      <td>0.519657</td>\n",
       "      <td>1.011811</td>\n",
       "      <td>0.0</td>\n",
       "    </tr>\n",
       "    <tr>\n",
       "      <th>1</th>\n",
       "      <td>-0.365767</td>\n",
       "      <td>-0.383450</td>\n",
       "      <td>0.0</td>\n",
       "    </tr>\n",
       "    <tr>\n",
       "      <th>2</th>\n",
       "      <td>0.901718</td>\n",
       "      <td>0.025630</td>\n",
       "      <td>0.0</td>\n",
       "    </tr>\n",
       "    <tr>\n",
       "      <th>3</th>\n",
       "      <td>0.241763</td>\n",
       "      <td>-0.508824</td>\n",
       "      <td>0.0</td>\n",
       "    </tr>\n",
       "    <tr>\n",
       "      <th>4</th>\n",
       "      <td>0.879809</td>\n",
       "      <td>-0.404757</td>\n",
       "      <td>1.0</td>\n",
       "    </tr>\n",
       "  </tbody>\n",
       "</table>\n",
       "</div>"
      ],
      "text/plain": [
       "         x1        x2    y\n",
       "0  0.519657  1.011811  0.0\n",
       "1 -0.365767 -0.383450  0.0\n",
       "2  0.901718  0.025630  0.0\n",
       "3  0.241763 -0.508824  0.0\n",
       "4  0.879809 -0.404757  1.0"
      ]
     },
     "execution_count": 6,
     "metadata": {},
     "output_type": "execute_result"
    }
   ],
   "source": [
    "random_df = pd.DataFrame(np.vstack([x1, x2, y]).T, columns=['x1', 'x2', 'y'])\n",
    "random_df.head()"
   ]
  },
  {
   "cell_type": "code",
   "execution_count": 7,
   "metadata": {
    "ExecuteTime": {
     "end_time": "2019-08-27T13:50:41.696433Z",
     "start_time": "2019-08-27T13:50:41.688797Z"
    }
   },
   "outputs": [
    {
     "data": {
      "text/html": [
       "<div>\n",
       "<style scoped>\n",
       "    .dataframe tbody tr th:only-of-type {\n",
       "        vertical-align: middle;\n",
       "    }\n",
       "\n",
       "    .dataframe tbody tr th {\n",
       "        vertical-align: top;\n",
       "    }\n",
       "\n",
       "    .dataframe thead th {\n",
       "        text-align: right;\n",
       "    }\n",
       "</style>\n",
       "<table border=\"1\" class=\"dataframe\">\n",
       "  <thead>\n",
       "    <tr style=\"text-align: right;\">\n",
       "      <th></th>\n",
       "      <th>x1</th>\n",
       "      <th>x2</th>\n",
       "      <th>y</th>\n",
       "    </tr>\n",
       "  </thead>\n",
       "  <tbody>\n",
       "    <tr>\n",
       "      <th>x1</th>\n",
       "      <td>1.000000</td>\n",
       "      <td>0.016438</td>\n",
       "      <td>0.056794</td>\n",
       "    </tr>\n",
       "    <tr>\n",
       "      <th>x2</th>\n",
       "      <td>0.016438</td>\n",
       "      <td>1.000000</td>\n",
       "      <td>0.089149</td>\n",
       "    </tr>\n",
       "    <tr>\n",
       "      <th>y</th>\n",
       "      <td>0.056794</td>\n",
       "      <td>0.089149</td>\n",
       "      <td>1.000000</td>\n",
       "    </tr>\n",
       "  </tbody>\n",
       "</table>\n",
       "</div>"
      ],
      "text/plain": [
       "          x1        x2         y\n",
       "x1  1.000000  0.016438  0.056794\n",
       "x2  0.016438  1.000000  0.089149\n",
       "y   0.056794  0.089149  1.000000"
      ]
     },
     "execution_count": 7,
     "metadata": {},
     "output_type": "execute_result"
    }
   ],
   "source": [
    "random_df.corr()"
   ]
  },
  {
   "cell_type": "markdown",
   "metadata": {},
   "source": [
    "Beyond the choice of features to measure and how much data to collect (which we often can't control), there are many techniques for transforming our data set to amplify the most useful information for our machine learning models. Some of these techniques operate on the data directly while others are modifications to how we train our estimator. Such techniques are collectively called feature engineering."
   ]
  },
  {
   "cell_type": "markdown",
   "metadata": {},
   "source": [
    "## Feature extraction\n",
    "\n",
    "Machine learning algorithm require observations to be vectors of features. Sometimes our raw data will not be a vector of features or a vector at all. For example, our data might be a collection of images. We could flatten the image into a vector, but this destroys important spatial relationships in the data. Our data could be a string of text like a news article. A string is linear, but doesn't have fixed length, and it's not immediately clear how to represent text as numbers. Our data could be several years of commodity price data, which is a vector of numbers, but it may be better represented in an aggregated form instead of a raw time-series.\n",
    "\n",
    "In cases like these we have the privilege of constructing features, giving us maximum control over preparation of the data (without actually deciding how raw data gets collected). Feature extraction will often be specific to the data set, but some things to think about include:\n",
    "\n",
    "- What counts as an observation in the raw data?\n",
    "- Are there spatial or temporal relationships within the data of a single observation?\n",
    "- If my data aren't numbers, what is the most meaningful way to transform the data into numbers?\n",
    "- If my data are numbers, are the raw values most meaningful? Differences between raw values? Other transformations or aggregations?\n",
    "\n",
    "Let's work through an example to illustrate some of these concepts."
   ]
  },
  {
   "cell_type": "code",
   "execution_count": 8,
   "metadata": {
    "ExecuteTime": {
     "end_time": "2019-08-27T13:50:55.023767Z",
     "start_time": "2019-08-27T13:50:54.942397Z"
    }
   },
   "outputs": [
    {
     "data": {
      "text/html": [
       "<div>\n",
       "<style scoped>\n",
       "    .dataframe tbody tr th:only-of-type {\n",
       "        vertical-align: middle;\n",
       "    }\n",
       "\n",
       "    .dataframe tbody tr th {\n",
       "        vertical-align: top;\n",
       "    }\n",
       "\n",
       "    .dataframe thead th {\n",
       "        text-align: right;\n",
       "    }\n",
       "</style>\n",
       "<table border=\"1\" class=\"dataframe\">\n",
       "  <thead>\n",
       "    <tr style=\"text-align: right;\">\n",
       "      <th></th>\n",
       "      <th>dt</th>\n",
       "      <th>AverageTemperature</th>\n",
       "      <th>AverageTemperatureUncertainty</th>\n",
       "      <th>City</th>\n",
       "      <th>Country</th>\n",
       "      <th>Latitude</th>\n",
       "      <th>Longitude</th>\n",
       "    </tr>\n",
       "  </thead>\n",
       "  <tbody>\n",
       "    <tr>\n",
       "      <th>0</th>\n",
       "      <td>1900-02-01</td>\n",
       "      <td>0.969</td>\n",
       "      <td>0.585</td>\n",
       "      <td>Berlin</td>\n",
       "      <td>Germany</td>\n",
       "      <td>52.24N</td>\n",
       "      <td>13.14E</td>\n",
       "    </tr>\n",
       "    <tr>\n",
       "      <th>1</th>\n",
       "      <td>1900-03-01</td>\n",
       "      <td>1.313</td>\n",
       "      <td>0.328</td>\n",
       "      <td>Berlin</td>\n",
       "      <td>Germany</td>\n",
       "      <td>52.24N</td>\n",
       "      <td>13.14E</td>\n",
       "    </tr>\n",
       "    <tr>\n",
       "      <th>2</th>\n",
       "      <td>1900-04-01</td>\n",
       "      <td>7.246</td>\n",
       "      <td>0.317</td>\n",
       "      <td>Berlin</td>\n",
       "      <td>Germany</td>\n",
       "      <td>52.24N</td>\n",
       "      <td>13.14E</td>\n",
       "    </tr>\n",
       "    <tr>\n",
       "      <th>3</th>\n",
       "      <td>1900-05-01</td>\n",
       "      <td>12.125</td>\n",
       "      <td>0.240</td>\n",
       "      <td>Berlin</td>\n",
       "      <td>Germany</td>\n",
       "      <td>52.24N</td>\n",
       "      <td>13.14E</td>\n",
       "    </tr>\n",
       "    <tr>\n",
       "      <th>4</th>\n",
       "      <td>1900-06-01</td>\n",
       "      <td>17.362</td>\n",
       "      <td>0.343</td>\n",
       "      <td>Berlin</td>\n",
       "      <td>Germany</td>\n",
       "      <td>52.24N</td>\n",
       "      <td>13.14E</td>\n",
       "    </tr>\n",
       "  </tbody>\n",
       "</table>\n",
       "</div>"
      ],
      "text/plain": [
       "          dt  AverageTemperature  AverageTemperatureUncertainty    City  \\\n",
       "0 1900-02-01               0.969                          0.585  Berlin   \n",
       "1 1900-03-01               1.313                          0.328  Berlin   \n",
       "2 1900-04-01               7.246                          0.317  Berlin   \n",
       "3 1900-05-01              12.125                          0.240  Berlin   \n",
       "4 1900-06-01              17.362                          0.343  Berlin   \n",
       "\n",
       "   Country Latitude Longitude  \n",
       "0  Germany   52.24N    13.14E  \n",
       "1  Germany   52.24N    13.14E  \n",
       "2  Germany   52.24N    13.14E  \n",
       "3  Germany   52.24N    13.14E  \n",
       "4  Germany   52.24N    13.14E  "
      ]
     },
     "execution_count": 8,
     "metadata": {},
     "output_type": "execute_result"
    }
   ],
   "source": [
    "temps = pd.read_csv('./data/land_temps_by_city.csv', parse_dates=[0])\n",
    "temps.head()"
   ]
  },
  {
   "cell_type": "markdown",
   "metadata": {},
   "source": [
    "We have temperature data for many cities around the world. If we were making predictions about the climate of these different cities, it may be more useful to summarize the temperature data in a quantity that characterizes the different climates. For example, some of these cities have 4 seasons while others do not. We might see this reflected in how the temperatures correlate with each other over the course of the year."
   ]
  },
  {
   "cell_type": "code",
   "execution_count": 9,
   "metadata": {
    "ExecuteTime": {
     "end_time": "2019-08-27T13:50:57.837371Z",
     "start_time": "2019-08-27T13:50:57.832526Z"
    }
   },
   "outputs": [],
   "source": [
    "from functools import reduce\n",
    "def collect(x):\n",
    "    return reduce(lambda y, z: y + [z] if isinstance(y, list) else [z], x)\n",
    "\n",
    "def estimated_autocorrelation(x):\n",
    "    n = len(x)\n",
    "    variance = x.var()\n",
    "    x = x-x.mean()\n",
    "    r = np.correlate(x, x, mode = 'full')[-n:]\n",
    "    result = r/(variance*(np.arange(n, 0, -1)))\n",
    "    return result"
   ]
  },
  {
   "cell_type": "code",
   "execution_count": 11,
   "metadata": {
    "ExecuteTime": {
     "end_time": "2019-08-27T13:51:04.019590Z",
     "start_time": "2019-08-27T13:51:03.851116Z"
    }
   },
   "outputs": [
    {
     "data": {
      "image/png": "[encoded data removed]",
      "text/plain": [
       "<Figure size 432x288 with 1 Axes>"
      ]
     },
     "metadata": {
      "needs_background": "light"
     },
     "output_type": "display_data"
    }
   ],
   "source": [
    "plt.plot(estimated_autocorrelation(temps[temps['City']=='Berlin']['AverageTemperature'].values)[:12], label='Berlin')\n",
    "plt.plot(estimated_autocorrelation(temps[temps['City']=='Jakarta']['AverageTemperature'].values)[:12], label='Jakarta')\n",
    "plt.legend();"
   ]
  },
  {
   "cell_type": "markdown",
   "metadata": {},
   "source": [
    "Looking at these graphs, we can see that the temperature in Berlin six months in the future mirrors the temperature in Berlin today (correlation $\\approx$ -1). However, in Jakarta, the average temperature six months in the future is basically unrelated to the temperature today (correlation $\\approx$ 0). This indicates a different seasonality, associated with their different climates. We can extract the six-month autocorrelation value as a feature for each city's climate."
   ]
  },
  {
   "cell_type": "code",
   "execution_count": 12,
   "metadata": {
    "ExecuteTime": {
     "end_time": "2019-08-27T13:51:21.884598Z",
     "start_time": "2019-08-27T13:51:21.773379Z"
    }
   },
   "outputs": [],
   "source": [
    "ac = temps.groupby('City')['AverageTemperature'].apply(collect).apply(lambda x: np.array(x)).apply(estimated_autocorrelation).rename('autocorr')\n",
    "ac_lat = pd.concat([ac.apply(lambda x: x[range(6, 1362, 12)].mean()), temps[['City', 'Latitude']].drop_duplicates().set_index('City')], axis=1)\n",
    "ac_lat['Latitude'] = ac_lat['Latitude'].apply(lambda x: float(x[:-1]))"
   ]
  },
  {
   "cell_type": "code",
   "execution_count": 18,
   "metadata": {
    "ExecuteTime": {
     "end_time": "2019-08-27T13:53:10.293513Z",
     "start_time": "2019-08-27T13:53:10.098846Z"
    }
   },
   "outputs": [
    {
     "data": {
      "image/png": "[encoded data removed]",
      "text/plain": [
       "<Figure size 432x288 with 1 Axes>"
      ]
     },
     "metadata": {
      "needs_background": "light"
     },
     "output_type": "display_data"
    }
   ],
   "source": [
    "plt.plot(ac_lat['Latitude'], ac_lat['autocorr'], '.')\n",
    "plt.xlabel(\"Latitude\")\n",
    "plt.ylabel(\"Autocorrelation\")\n",
    "ax = plt.gca()\n",
    "labels = {'Lima', 'Shenzhen', 'Delhi', 'Lima', 'Kingston', 'Cape Town', 'Jakarta', 'Nairobi', 'Rio De Janeiro', 'Quito', 'Port Moresby', 'Seoul', 'Moscow', 'Paris', 'Toronto'}\n",
    "for city in ac_lat.index:\n",
    "    if city in labels:\n",
    "        plt.text(ac_lat.loc[city, 'Latitude'], ac_lat.loc[city, 'autocorr'] + .01, city)"
   ]
  },
  {
   "cell_type": "markdown",
   "metadata": {},
   "source": [
    "## Feature transformations\n",
    "\n",
    "Sometimes our observations will be very unevenly distributed for a given feature. For example, income is roughly exponentially distributed in many populations. Sometimes the relationship between a feature and a regression target follows a clear non-linear trend. In cases like these it can be useful to transform the values of our features or our target to better highlight trends or to allow for use of models that might not otherwise be applicable.\n",
    "\n",
    "For example, we could fit a line to the relationship between latitude and 6-month autocorrelation in temperature, but it wouldn't be a great fit."
   ]
  },
  {
   "cell_type": "code",
   "execution_count": 21,
   "metadata": {
    "ExecuteTime": {
     "end_time": "2019-08-27T13:54:06.569792Z",
     "start_time": "2019-08-27T13:54:06.427369Z"
    }
   },
   "outputs": [
    {
     "data": {
      "image/png": "[encoded data removed]",
      "text/plain": [
       "<Figure size 432x288 with 1 Axes>"
      ]
     },
     "metadata": {
      "needs_background": "light"
     },
     "output_type": "display_data"
    }
   ],
   "source": [
    "from sklearn.linear_model import LinearRegression\n",
    "\n",
    "lin_reg = LinearRegression().fit(ac_lat['Latitude'].values.reshape(-1, 1), ac_lat['autocorr'].values.reshape(-1, 1))\n",
    "\n",
    "ac_lat.sort_values('Latitude', inplace=True)\n",
    "\n",
    "plt.plot(ac_lat['Latitude'], ac_lat['autocorr'], '.')\n",
    "plt.plot(ac_lat['Latitude'], lin_reg.predict(ac_lat['Latitude'].values.reshape(-1, 1)))\n",
    "plt.xlabel('Latitude')\n",
    "plt.ylabel(\"Autocorrelation\");"
   ]
  },
  {
   "cell_type": "markdown",
   "metadata": {},
   "source": [
    "However, this data looks roughly like $y = e^{-x/\\lambda} - 1$. If we substituted the variable $u = e^{-x/\\lambda}$, we would have $y \\propto u$, a linear relationship."
   ]
  },
  {
   "cell_type": "code",
   "execution_count": 22,
   "metadata": {
    "ExecuteTime": {
     "end_time": "2019-08-27T13:54:21.957890Z",
     "start_time": "2019-08-27T13:54:21.806490Z"
    }
   },
   "outputs": [
    {
     "data": {
      "image/png": "[encoded data removed]",
      "text/plain": [
       "<Figure size 432x288 with 1 Axes>"
      ]
     },
     "metadata": {
      "needs_background": "light"
     },
     "output_type": "display_data"
    }
   ],
   "source": [
    "plt.plot(np.exp(-ac_lat['Latitude']/13), ac_lat['autocorr'], '.')\n",
    "plt.xlabel('Latitude')\n",
    "plt.ylabel('6-month temperature autocorrelation');"
   ]
  },
  {
   "cell_type": "markdown",
   "metadata": {},
   "source": [
    "This looks somewhat more linear. We could fit a linear model to this transformed feature."
   ]
  },
  {
   "cell_type": "code",
   "execution_count": 23,
   "metadata": {
    "ExecuteTime": {
     "end_time": "2019-08-27T13:54:26.322066Z",
     "start_time": "2019-08-27T13:54:26.316094Z"
    }
   },
   "outputs": [],
   "source": [
    "from sklearn.model_selection import train_test_split\n",
    "from sklearn.metrics import mean_squared_error as mse\n",
    "from sklearn.utils import shuffle\n",
    "\n",
    "X_train, X_test, y_train, y_test = train_test_split(*shuffle(ac_lat['Latitude'].values.reshape(-1, 1), ac_lat['autocorr'].values.reshape(-1, 1)), test_size=0.1)\n",
    "\n",
    "lin_reg = LinearRegression()\n",
    "\n",
    "lin_reg.fit(np.exp(-X_train/13), y_train)\n",
    "\n",
    "lin_pred = lin_reg.predict(np.exp(-X_test/13))"
   ]
  },
  {
   "cell_type": "markdown",
   "metadata": {},
   "source": [
    "Let's compare the result with a decision tree applied to the untransformed data."
   ]
  },
  {
   "cell_type": "code",
   "execution_count": 24,
   "metadata": {
    "ExecuteTime": {
     "end_time": "2019-08-27T13:54:28.903960Z",
     "start_time": "2019-08-27T13:54:28.883199Z"
    }
   },
   "outputs": [],
   "source": [
    "from sklearn.tree import DecisionTreeRegressor\n",
    "\n",
    "tree_reg = DecisionTreeRegressor(max_depth=3)\n",
    "tree_reg.fit(X_train, y_train)\n",
    "tree_pred = tree_reg.predict(X_test)"
   ]
  },
  {
   "cell_type": "code",
   "execution_count": 25,
   "metadata": {
    "ExecuteTime": {
     "end_time": "2019-08-27T13:54:32.958056Z",
     "start_time": "2019-08-27T13:54:32.808089Z"
    }
   },
   "outputs": [
    {
     "name": "stdout",
     "output_type": "stream",
     "text": [
      "Transformed linear regression: 0.02\n",
      "Decision tree regression: 0.02\n"
     ]
    },
    {
     "data": {
      "image/png": "[encoded data removed]",
      "text/plain": [
       "<Figure size 432x288 with 1 Axes>"
      ]
     },
     "metadata": {
      "needs_background": "light"
     },
     "output_type": "display_data"
    }
   ],
   "source": [
    "ac_lat.sort_values('Latitude', inplace=True)\n",
    "\n",
    "plt.plot(ac_lat['Latitude'], ac_lat['autocorr'], '.', label='data')\n",
    "plt.plot(ac_lat['Latitude'], lin_reg.predict(np.exp(-ac_lat['Latitude'].values.reshape(-1, 1) / 13)))\n",
    "plt.plot(ac_lat['Latitude'], tree_reg.predict(ac_lat['Latitude'].values.reshape(-1, 1)))\n",
    "\n",
    "print('Transformed linear regression: %0.2f' % mse(y_test, lin_pred))\n",
    "print('Decision tree regression: %0.2f' % mse(y_test, tree_pred))"
   ]
  },
  {
   "cell_type": "markdown",
   "metadata": {},
   "source": [
    "## Curse of dimensionality\n",
    "\n",
    "It is easy to see why adding features to a data set might be helpful."
   ]
  },
  {
   "cell_type": "code",
   "execution_count": 27,
   "metadata": {
    "ExecuteTime": {
     "end_time": "2019-08-27T13:54:43.311586Z",
     "start_time": "2019-08-27T13:54:43.113208Z"
    }
   },
   "outputs": [
    {
     "data": {
      "image/png": "[encoded data removed]",
      "text/plain": [
       "<Figure size 576x576 with 1 Axes>"
      ]
     },
     "metadata": {
      "needs_background": "light"
     },
     "output_type": "display_data"
    }
   ],
   "source": [
    "n = 1000\n",
    "x1 = np.concatenate([np.random.randn(n // 2), np.random.randn(n // 2) + 2])\n",
    "y = np.array([True if i < n // 2 else False for i in range(n)])\n",
    "\n",
    "plt.figure(figsize=(8,8))\n",
    "plt.hist(x1[y], alpha=.8)\n",
    "plt.hist(x1[~y], alpha=.8);"
   ]
  },
  {
   "cell_type": "code",
   "execution_count": 29,
   "metadata": {
    "ExecuteTime": {
     "end_time": "2019-08-27T13:54:48.656404Z",
     "start_time": "2019-08-27T13:54:48.502289Z"
    }
   },
   "outputs": [
    {
     "data": {
      "image/png": "[encoded data removed]",
      "text/plain": [
       "<Figure size 576x576 with 1 Axes>"
      ]
     },
     "metadata": {
      "needs_background": "light"
     },
     "output_type": "display_data"
    }
   ],
   "source": [
    "x2 = np.concatenate([np.random.randn(n // 2), np.random.randn(n // 2) + 2])\n",
    "\n",
    "plt.figure(figsize=(8,8))\n",
    "plt.plot(x1[y], x2[y], 'b.')\n",
    "plt.plot(x1[~y], x2[~y], 'r.');"
   ]
  },
  {
   "cell_type": "code",
   "execution_count": 30,
   "metadata": {
    "ExecuteTime": {
     "end_time": "2019-08-27T13:54:52.926244Z",
     "start_time": "2019-08-27T13:54:52.922217Z"
    }
   },
   "outputs": [
    {
     "data": {
      "text/plain": [
       "array([[-1.02603963,  0.00268395],\n",
       "       [-0.01368415, -1.23072493],\n",
       "       [ 0.13750728, -1.2588464 ],\n",
       "       ...,\n",
       "       [ 1.73192314,  2.35672064],\n",
       "       [ 1.66091627,  1.83580596],\n",
       "       [ 2.60310947,  1.51911821]])"
      ]
     },
     "execution_count": 30,
     "metadata": {},
     "output_type": "execute_result"
    }
   ],
   "source": [
    "np.vstack([x1, x2]).T"
   ]
  },
  {
   "cell_type": "code",
   "execution_count": 33,
   "metadata": {
    "ExecuteTime": {
     "end_time": "2019-08-27T13:55:13.516385Z",
     "start_time": "2019-08-27T13:55:13.500544Z"
    }
   },
   "outputs": [
    {
     "name": "stdout",
     "output_type": "stream",
     "text": [
      "Score on 1D data: 0.88\n",
      "Score on 2D data: 0.94\n"
     ]
    }
   ],
   "source": [
    "from sklearn.linear_model import LogisticRegression\n",
    "from sklearn.metrics import accuracy_score\n",
    "\n",
    "X_train, X_test, y_train, y_test = train_test_split(np.vstack([x1, x2]).T, y)\n",
    "\n",
    "log_reg_1d = LogisticRegression(solver='lbfgs').fit(np.atleast_2d(X_train[:, 0]).T, y_train)\n",
    "log_reg_2d = LogisticRegression(solver='lbfgs').fit(X_train, y_train)\n",
    "\n",
    "print('Score on 1D data: %0.2f' % accuracy_score(y_test, log_reg_1d.predict(np.atleast_2d(X_test[:, 0]).T)))\n",
    "print('Score on 2D data: %0.2f' % accuracy_score(y_test, log_reg_2d.predict(X_test)))"
   ]
  },
  {
   "cell_type": "code",
   "execution_count": 35,
   "metadata": {
    "ExecuteTime": {
     "end_time": "2019-08-27T13:55:19.160263Z",
     "start_time": "2019-08-27T13:55:19.012478Z"
    }
   },
   "outputs": [
    {
     "data": {
      "image/png": "[encoded data removed]",
      "text/plain": [
       "<Figure size 432x288 with 1 Axes>"
      ]
     },
     "metadata": {
      "needs_background": "light"
     },
     "output_type": "display_data"
    }
   ],
   "source": [
    "from matplotlib.colors import ListedColormap\n",
    "\n",
    "xx1, xx2 = np.meshgrid(np.arange(-4, 6, .1), np.arange(-4, 6, .1))\n",
    "\n",
    "Z = log_reg_2d.predict(np.array([xx1.ravel(), xx2.ravel()]).T)\n",
    "Z = Z.reshape(xx1.shape)\n",
    "\n",
    "cut_1d = np.arange(-4, 6, .1)[log_reg_1d.predict_proba(np.atleast_2d(np.arange(-4,6,.1)).T)[:, 0] > .5][0]\n",
    "\n",
    "colors = ('red', 'blue')\n",
    "cmap = ListedColormap(colors)\n",
    "\n",
    "plt.contourf(xx1, xx2, Z, alpha=0.4, cmap=cmap)\n",
    "plt.plot(x1[y], x2[y], 'b.')\n",
    "plt.plot(x1[~y], x2[~y], 'r.')\n",
    "plt.axvline(cut_1d, color='k', linestyle='--');"
   ]
  },
  {
   "cell_type": "markdown",
   "metadata": {},
   "source": [
    "However, as we increase the dimensionality of our data by adding more features, the data gets more spread out. If the data is very high dimensional, it may be too spread out to identify any trends or clusters. This is know as the [curse of dimensionality](https://en.wikipedia.org/wiki/Curse_of_dimensionality). As we increase the number of features, we will generally require more observations to ensure good sampling density throughout feature space."
   ]
  },
  {
   "cell_type": "markdown",
   "metadata": {},
   "source": [
    "## Feature importance and selection\n",
    "\n",
    "To avoid the curse of dimensionality, we'll sometimes want to reduce the dimensionality of our data. We may also want to reduce the dimensionality of our data simply to compress it (in the case of very large data) or simply to visualize the data. Reducing dimensionality also helps make models more interpretable. When reducing the dimensionality of the data, we will want to get rid of irrelevant or redundant features.\n",
    "\n",
    "There are a number of ways to assess feature importance. Let's work again with the California housing data set."
   ]
  },
  {
   "cell_type": "code",
   "execution_count": 36,
   "metadata": {
    "ExecuteTime": {
     "end_time": "2019-08-27T13:55:34.120652Z",
     "start_time": "2019-08-27T13:55:34.094684Z"
    }
   },
   "outputs": [],
   "source": [
    "from sklearn.datasets import fetch_california_housing\n",
    "\n",
    "cali_data = fetch_california_housing()\n",
    "\n",
    "cali_df = pd.DataFrame(cali_data.data, columns=cali_data.feature_names)"
   ]
  },
  {
   "cell_type": "code",
   "execution_count": 37,
   "metadata": {
    "ExecuteTime": {
     "end_time": "2019-08-27T13:55:45.817486Z",
     "start_time": "2019-08-27T13:55:37.046724Z"
    }
   },
   "outputs": [
    {
     "name": "stdout",
     "output_type": "stream",
     "text": [
      "0.6698753061581568\n"
     ]
    },
    {
     "data": {
      "text/plain": [
       "[('MedInc', 0.6726707554388192),\n",
       " ('HouseAge', 0.04443152456071105),\n",
       " ('AveRooms', 0.033123688079381985),\n",
       " ('AveBedrms', 0.004829578809367241),\n",
       " ('Population', 0.007624395050797671),\n",
       " ('AveOccup', 0.1279491372665156),\n",
       " ('Latitude', 0.058372413732505055),\n",
       " ('Longitude', 0.05099850706190221)]"
      ]
     },
     "execution_count": 37,
     "metadata": {},
     "output_type": "execute_result"
    }
   ],
   "source": [
    "from sklearn.preprocessing import StandardScaler\n",
    "from sklearn.tree import DecisionTreeRegressor\n",
    "from sklearn.model_selection import RandomizedSearchCV\n",
    "from sklearn.metrics import r2_score\n",
    "import scipy.stats\n",
    "\n",
    "X_train, X_test, y_train, y_test = train_test_split(*shuffle(cali_df, cali_data.target), test_size=0.1)\n",
    "\n",
    "scaler = StandardScaler()\n",
    "X_train = scaler.fit_transform(X_train)\n",
    "\n",
    "model = DecisionTreeRegressor()\n",
    "\n",
    "rs = RandomizedSearchCV(model,\n",
    "                  {'max_depth': scipy.stats.binom(9, .3, loc=1),\n",
    "                  'min_samples_split': scipy.stats.binom(90, .5, loc=10)},\n",
    "                   cv=5,\n",
    "                   n_iter=200,\n",
    "                   n_jobs=4,\n",
    "                   scoring='neg_mean_squared_error')\n",
    "\n",
    "rs.fit(X_train, y_train)\n",
    "print(r2_score(y_test, rs.best_estimator_.predict(scaler.transform(X_test))))\n",
    "\n",
    "list(zip(cali_data.feature_names, rs.best_estimator_.feature_importances_))"
   ]
  },
  {
   "cell_type": "code",
   "execution_count": 38,
   "metadata": {
    "ExecuteTime": {
     "end_time": "2019-08-27T13:55:45.843703Z",
     "start_time": "2019-08-27T13:55:45.819644Z"
    }
   },
   "outputs": [
    {
     "name": "stdout",
     "output_type": "stream",
     "text": [
      "0.5881507514084867\n"
     ]
    },
    {
     "data": {
      "text/plain": [
       "[('MedInc', 0.2472803616040998),\n",
       " ('HouseAge', 0.035233133090738195),\n",
       " ('AveRooms', 0.07779505554684825),\n",
       " ('AveBedrms', 0.0911210773173733),\n",
       " ('Population', 0.0014524946644414432),\n",
       " ('AveOccup', 0.011805691642178897),\n",
       " ('Latitude', 0.27229304256924575),\n",
       " ('Longitude', 0.2630191435650744)]"
      ]
     },
     "execution_count": 38,
     "metadata": {},
     "output_type": "execute_result"
    }
   ],
   "source": [
    "X_train, X_test, y_train, y_test = train_test_split(*shuffle(cali_df, cali_data.target), test_size=0.1)\n",
    "\n",
    "scaler = StandardScaler()\n",
    "X_train = scaler.fit_transform(X_train)\n",
    "\n",
    "lin_reg = LinearRegression().fit(X_train, y_train)\n",
    "\n",
    "print(r2_score(y_test, lin_reg.predict(scaler.transform(X_test))))\n",
    "\n",
    "list(zip(cali_data.feature_names, abs(lin_reg.coef_) / sum(abs(lin_reg.coef_))))"
   ]
  },
  {
   "cell_type": "markdown",
   "metadata": {},
   "source": [
    "The `feature_selection` submodule of Scikit-learn provides [some useful tools](http://scikit-learn.org/stable/modules/feature_selection.html) for discarding unimportant features."
   ]
  },
  {
   "cell_type": "code",
   "execution_count": 39,
   "metadata": {
    "ExecuteTime": {
     "end_time": "2019-08-27T13:55:57.626221Z",
     "start_time": "2019-08-27T13:55:54.236256Z"
    }
   },
   "outputs": [
    {
     "data": {
      "image/png": "[encoded data removed]",
      "text/plain": [
       "<Figure size 432x288 with 1 Axes>"
      ]
     },
     "metadata": {
      "needs_background": "light"
     },
     "output_type": "display_data"
    }
   ],
   "source": [
    "from sklearn.feature_selection import RFECV\n",
    "\n",
    "feature_elimination = RFECV(estimator=model, cv=5, scoring='r2')\n",
    "feature_elimination.fit(X_train, y_train)\n",
    "\n",
    "rfecv_scores = feature_elimination.grid_scores_\n",
    "plt.plot(range(1, len(rfecv_scores) + 1), rfecv_scores)\n",
    "plt.xlabel('Number of features used')\n",
    "plt.ylabel(r'Cross validation score ($R^2$)');"
   ]
  },
  {
   "cell_type": "markdown",
   "metadata": {},
   "source": [
    "## Regularization\n",
    "\n",
    "When we have too many features, our observations become sparse, making it hard to detect trends in the data. Our model begins to simply memorize the training set based on the many features. We can also say our model is fitting _noise_ instead of trend, because small random variations across many features results in observations being very separated.\n",
    "\n",
    "One way to limit overfitting due to high dimensionality is _regularization_. To regularize a model, we introduce a penalty in the cost function associated with the values of model parameters themselves. For example, we could regularize our linear regression model by changing the cost function.\n",
    "\n",
    "$$ C({\\Theta_i}) = \\sum_j (y_j - X_{ij}\\Theta_i)^2 \\Longrightarrow\n",
    "C({\\Theta_i}) = \\sum_j (y_j - X_{ij}\\Theta_i)^2 + \\alpha\\sum_i\\Theta_i^2 $$\n",
    "\n",
    "The new cost function will tend to reduce the values of model parameters, limiting the effect of unimportant features. We could choose other penalties (e.g. $\\alpha\\sum_i\\|\\Theta_i\\|$) to change the effects of regularization."
   ]
  },
  {
   "cell_type": "code",
   "execution_count": 40,
   "metadata": {
    "ExecuteTime": {
     "end_time": "2019-08-27T13:56:15.391824Z",
     "start_time": "2019-08-27T13:56:15.025483Z"
    }
   },
   "outputs": [
    {
     "name": "stdout",
     "output_type": "stream",
     "text": [
      "Linear regression score: 0.59\n",
      "Ridge regression score: 0.59\n",
      "Lasso regression score: 0.59\n"
     ]
    }
   ],
   "source": [
    "from sklearn.linear_model import Ridge, Lasso\n",
    "X_train, X_test, y_train, y_test = train_test_split(*shuffle(cali_df, cali_data.target), test_size=0.1)\n",
    "\n",
    "scaler = StandardScaler()\n",
    "X_train = scaler.fit_transform(X_train)\n",
    "\n",
    "lin_reg = LinearRegression().fit(X_train, y_train)\n",
    "\n",
    "alphas = np.logspace(-2, 2, 100)\n",
    "ridge_coefs = []\n",
    "ridge_scores = []\n",
    "lasso_coefs = []\n",
    "lasso_scores = []\n",
    "for alpha in alphas:\n",
    "    ridge_reg = Ridge(alpha=alpha).fit(X_train, y_train)\n",
    "    lasso_reg = Lasso(alpha=alpha).fit(X_train, y_train)\n",
    "    ridge_coefs.append(ridge_reg.coef_)\n",
    "    ridge_scores.append(r2_score(y_test, ridge_reg.predict(scaler.transform(X_test))))\n",
    "    lasso_coefs.append(lasso_reg.coef_)\n",
    "    lasso_scores.append(r2_score(y_test, lasso_reg.predict(scaler.transform(X_test))))\n",
    "\n",
    "lin_score = r2_score(y_test, lin_reg.predict(scaler.transform(X_test)))\n",
    "print('Linear regression score: %0.2f' % lin_score)\n",
    "print('Ridge regression score: %0.2f' % max(ridge_scores))\n",
    "print('Lasso regression score: %0.2f' % max(lasso_scores))"
   ]
  },
  {
   "cell_type": "code",
   "execution_count": 41,
   "metadata": {
    "ExecuteTime": {
     "end_time": "2019-08-27T13:56:20.264845Z",
     "start_time": "2019-08-27T13:56:19.514913Z"
    }
   },
   "outputs": [
    {
     "data": {
      "text/plain": [
       "<matplotlib.legend.Legend at 0x1a25207438>"
      ]
     },
     "execution_count": 41,
     "metadata": {},
     "output_type": "execute_result"
    },
    {
     "data": {
      "image/png": "[encoded data removed]",
      "text/plain": [
       "<Figure size 432x288 with 1 Axes>"
      ]
     },
     "metadata": {
      "needs_background": "light"
     },
     "output_type": "display_data"
    }
   ],
   "source": [
    "plt.figure()\n",
    "plt.gca().set_xscale('log')\n",
    "plt.gca().set_ylim([.5, .625])\n",
    "plt.plot(alphas, np.repeat(lin_score, len(alphas)), label='simple')\n",
    "plt.plot(alphas, ridge_scores, label='ridge')\n",
    "plt.plot(alphas, lasso_scores, label='lasso')\n",
    "plt.xlabel(r'Regularization strength ($\\alpha$)')\n",
    "plt.ylabel(r'$R^2$ score')\n",
    "plt.legend()"
   ]
  },
  {
   "cell_type": "code",
   "execution_count": 42,
   "metadata": {
    "ExecuteTime": {
     "end_time": "2019-08-27T13:56:26.164396Z",
     "start_time": "2019-08-27T13:56:25.263623Z"
    }
   },
   "outputs": [
    {
     "data": {
      "image/png": "[encoded data removed]",
      "text/plain": [
       "<Figure size 864x576 with 3 Axes>"
      ]
     },
     "metadata": {
      "needs_background": "light"
     },
     "output_type": "display_data"
    }
   ],
   "source": [
    "plt.figure(figsize=[12, 8])\n",
    "plt.title('Regression coefficients')\n",
    "\n",
    "plt.subplot(311)\n",
    "plt.gca().set_xscale('log')\n",
    "plt.ylabel('Simple regression coefficients')\n",
    "for coef in lin_reg.coef_:\n",
    "    plt.plot(alphas, np.repeat(coef, len(alphas)))\n",
    "\n",
    "plt.subplot(312)\n",
    "plt.gca().set_xscale('log')\n",
    "plt.ylabel('Ridge regression coefficients')\n",
    "plt.plot(alphas, ridge_coefs)\n",
    "\n",
    "plt.subplot(313)\n",
    "plt.gca().set_xscale('log')\n",
    "plt.ylabel('Lasso regression coefficients')\n",
    "plt.xlabel(r'Regularization strength ($\\alpha$)')\n",
    "plt.plot(alphas, lasso_coefs);"
   ]
  },
  {
   "cell_type": "code",
   "execution_count": 43,
   "metadata": {
    "ExecuteTime": {
     "end_time": "2019-08-27T13:56:28.700099Z",
     "start_time": "2019-08-27T13:56:28.695095Z"
    }
   },
   "outputs": [
    {
     "name": "stdout",
     "output_type": "stream",
     "text": [
      "0.040370172585965536 0.5489780590398747\n"
     ]
    },
    {
     "data": {
      "text/plain": [
       "[('MedInc', 0.7366249243290719),\n",
       " ('HouseAge', 0.13728707917754124),\n",
       " ('AveRooms', -0.0),\n",
       " ('AveBedrms', 0.0),\n",
       " ('Population', 0.0),\n",
       " ('AveOccup', -0.0012401339066146792),\n",
       " ('Latitude', -0.3899745067726163),\n",
       " ('Longitude', -0.3513880228807789)]"
      ]
     },
     "execution_count": 43,
     "metadata": {},
     "output_type": "execute_result"
    }
   ],
   "source": [
    "x = 15\n",
    "print(alphas[x], lasso_scores[x])\n",
    "list(zip(cali_data.feature_names, lasso_coefs[x]))"
   ]
  },
  {
   "cell_type": "markdown",
   "metadata": {},
   "source": [
    "## Correlation between features and multicollinearity\n",
    "\n",
    "Sometimes our features may be closely related to other features. We can easily calculate the correlation coefficient between pairs of features."
   ]
  },
  {
   "cell_type": "code",
   "execution_count": 45,
   "metadata": {
    "ExecuteTime": {
     "end_time": "2019-08-27T13:56:34.754620Z",
     "start_time": "2019-08-27T13:56:34.578672Z"
    }
   },
   "outputs": [
    {
     "data": {
      "image/png": "[encoded data removed]",
      "text/plain": [
       "<Figure size 432x288 with 2 Axes>"
      ]
     },
     "metadata": {
      "needs_background": "light"
     },
     "output_type": "display_data"
    }
   ],
   "source": [
    "corr = cali_df.corr()\n",
    "mask = np.zeros_like(corr, dtype=np.bool)\n",
    "mask[np.triu_indices_from(mask)] = True\n",
    "\n",
    "cmap = sns.diverging_palette(220, 10, as_cmap=True)\n",
    "\n",
    "sns.heatmap(corr, mask=mask, cmap=cmap, square=True, linewidths=.5, center=0, vmax=1);"
   ]
  },
  {
   "cell_type": "markdown",
   "metadata": {},
   "source": [
    "Correlation can be an indicator of feature redundancy. In particular if a feature can be approximated as a linear combination of other features\n",
    "\n",
    "$$ X_j \\approx \\sum_{i \\ne j}\\beta_{ij}X_i $$\n",
    "\n",
    "we say our features are multicollinear. Multicollinearity can introduce instability into our regression model parameters, making model interpretation difficult. Furthermore, features that are linear combinations of other features are redundant."
   ]
  },
  {
   "cell_type": "markdown",
   "metadata": {},
   "source": [
    "## Principal component analysis\n",
    "\n",
    "So far we have explored techniques for identifying unimportant or redundant features and ways to eliminate them from our data or model. When we eliminate features from our data, even if they are correlated with other features, we lose information.\n",
    "\n",
    "One way to mitigate the loss of information is to combine our $n$ original features into $m$ new features, with $m < n$. We can calculate what combinations preserve the most information using **principal component analysis** (PCA).\n",
    "\n",
    "Let's look back to an earlier example to understand how this works. We found earlier that adding a second feature to a data set helped us gain predictive power to separate two classes."
   ]
  },
  {
   "cell_type": "code",
   "execution_count": 47,
   "metadata": {
    "ExecuteTime": {
     "end_time": "2019-08-27T13:56:41.291017Z",
     "start_time": "2019-08-27T13:56:41.138594Z"
    }
   },
   "outputs": [
    {
     "data": {
      "application/vnd.jupyter.widget-view+json": {
       "model_id": "d3be78f650c347f3a76e33cb965ddc9d",
       "version_major": 2,
       "version_minor": 0
      },
      "text/plain": [
       "interactive(children=(FloatSlider(value=0.0, description='rotation', max=3.141592653589793), Output()), _dom_c…"
      ]
     },
     "metadata": {},
     "output_type": "display_data"
    }
   ],
   "source": [
    "from ipywidgets import interact\n",
    "\n",
    "def plot_data(rotation=0):\n",
    "    x1_r = x1 * np.cos(rotation) + x2 * np.sin(rotation)\n",
    "    x2_r = -x1 * np.sin(rotation) + x2 * np.cos(rotation)\n",
    "    plt.plot(x1_r[y], x2_r[y], 'b.')\n",
    "    plt.plot(x1_r[~y], x2_r[~y], 'r.')\n",
    "\n",
    "    w1, w2 = log_reg_2d.coef_[0]\n",
    "    x = np.sort(x1)\n",
    "    line = (-log_reg_2d.intercept_ - w1 * x) / w2\n",
    "    x_r = x * np.cos(rotation) + line * np.sin(rotation)\n",
    "    line_r = -x * np.sin(rotation) + line * np.cos(rotation)\n",
    "    plt.plot(x_r, line_r)\n",
    "    \n",
    "interact(plot_data, rotation=(0, np.pi, .1));"
   ]
  },
  {
   "cell_type": "markdown",
   "metadata": {},
   "source": [
    "After rotating the data, we see that we could reduce the data from two dimensions to one without losing any important information. Principal component analysis projects the data into a lower dimensional space, choosing the projection by maximizing the variance in the projected data. Usually this is the optimal choice."
   ]
  },
  {
   "cell_type": "code",
   "execution_count": 49,
   "metadata": {
    "ExecuteTime": {
     "end_time": "2019-08-27T13:56:51.092403Z",
     "start_time": "2019-08-27T13:56:51.081610Z"
    }
   },
   "outputs": [
    {
     "name": "stdout",
     "output_type": "stream",
     "text": [
      "Score on 2D data: 0.96\n",
      "Score on 1D data (PCA): 0.96\n"
     ]
    }
   ],
   "source": [
    "from sklearn.decomposition import PCA\n",
    "\n",
    "X_train, X_test, y_train, y_test = train_test_split(np.vstack([x1, x2]).T, y)\n",
    "\n",
    "pca = PCA(n_components=1)\n",
    "X_pca_train = pca.fit_transform(X_train)\n",
    "X_pca_test = pca.transform(X_test)\n",
    "\n",
    "log_reg_pca = LogisticRegression(solver='lbfgs').fit(X_pca_train, y_train)\n",
    "\n",
    "print('Score on 2D data: %0.2f' % accuracy_score(y_test, log_reg_2d.predict(X_test)))\n",
    "print('Score on 1D data (PCA): %0.2f' % accuracy_score(y_test, log_reg_pca.predict(X_pca_test)))"
   ]
  },
  {
   "cell_type": "markdown",
   "metadata": {},
   "source": [
    "## Ensemble models\n",
    "\n",
    "We began the notebook by exploring feature extraction, which may involve applying complex algorithms to raw data to transform it into useful features for machine learning. An extension of this idea is to use machine learning models to construct features. This brings us to the idea of an _ensemble_ model, a model that uses the predictions of multiple estimators to make a final prediction.\n",
    "\n",
    "One example of an ensemble model is the _random forest_. A random forest model trains many decision trees on random pieces of the data and averages together their predictions. In a sense, the prediction of any individual tree becomes a feature in the final prediction."
   ]
  },
  {
   "cell_type": "code",
   "execution_count": 50,
   "metadata": {
    "ExecuteTime": {
     "end_time": "2019-08-27T13:56:54.155067Z",
     "start_time": "2019-08-27T13:56:54.130985Z"
    }
   },
   "outputs": [],
   "source": [
    "from sklearn.ensemble import RandomForestRegressor\n",
    "from sklearn.model_selection import GridSearchCV\n",
    "X_train, X_test, y_train, y_test = train_test_split(*shuffle(cali_df, cali_data.target), test_size=0.1)\n",
    "\n",
    "scaler = StandardScaler()\n",
    "X_train = scaler.fit_transform(X_train)"
   ]
  },
  {
   "cell_type": "code",
   "execution_count": 51,
   "metadata": {
    "ExecuteTime": {
     "end_time": "2019-08-27T13:57:41.978298Z",
     "start_time": "2019-08-27T13:56:55.638726Z"
    }
   },
   "outputs": [
    {
     "name": "stdout",
     "output_type": "stream",
     "text": [
      "{'max_features': 0.4}\n",
      "0.8250791066334573\n"
     ]
    }
   ],
   "source": [
    "model = RandomForestRegressor(n_estimators=50)\n",
    "\n",
    "gs = GridSearchCV(model,\n",
    "                  {'max_features': np.arange(.05, 1, .05)},\n",
    "                  cv=5,\n",
    "                  n_jobs=4,\n",
    "                  scoring='neg_mean_squared_error')\n",
    "\n",
    "gs.fit(X_train, y_train)\n",
    "\n",
    "model = gs.best_estimator_\n",
    "\n",
    "print(gs.best_params_)\n",
    "print(r2_score(y_test, model.predict(scaler.transform(X_test))))"
   ]
  },
  {
   "cell_type": "code",
   "execution_count": 52,
   "metadata": {
    "ExecuteTime": {
     "end_time": "2019-08-27T13:57:57.228961Z",
     "start_time": "2019-08-27T13:57:41.980338Z"
    }
   },
   "outputs": [
    {
     "name": "stdout",
     "output_type": "stream",
     "text": [
      "{'min_samples_leaf': 1}\n",
      "0.8240973632964643\n"
     ]
    }
   ],
   "source": [
    "gs = GridSearchCV(model,\n",
    "                  {'min_samples_leaf': np.arange(1, 50, 5)},\n",
    "                  cv=5,\n",
    "                  n_jobs=4,\n",
    "                  scoring='neg_mean_squared_error')\n",
    "\n",
    "gs.fit(X_train, y_train)\n",
    "\n",
    "model = gs.best_estimator_\n",
    "\n",
    "print(gs.best_params_)\n",
    "print(r2_score(y_test, model.predict(scaler.transform(X_test))))"
   ]
  },
  {
   "cell_type": "code",
   "execution_count": 53,
   "metadata": {
    "ExecuteTime": {
     "end_time": "2019-08-27T13:58:33.661972Z",
     "start_time": "2019-08-27T13:57:57.230817Z"
    }
   },
   "outputs": [
    {
     "name": "stdout",
     "output_type": "stream",
     "text": [
      "{'n_estimators': 200}\n",
      "0.8282433964186557\n"
     ]
    }
   ],
   "source": [
    "gs = GridSearchCV(model,\n",
    "                  {'n_estimators': np.arange(100, 301, 100)},\n",
    "                  cv=5,\n",
    "                  n_jobs=4,\n",
    "                  scoring='neg_mean_squared_error')\n",
    "\n",
    "gs.fit(X_train, y_train)\n",
    "\n",
    "model = gs.best_estimator_\n",
    "\n",
    "print(gs.best_params_)\n",
    "print(r2_score(y_test, model.predict(scaler.transform(X_test))))"
   ]
  },
  {
   "cell_type": "markdown",
   "metadata": {},
   "source": [
    "### Custom ensembles\n",
    "\n",
    "We can also create our own ensembles.\n",
    "\n",
    "This will involve some new tools, _pipelines_ and _feature unions_. Pipelines allow us to bundle a series of transformers and estimators. Feature unions all us to bundle parallel transformers.\n",
    "\n",
    "Remember that our ensemble is not meant to make predictions per se, but rather perform feature extraction, similar to a transformer. Therefore we need the estimators in our ensemble to implement a `transform` method instead of a `predict` method. We can make this modification using a simple custom class."
   ]
  },
  {
   "cell_type": "code",
   "execution_count": 54,
   "metadata": {
    "ExecuteTime": {
     "end_time": "2019-08-27T13:58:33.667587Z",
     "start_time": "2019-08-27T13:58:33.663753Z"
    }
   },
   "outputs": [],
   "source": [
    "from sklearn.base import BaseEstimator, TransformerMixin\n",
    "\n",
    "class EstTransformer(BaseEstimator, TransformerMixin):\n",
    "    def __init__(self, estimator):\n",
    "        self.estimator = estimator\n",
    "    \n",
    "    def fit(self, X, y):\n",
    "        self.estimator.fit(X, y)\n",
    "        return self\n",
    "\n",
    "    def transform(self, X):\n",
    "        return np.atleast_2d(self.estimator.predict(X)).T"
   ]
  },
  {
   "cell_type": "markdown",
   "metadata": {},
   "source": [
    "Now we can build a feature union that will use a decision tree regressor and a K-neighbors regressor in parallel to construct our ensemble features. Our pipeline will scale our raw features, pass them to the ensemble, and then make a final prediction using a simple linear regression to combine the ensemble predictions."
   ]
  },
  {
   "cell_type": "code",
   "execution_count": 55,
   "metadata": {
    "ExecuteTime": {
     "end_time": "2019-08-27T13:58:35.916139Z",
     "start_time": "2019-08-27T13:58:33.669369Z"
    }
   },
   "outputs": [
    {
     "name": "stdout",
     "output_type": "stream",
     "text": [
      "{'knn__n_neighbors': 10}\n",
      "0.6986686005892621\n"
     ]
    }
   ],
   "source": [
    "from sklearn.neighbors import KNeighborsRegressor\n",
    "from sklearn.pipeline import Pipeline\n",
    "\n",
    "X_train, X_test, y_train, y_test = train_test_split(*shuffle(cali_df, cali_data.target), test_size=0.1)\n",
    "\n",
    "knn = Pipeline([\n",
    "    ('scaler', StandardScaler()),\n",
    "    ('knn', KNeighborsRegressor())\n",
    "])\n",
    "\n",
    "gs = GridSearchCV(knn,\n",
    "                  {'knn__n_neighbors': range(5, 26, 5)},\n",
    "                  cv=5,\n",
    "                  n_jobs=4,\n",
    "                  scoring='neg_mean_squared_error')\n",
    "\n",
    "gs.fit(X_train, y_train)\n",
    "print(gs.best_params_)\n",
    "print(r2_score(y_test, gs.best_estimator_.predict(X_test)))"
   ]
  },
  {
   "cell_type": "code",
   "execution_count": 56,
   "metadata": {
    "ExecuteTime": {
     "end_time": "2019-08-27T13:58:37.268391Z",
     "start_time": "2019-08-27T13:58:35.918103Z"
    }
   },
   "outputs": [
    {
     "name": "stdout",
     "output_type": "stream",
     "text": [
      "0.7137235564697515\n"
     ]
    }
   ],
   "source": [
    "from sklearn.pipeline import FeatureUnion\n",
    "\n",
    "ensemble = FeatureUnion([\n",
    "    ('rf', EstTransformer(DecisionTreeRegressor(max_depth=5, min_samples_split=45))),\n",
    "    ('knn', EstTransformer(KNeighborsRegressor(n_neighbors=10)))\n",
    "])\n",
    "\n",
    "model = Pipeline([\n",
    "    ('scaler', StandardScaler()),\n",
    "    ('ensemble', ensemble),\n",
    "    ('combine', LinearRegression(fit_intercept=False))\n",
    "    ])\n",
    "\n",
    "model.fit(X_train, y_train)\n",
    "\n",
    "print(r2_score(y_test, model.predict(X_test)))"
   ]
  },
  {
   "cell_type": "code",
   "execution_count": null,
   "metadata": {},
   "outputs": [],
   "source": []
  }
 ],
 "metadata": {
  "hide_input": false,
  "kernelspec": {
   "display_name": "Python 3",
   "language": "python",
   "name": "python3"
  },
  "language_info": {
   "codemirror_mode": {
    "name": "ipython",
    "version": 3
   },
   "file_extension": ".py",
   "mimetype": "text/x-python",
   "name": "python",
   "nbconvert_exporter": "python",
   "pygments_lexer": "ipython3",
   "version": "3.7.3"
  },
  "nbclean": true,
  "toc": {
   "base_numbering": 1,
   "nav_menu": {},
   "number_sections": true,
   "sideBar": true,
   "skip_h1_title": false,
   "title_cell": "Table of Contents",
   "title_sidebar": "Contents",
   "toc_cell": false,
   "toc_position": {},
   "toc_section_display": true,
   "toc_window_display": false
  }
 },
 "nbformat": 4,
 "nbformat_minor": 1
}
