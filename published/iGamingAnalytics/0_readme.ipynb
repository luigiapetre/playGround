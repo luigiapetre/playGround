{
 "cells": [
  {
   "cell_type": "markdown",
   "metadata": {},
   "source": [
    "# Preliminaries\n",
    "I had to clean up the directories to try and minimize the space. If you would like to reproduce the notebooks, you will have:\n",
    "1. Create a foler *cleanedData*\n",
    "2. Extract all the contets of the zip files in dir *extraData*\n",
    "3. Unzip the folder *DS Task.zip*"
   ]
  },
  {
   "cell_type": "markdown",
   "metadata": {},
   "source": [
    "# Task\n",
    "Given the 3 datasets **(transactions, player_details, games)**, I was asked to provide insights that could improve business results. To answer this problem I put together 4 notebooks:\n",
    "## 1. **jpj_1_get_data**\n",
    "In this notebook, the datasets for cleaned and augmented. These are available in the directory *./cleanedData/*. In particular, the following was applied to the data:\n",
    "- Player Dataset: \n",
    "    - Renaming of 1 city from 'r\tejmyre' to 'rejmyre' as this resulted in an extended row.\n",
    "    - Adding of *city* and *country* information based on third-party datasets\n",
    "    - Addition of player age related features\n",
    "- Transaction Dataset:\n",
    "    - All 3 csv files were aggregated\n",
    "    - Conversion of FX to EUR\n",
    "    - Addition of time features\n",
    "- Games Data:\n",
    "    - No alterations were made to the dataset\n",
    "\n",
    "## 2. **jpj_2_viz_data**\n",
    "In this notebook, some investigative EDA was done and plots produced with possible ideas which could provide added value. In particular, the following were investigated:\n",
    "1. Daily Volumes,\n",
    "2. Busiest game types, and\n",
    "3. Age of active players and their playing habits\n",
    "    \n",
    "From this EDA it was thus decided to try and model **Early Player Classification**.\n",
    "\n",
    "\n",
    "## 3. **jpj_3_player_classification_data_prep**\n",
    "In this notebook, a dataset for the different players was created with features relating to:\n",
    "- Geographic & Demographic Traits,\n",
    "- Behavioral Traits, and\n",
    "- Value Traits\n",
    "\n",
    "The final dataset had *17313* rows, i.e. different player profiles\n",
    "    \n",
    "\n",
    "## 4. **jpj_4_early_player_classification_modelling**\n",
    "In this final notebook I proceed as follows:\n",
    "1. **Creation of player clusters:** Using *sklearn*'s implementation of *k-means*, produced clusters grouping different players. These differnet players where characterised via a Silhouette Coefficient (SC), and together with the cluster mean and St.Dev, the optimal number of clusters was identified\n",
    "\n",
    "2. **Considered the player morphology within the clusters:**\n",
    "    - Produced radar charts with the different features at the different angle to help classify the differnt players.\n",
    "    - Visualisation of the clustering with TSNE\n",
    "    \n",
    "3. **Build a Classification model:** Based on the cluster I went ahead and tested a group of potential models, namely (Precision):\n",
    "    - Support Vector Machine Classifier (SVC) (98.49%)\n",
    "    - Logistic Regression (LR) (98.72%)\n",
    "    - k-Nearest Neighbours (KNN) (97.43%)\n",
    "    - Decision Tree (TR) (89.35%)\n",
    "    - Random Forest Classifier (RF) (98.97%)\n",
    "    - Gradient Boost (GB) (99.42%)\n",
    "    - Ensemble model combining GB, RF, LR, SVC via SoftVoting\n",
    "    \n",
    "    To do this I split the dataset into 3 datasets as follows:\n",
    "        1. 10% = *X,Y_validation* to check inference once modelling is complete\n",
    "        2. 90% * 80% = *X,Y_train* Training dataset\n",
    "        3. 90% * 20% = *X,Y_testing* Testing dataset\n",
    "    \n",
    "4. **Prediction on a Validation Dataset:** The models above are validated against *X,Y_validation*. The resulting model output precisiont where:\n",
    "\n",
    "Model | Precision\n",
    "--- | --- \n",
    "Support Vector Machine|98.50%\n",
    "Logistic Regression|98.96%\n",
    "k-Nearest Neighbors|97.75%\n",
    "Decision Tree|90.01%\n",
    "Random Forest|98.73%\n",
    "Gradient Boosting|99.25%\n",
    "Voting Classifier|99.19%\n"
   ]
  },
  {
   "cell_type": "code",
   "execution_count": null,
   "metadata": {},
   "outputs": [],
   "source": []
  }
 ],
 "metadata": {
  "kernelspec": {
   "display_name": "Python 3",
   "language": "python",
   "name": "python3"
  },
  "language_info": {
   "codemirror_mode": {
    "name": "ipython",
    "version": 3
   },
   "file_extension": ".py",
   "mimetype": "text/x-python",
   "name": "python",
   "nbconvert_exporter": "python",
   "pygments_lexer": "ipython3",
   "version": "3.6.6"
  }
 },
 "nbformat": 4,
 "nbformat_minor": 2
}
