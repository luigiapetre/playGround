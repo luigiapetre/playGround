{
 "cells": [
  {
   "cell_type": "markdown",
   "metadata": {},
   "source": [
    "# Portfolio Optimization using Markowitz Efficiency Frontier\n",
    "[Harry Markowitz](https://en.wikipedia.org/wiki/Harry_Markowitz)’s contribution to the world of finance and economics cannot be emphasized enough. He is widely regarded as the pioneer of [Modern Portfolio Theory (MPT)](https://en.wikipedia.org/wiki/Modern_portfolio_theory) with his groundbreaking paper [“Portfolio Selection”](https://www.math.ust.hk/~maykwok/courses/ma362/07F/markowitz_JF.pdf) in 1952. He eventually won a Nobel Memorial Prize in 1990 in Economic Sciences for his contribution to the field. MPT is taught around the world in practically every business/finance class. \n",
    "\n",
    "In this notebook, I put together an app which calculates the Markowitz's Efficiency Frontier. To do this,\n",
    "1. I start off by connecting to **quandl** api to get ticker information. At the time of writing this, the data source refresh was terminated till 2018-02-17, so I fixed the date as at 2018-02-17 to obtain end of day stock prices.\n",
    "2. Once data is available in a dataframe, I went ahead and created the function **effFrontierSim** to perform the portfolio simulation based on the number of experiments $(NumPortfolios)$ and the number of years backwards $(NumYears)$.\n",
    "3. Once simulation is done, I packaged everything inside of an app which calls back **effFrontierSim** based on the selection on ticklist of tickers. The app has produces 4 outputs:\n",
    "    1. LEFT: The Markowitz's Efficiency plot of return vs volatilty\n",
    "    2. TOP RIGHT: Covariance of returnd on the selection of socks\n",
    "    3. BOTTOM RIGHT: Max Return Portfolio and Min Volatility Portfolio\n",
    "\n",
    "Code to reproduce the app is [here](https://github.com/zerafachris/playGround/blob/master/published/EFT/eft_app.py) and a snapshot for the app:\n",
    "![MarkowitzEfficiencyFrontier](https://github.com/zerafachris/playGround/blob/master/published/EFT/app_screenshot.PNG?raw=true)"
   ]
  },
  {
   "cell_type": "code",
   "execution_count": null,
   "metadata": {},
   "outputs": [],
   "source": []
  }
 ],
 "metadata": {
  "kernelspec": {
   "display_name": "Python 3",
   "language": "python",
   "name": "python3"
  },
  "language_info": {
   "codemirror_mode": {
    "name": "ipython",
    "version": 3
   },
   "file_extension": ".py",
   "mimetype": "text/x-python",
   "name": "python",
   "nbconvert_exporter": "python",
   "pygments_lexer": "ipython3",
   "version": "3.6.6"
  }
 },
 "nbformat": 4,
 "nbformat_minor": 2
}
