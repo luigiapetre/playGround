{
 "cells": [
  {
   "cell_type": "markdown",
   "metadata": {},
   "source": [
    "# API details\n",
    "API details and usage can be find [here](http://zerafachris.pythonanywhere.com/).\n",
    "\n",
    "# Import packages"
   ]
  },
  {
   "cell_type": "code",
   "execution_count": null,
   "metadata": {},
   "outputs": [],
   "source": [
    "!pip install termcolor"
   ]
  },
  {
   "cell_type": "code",
   "execution_count": 1,
   "metadata": {
    "ExecuteTime": {
     "end_time": "2019-12-31T23:26:20.416216Z",
     "start_time": "2019-12-31T23:26:20.253288Z"
    }
   },
   "outputs": [],
   "source": [
    "from termcolor import colored\n",
    "from requests import get\n",
    "from urllib.parse import quote"
   ]
  },
  {
   "cell_type": "markdown",
   "metadata": {},
   "source": [
    "# Define main methods and other helper functions"
   ]
  },
  {
   "cell_type": "code",
   "execution_count": 5,
   "metadata": {
    "ExecuteTime": {
     "end_time": "2020-01-02T17:55:42.636195Z",
     "start_time": "2020-01-02T17:55:42.628702Z"
    }
   },
   "outputs": [],
   "source": [
    "def boldText(text):\n",
    "    return '\\033[1m '+text+'\\033[0;0m'\n",
    "\n",
    "\n",
    "def colouredOutput(sentiment):\n",
    "    from termcolor import colored\n",
    "    if sentiment == 'Positive':\n",
    "        return colored(sentiment, 'green')\n",
    "    elif sentiment == 'Negative':\n",
    "        return colored(sentiment, 'red')\n",
    "    else:\n",
    "        return colored(sentiment, 'yellow')\n",
    "\n",
    "\n",
    "def sentimentFromWebAPP(in_sentence):\n",
    "    from requests import get\n",
    "    from urllib.parse import quote\n",
    "    import json\n",
    "    import ast\n",
    "    # in_sentence = 'this is an awesome webapp'\n",
    "    response = get(\n",
    "        'http://zerafachris.pythonanywhere.com/sentiment-analysis-tfidf-lr/{}'.format(quote(in_sentence)))\n",
    "    try:\n",
    "        response_dict = ast.literal_eval(json.loads(response.content))\n",
    "        print('{}:\\n    {}'.format(boldText('Input'), in_sentence))\n",
    "        print('')\n",
    "        print('{}:       {}'.format(boldText('Sentiment'), boldText(colouredOutput(response_dict['prediction_label']))))\n",
    "        print('{}:  {}'.format(boldText('Language Source'), response_dict['lang_source']))\n",
    "        print('{}:      {}'.format(boldText('Translation'), response_dict['translated_review']))\n",
    "        print('{}:         {}'.format(boldText('Response'), response_dict))\n",
    "    except:\n",
    "        sentiment = 'Failed request : {}'.format(response)"
   ]
  },
  {
   "cell_type": "code",
   "execution_count": 6,
   "metadata": {
    "ExecuteTime": {
     "end_time": "2020-01-02T17:55:56.628183Z",
     "start_time": "2020-01-02T17:55:42.957946Z"
    }
   },
   "outputs": [
    {
     "name": "stdout",
     "output_type": "stream",
     "text": [
      "\u001b[1m Input\u001b[0;0m:\n",
      "    This is an awesome application. I really like it.\n",
      "\n",
      "\u001b[1m Sentiment\u001b[0;0m:       \u001b[1m \u001b[32mPositive\u001b[0m\u001b[0;0m\n",
      "\u001b[1m Language Source\u001b[0;0m:  en\n",
      "\u001b[1m Translation\u001b[0;0m:      This is an awesome application. I really like it.\n",
      "\u001b[1m Response\u001b[0;0m:         {'prediction': '1', 'prediction_label': 'Positive', 'lang_source': 'en', 'translated_review': 'This is an awesome application. I really like it.'}\n"
     ]
    }
   ],
   "source": [
    "sentimentFromWebAPP('This is an awesome application. I really like it.')"
   ]
  },
  {
   "cell_type": "markdown",
   "metadata": {},
   "source": [
    "# The app also tries to get the sentiment if the language is not English"
   ]
  },
  {
   "cell_type": "code",
   "execution_count": 7,
   "metadata": {
    "ExecuteTime": {
     "end_time": "2020-01-02T17:56:07.677449Z",
     "start_time": "2020-01-02T17:55:56.630818Z"
    }
   },
   "outputs": [
    {
     "name": "stdout",
     "output_type": "stream",
     "text": [
      "\u001b[1m Input\u001b[0;0m:\n",
      "    Esta es una aplicación asombrosa. Me gusta mucho.\n",
      "\n",
      "\u001b[1m Sentiment\u001b[0;0m:       \u001b[1m \u001b[32mPositive\u001b[0m\u001b[0;0m\n",
      "\u001b[1m Language Source\u001b[0;0m:  es\n",
      "\u001b[1m Translation\u001b[0;0m:      This is an amazing application. I like very much.\n",
      "\u001b[1m Response\u001b[0;0m:         {'prediction': '1', 'prediction_label': 'Positive', 'lang_source': 'es', 'translated_review': 'This is an amazing application. I like very much.'}\n"
     ]
    }
   ],
   "source": [
    "sentimentFromWebAPP('Esta es una aplicación asombrosa. Me gusta mucho.')"
   ]
  },
  {
   "cell_type": "code",
   "execution_count": 8,
   "metadata": {
    "ExecuteTime": {
     "end_time": "2020-01-02T17:56:28.434767Z",
     "start_time": "2020-01-02T17:56:13.228155Z"
    }
   },
   "outputs": [
    {
     "name": "stdout",
     "output_type": "stream",
     "text": [
      "\u001b[1m Input\u001b[0;0m:\n",
      "    To niesamowita aplikacja. Naprawdę to lubie.\n",
      "\n",
      "\u001b[1m Sentiment\u001b[0;0m:       \u001b[1m \u001b[32mPositive\u001b[0m\u001b[0;0m\n",
      "\u001b[1m Language Source\u001b[0;0m:  pl\n",
      "\u001b[1m Translation\u001b[0;0m:      This is an amazing application. I like really.\n",
      "\u001b[1m Response\u001b[0;0m:         {'prediction': '1', 'prediction_label': 'Positive', 'lang_source': 'pl', 'translated_review': 'This is an amazing application. I like really.'}\n"
     ]
    }
   ],
   "source": [
    "sentimentFromWebAPP('To niesamowita aplikacja. Naprawdę to lubie.')"
   ]
  },
  {
   "cell_type": "code",
   "execution_count": 9,
   "metadata": {
    "ExecuteTime": {
     "end_time": "2020-01-02T17:56:46.271796Z",
     "start_time": "2020-01-02T17:56:33.406499Z"
    }
   },
   "outputs": [
    {
     "name": "stdout",
     "output_type": "stream",
     "text": [
      "\u001b[1m Input\u001b[0;0m:\n",
      "    これは素晴らしいアプリケーションです。私は本当にそれが好き。\n",
      "\n",
      "\u001b[1m Sentiment\u001b[0;0m:       \u001b[1m \u001b[32mPositive\u001b[0m\u001b[0;0m\n",
      "\u001b[1m Language Source\u001b[0;0m:  ja\n",
      "\u001b[1m Translation\u001b[0;0m:      This is a great application. I really liked it.\n",
      "\u001b[1m Response\u001b[0;0m:         {'prediction': '1', 'prediction_label': 'Positive', 'lang_source': 'ja', 'translated_review': 'This is a great application. I really liked it.'}\n"
     ]
    }
   ],
   "source": [
    "sentimentFromWebAPP('これは素晴らしいアプリケーションです。私は本当にそれが好き。')"
   ]
  },
  {
   "cell_type": "code",
   "execution_count": 10,
   "metadata": {
    "ExecuteTime": {
     "end_time": "2020-01-02T17:57:14.414380Z",
     "start_time": "2020-01-02T17:57:02.891350Z"
    }
   },
   "outputs": [
    {
     "name": "stdout",
     "output_type": "stream",
     "text": [
      "\u001b[1m Input\u001b[0;0m:\n",
      "    Dies ist eine großartige Anwendung. Ich mag es wirklich.\n",
      "\n",
      "\u001b[1m Sentiment\u001b[0;0m:       \u001b[1m \u001b[32mPositive\u001b[0m\u001b[0;0m\n",
      "\u001b[1m Language Source\u001b[0;0m:  de\n",
      "\u001b[1m Translation\u001b[0;0m:      This is a great application. I really like it.\n",
      "\u001b[1m Response\u001b[0;0m:         {'prediction': '1', 'prediction_label': 'Positive', 'lang_source': 'de', 'translated_review': 'This is a great application. I really like it.'}\n"
     ]
    }
   ],
   "source": [
    "sentimentFromWebAPP('Dies ist eine großartige Anwendung. Ich mag es wirklich.')"
   ]
  },
  {
   "cell_type": "code",
   "execution_count": null,
   "metadata": {},
   "outputs": [],
   "source": []
  }
 ],
 "metadata": {
  "hide_input": false,
  "kernelspec": {
   "display_name": "Python 3",
   "language": "python",
   "name": "python3"
  },
  "language_info": {
   "codemirror_mode": {
    "name": "ipython",
    "version": 3
   },
   "file_extension": ".py",
   "mimetype": "text/x-python",
   "name": "python",
   "nbconvert_exporter": "python",
   "pygments_lexer": "ipython3",
   "version": "3.7.5"
  },
  "toc": {
   "base_numbering": 1,
   "nav_menu": {},
   "number_sections": true,
   "sideBar": true,
   "skip_h1_title": false,
   "title_cell": "Table of Contents",
   "title_sidebar": "Contents",
   "toc_cell": false,
   "toc_position": {},
   "toc_section_display": true,
   "toc_window_display": false
  }
 },
 "nbformat": 4,
 "nbformat_minor": 2
}
