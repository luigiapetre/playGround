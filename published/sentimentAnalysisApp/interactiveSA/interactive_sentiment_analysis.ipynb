{
 "cells": [
  {
   "cell_type": "markdown",
   "metadata": {},
   "source": [
    "# API details\n",
    "API details and usage can be find [here](http://zerafachris.pythonanywhere.com/).\n",
    "\n",
    "# Import packages"
   ]
  },
  {
   "cell_type": "code",
   "execution_count": 1,
   "metadata": {
    "ExecuteTime": {
     "end_time": "2019-12-31T23:26:20.416216Z",
     "start_time": "2019-12-31T23:26:20.253288Z"
    }
   },
   "outputs": [],
   "source": [
    "from termcolor import colored\n",
    "from requests import get\n",
    "from urllib.parse import quote"
   ]
  },
  {
   "cell_type": "markdown",
   "metadata": {},
   "source": [
    "# Input your comment"
   ]
  },
  {
   "cell_type": "code",
   "execution_count": 2,
   "metadata": {
    "ExecuteTime": {
     "end_time": "2019-12-31T23:26:24.009471Z",
     "start_time": "2019-12-31T23:26:20.418230Z"
    }
   },
   "outputs": [
    {
     "name": "stdout",
     "output_type": "stream",
     "text": [
      "din hija applikazzjoni vera tajba\n"
     ]
    }
   ],
   "source": [
    "# Input your sentiment of the notebook\n",
    "in_sentence=input()"
   ]
  },
  {
   "cell_type": "markdown",
   "metadata": {},
   "source": [
    "# Call the webapp and get the sentiment"
   ]
  },
  {
   "cell_type": "code",
   "execution_count": 53,
   "metadata": {
    "ExecuteTime": {
     "end_time": "2019-12-31T23:44:42.933216Z",
     "start_time": "2019-12-31T23:44:33.741049Z"
    }
   },
   "outputs": [
    {
     "name": "stdout",
     "output_type": "stream",
     "text": [
      "\u001b[1m Input\u001b[0;0m:\n",
      "    din hija applikazzjoni vera tajba\n",
      "\n",
      "\u001b[1m Sentiment\u001b[0;0m:      \u001b[1m \u001b[32mPositive\u001b[0m\u001b[0;0m\n",
      "\u001b[1m Language Source\u001b[0;0m:  mt\n",
      "\u001b[1m Translation\u001b[0;0m:      this is a real good application\n",
      "\u001b[1m Response\u001b[0;0m:         {'prediction': '1', 'prediction_label': 'Positive', 'lang_source': 'mt', 'translated_review': 'this is a real good application'}\n"
     ]
    }
   ],
   "source": [
    "def boldText(text):\n",
    "    return '\\033[1m '+text+'\\033[0;0m'\n",
    "\n",
    "\n",
    "def colouredOutput(sentiment):\n",
    "    from termcolor import colored\n",
    "    if sentiment == 'Positive':\n",
    "        return colored(sentiment, 'green')\n",
    "    elif sentiment == 'Negative':\n",
    "        return colored(sentiment, 'red')\n",
    "    else:\n",
    "        return colored(sentiment, 'yellow')\n",
    "\n",
    "\n",
    "def sentimentFromWebAPP(in_sentence):\n",
    "    from requests import get\n",
    "    from urllib.parse import quote\n",
    "    import json\n",
    "    import ast\n",
    "    # in_sentence = 'this is an awesome webapp'\n",
    "    response = get(\n",
    "        'http://zerafachris.pythonanywhere.com/sentiment-analysis-tfidf-lr/{}'.format(quote(in_sentence)))\n",
    "    try:\n",
    "        response_dict = ast.literal_eval(json.loads(response.content))\n",
    "        print('{}:\\n    {}'.format(boldText('Input'), in_sentence))\n",
    "        print('')\n",
    "        print('{}:      {}'.format(boldText('Sentiment'), boldText(colouredOutput(response_dict['prediction_label']))))\n",
    "        print('{}:  {}'.format(boldText('Language Source'), response_dict['lang_source']))\n",
    "        print('{}:      {}'.format(boldText('Translation'), response_dict['translated_review']))\n",
    "        print('{}:         {}'.format(boldText('Response'), response_dict))\n",
    "    except:\n",
    "        sentiment = 'Failed request : {}'.format(response)\n",
    "\n",
    "\n",
    "sentimentFromWebAPP(in_sentence)"
   ]
  },
  {
   "cell_type": "code",
   "execution_count": null,
   "metadata": {},
   "outputs": [],
   "source": []
  }
 ],
 "metadata": {
  "hide_input": false,
  "kernelspec": {
   "display_name": "Python 3",
   "language": "python",
   "name": "python3"
  },
  "language_info": {
   "codemirror_mode": {
    "name": "ipython",
    "version": 3
   },
   "file_extension": ".py",
   "mimetype": "text/x-python",
   "name": "python",
   "nbconvert_exporter": "python",
   "pygments_lexer": "ipython3",
   "version": "3.7.5"
  },
  "toc": {
   "base_numbering": 1,
   "nav_menu": {},
   "number_sections": true,
   "sideBar": true,
   "skip_h1_title": false,
   "title_cell": "Table of Contents",
   "title_sidebar": "Contents",
   "toc_cell": false,
   "toc_position": {},
   "toc_section_display": true,
   "toc_window_display": false
  }
 },
 "nbformat": 4,
 "nbformat_minor": 2
}
