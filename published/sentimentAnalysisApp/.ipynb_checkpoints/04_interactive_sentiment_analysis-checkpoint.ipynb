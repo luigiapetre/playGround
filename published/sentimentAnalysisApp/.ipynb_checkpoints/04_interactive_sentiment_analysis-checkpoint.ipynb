{
 "cells": [
  {
   "cell_type": "markdown",
   "metadata": {},
   "source": [
    "# API details\n",
    "API details and usage can be find [here](http://zerafachris.pythonanywhere.com/).\n",
    "\n",
    "# Import packages"
   ]
  },
  {
   "cell_type": "code",
   "execution_count": 20,
   "metadata": {
    "ExecuteTime": {
     "end_time": "2019-12-31T17:43:32.753920Z",
     "start_time": "2019-12-31T17:43:32.750989Z"
    }
   },
   "outputs": [],
   "source": [
    "from termcolor import colored\n",
    "from requests import get\n",
    "from urllib.parse import quote"
   ]
  },
  {
   "cell_type": "markdown",
   "metadata": {},
   "source": [
    "# Input your comment"
   ]
  },
  {
   "cell_type": "code",
   "execution_count": 21,
   "metadata": {
    "ExecuteTime": {
     "end_time": "2019-12-31T17:43:40.564308Z",
     "start_time": "2019-12-31T17:43:32.756014Z"
    }
   },
   "outputs": [
    {
     "name": "stdout",
     "output_type": "stream",
     "text": [
      "This is something really cool!\n"
     ]
    }
   ],
   "source": [
    "# Input your sentiment of the notebook\n",
    "in_sentence=input()"
   ]
  },
  {
   "cell_type": "markdown",
   "metadata": {},
   "source": [
    "# Call the webapp and get the sentiment"
   ]
  },
  {
   "cell_type": "code",
   "execution_count": 22,
   "metadata": {
    "ExecuteTime": {
     "end_time": "2019-12-31T17:43:41.176201Z",
     "start_time": "2019-12-31T17:43:40.566452Z"
    }
   },
   "outputs": [
    {
     "name": "stdout",
     "output_type": "stream",
     "text": [
      "\u001b[1m Input\u001b[0;0m:\n",
      "    This is something really cool!\n",
      "\u001b[1m Sentiment\u001b[0;0m:\n",
      "    \u001b[33mFailed request : <Response [500]>\u001b[0m\n"
     ]
    }
   ],
   "source": [
    "def boldText(text):\n",
    "    return '\\033[1m '+text+'\\033[0;0m'\n",
    "\n",
    "\n",
    "def colouredOutput(sentiment):\n",
    "    from termcolor import colored\n",
    "    if sentiment == 'Positive':\n",
    "        return colored(sentiment, 'green')\n",
    "    elif sentiment == 'Negative':\n",
    "        return colored(sentiment, 'red')\n",
    "    else:\n",
    "        return colored(sentiment, 'yellow')\n",
    "\n",
    "\n",
    "def sentimentFromWebAPP(in_sentence):\n",
    "    from requests import get\n",
    "    from urllib.parse import quote\n",
    "    # in_sentence = 'this is an awesome webapp'\n",
    "    response = get(\n",
    "        'http://zerafachris.pythonanywhere.com/sentiment-analysis-tfidf-lr/{}'.format(quote(in_sentence)))    \n",
    "    try:\n",
    "        sentiment = response['prediction_label']\n",
    "    except:\n",
    "        sentiment = 'Failed request : {}'.format(response)\n",
    "    print('{}:\\n    {}'.format(boldText('Input'), in_sentence))\n",
    "    print('{}:\\n    {}'.format(boldText('Sentiment'), colouredOutput(sentiment)))\n",
    "\n",
    "\n",
    "sentimentFromWebAPP(in_sentence)"
   ]
  },
  {
   "cell_type": "code",
   "execution_count": null,
   "metadata": {},
   "outputs": [],
   "source": []
  }
 ],
 "metadata": {
  "hide_input": false,
  "kernelspec": {
   "display_name": "Python 3",
   "language": "python",
   "name": "python3"
  },
  "language_info": {
   "codemirror_mode": {
    "name": "ipython",
    "version": 3
   },
   "file_extension": ".py",
   "mimetype": "text/x-python",
   "name": "python",
   "nbconvert_exporter": "python",
   "pygments_lexer": "ipython3",
   "version": "3.7.5"
  },
  "toc": {
   "base_numbering": 1,
   "nav_menu": {},
   "number_sections": true,
   "sideBar": true,
   "skip_h1_title": false,
   "title_cell": "Table of Contents",
   "title_sidebar": "Contents",
   "toc_cell": false,
   "toc_position": {},
   "toc_section_display": true,
   "toc_window_display": false
  }
 },
 "nbformat": 4,
 "nbformat_minor": 2
}
