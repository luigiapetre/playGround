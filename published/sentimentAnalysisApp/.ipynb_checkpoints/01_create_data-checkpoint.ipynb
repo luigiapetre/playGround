{
 "cells": [
  {
   "cell_type": "code",
   "execution_count": 36,
   "metadata": {
    "ExecuteTime": {
     "end_time": "2019-12-26T16:45:22.173610Z",
     "start_time": "2019-12-26T16:45:22.170374Z"
    }
   },
   "outputs": [],
   "source": [
    "import pandas as pd\n",
    "import os\n",
    "import tarfile\n",
    "import urllib\n",
    "import glob\n",
    "import re \n",
    "from sklearn.model_selection import train_test_split\n",
    "import shutil"
   ]
  },
  {
   "cell_type": "code",
   "execution_count": 37,
   "metadata": {
    "ExecuteTime": {
     "end_time": "2019-12-26T16:45:22.633484Z",
     "start_time": "2019-12-26T16:45:22.630451Z"
    }
   },
   "outputs": [
    {
     "name": "stdout",
     "output_type": "stream",
     "text": [
      "\"/data\" directory already exists\n"
     ]
    }
   ],
   "source": [
    "try:\n",
    "    os.mkdir('./data')\n",
    "except:\n",
    "    print('\"/data\" directory already exists')"
   ]
  },
  {
   "cell_type": "code",
   "execution_count": 38,
   "metadata": {
    "ExecuteTime": {
     "end_time": "2019-12-26T16:45:23.292736Z",
     "start_time": "2019-12-26T16:45:23.289773Z"
    }
   },
   "outputs": [
    {
     "name": "stdout",
     "output_type": "stream",
     "text": [
      "\"aclImdb_v1.tar.gz\" is already downloaded\n"
     ]
    }
   ],
   "source": [
    "if os.path.exists('./data/aclImdb_v1.tar.gz'):\n",
    "    print('\"aclImdb_v1.tar.gz\" is already downloaded')\n",
    "else:\n",
    "    print('Downloading tar.gz')\n",
    "    urllib.request.urlretrieve('https://ai.stanford.edu/~amaas/data/sentiment/aclImdb_v1.tar.gz','./data/aclImdb_v1.tar.gz')"
   ]
  },
  {
   "cell_type": "code",
   "execution_count": 35,
   "metadata": {
    "ExecuteTime": {
     "end_time": "2019-12-26T16:45:06.519151Z",
     "start_time": "2019-12-26T16:45:06.506481Z"
    }
   },
   "outputs": [
    {
     "name": "stdout",
     "output_type": "stream",
     "text": [
      "\"aclImdb\" directory already exists\n"
     ]
    },
    {
     "ename": "OSError",
     "evalue": "[Errno 66] Directory not empty: './data/aclImdb'",
     "output_type": "error",
     "traceback": [
      "\u001b[0;31m---------------------------------------------------------------------------\u001b[0m",
      "\u001b[0;31mOSError\u001b[0m                                   Traceback (most recent call last)",
      "\u001b[0;32m<ipython-input-35-cf5cf49f07a0>\u001b[0m in \u001b[0;36m<module>\u001b[0;34m\u001b[0m\n\u001b[1;32m      1\u001b[0m \u001b[0;32mif\u001b[0m \u001b[0mos\u001b[0m\u001b[0;34m.\u001b[0m\u001b[0mpath\u001b[0m\u001b[0;34m.\u001b[0m\u001b[0mexists\u001b[0m\u001b[0;34m(\u001b[0m\u001b[0;34m'./data/aclImdb'\u001b[0m\u001b[0;34m)\u001b[0m\u001b[0;34m:\u001b[0m\u001b[0;34m\u001b[0m\u001b[0;34m\u001b[0m\u001b[0m\n\u001b[1;32m      2\u001b[0m     \u001b[0mprint\u001b[0m\u001b[0;34m(\u001b[0m\u001b[0;34m'\"aclImdb\" directory already exists'\u001b[0m\u001b[0;34m)\u001b[0m\u001b[0;34m\u001b[0m\u001b[0;34m\u001b[0m\u001b[0m\n\u001b[0;32m----> 3\u001b[0;31m     \u001b[0mos\u001b[0m\u001b[0;34m.\u001b[0m\u001b[0mrmdir\u001b[0m\u001b[0;34m(\u001b[0m\u001b[0;34m'./data/aclImdb'\u001b[0m\u001b[0;34m)\u001b[0m\u001b[0;34m\u001b[0m\u001b[0;34m\u001b[0m\u001b[0m\n\u001b[0m\u001b[1;32m      4\u001b[0m     \u001b[0mprint\u001b[0m\u001b[0;34m(\u001b[0m\u001b[0;34m'\"aclImdb\" directory removed'\u001b[0m\u001b[0;34m)\u001b[0m\u001b[0;34m\u001b[0m\u001b[0;34m\u001b[0m\u001b[0m\n\u001b[1;32m      5\u001b[0m \u001b[0mtar\u001b[0m \u001b[0;34m=\u001b[0m \u001b[0mtarfile\u001b[0m\u001b[0;34m.\u001b[0m\u001b[0mopen\u001b[0m\u001b[0;34m(\u001b[0m\u001b[0;34m'./data/aclImdb_v1.tar.gz'\u001b[0m\u001b[0;34m,\u001b[0m \u001b[0;34m\"r:gz\"\u001b[0m\u001b[0;34m)\u001b[0m\u001b[0;34m\u001b[0m\u001b[0;34m\u001b[0m\u001b[0m\n",
      "\u001b[0;31mOSError\u001b[0m: [Errno 66] Directory not empty: './data/aclImdb'"
     ]
    }
   ],
   "source": [
    "if os.path.exists('./data/aclImdb'):\n",
    "    print('\"aclImdb\" directory already exists')\n",
    "    os.rmdir('./data/aclImdb')\n",
    "    print('\"aclImdb\" directory removed')\n",
    "tar = tarfile.open('./data/aclImdb_v1.tar.gz', \"r:gz\")\n",
    "tar.extractall('./data')\n",
    "tar.close()\n",
    "print('\"aclImdb\" extracted')"
   ]
  },
  {
   "cell_type": "code",
   "execution_count": 39,
   "metadata": {
    "ExecuteTime": {
     "end_time": "2019-12-26T16:45:50.943595Z",
     "start_time": "2019-12-26T16:45:36.482158Z"
    }
   },
   "outputs": [],
   "source": [
    "data_path = './data/aclImdb'\n",
    "\n",
    "train_test = ['train','test']\n",
    "sentiment = ['neg','pos']\n",
    "data_id = []\n",
    "data_review = []\n",
    "data_sentiment = []\n",
    "for tt in train_test:\n",
    "    for sent in sentiment:\n",
    "        txt_files = [os.path.join(data_path,tt,sent, file) for file in os.listdir(os.path.join(data_path,tt,sent)) if file[-4:] == '.txt']\n",
    "        for file in txt_files:\n",
    "            with open(file,'r') as f:\n",
    "                data_id.append(file.split('/')[4]+'_'+file.split('/')[5])\n",
    "                data_review.append(f.readlines())\n",
    "                data_sentiment.append(sent)"
   ]
  },
  {
   "cell_type": "code",
   "execution_count": 40,
   "metadata": {
    "ExecuteTime": {
     "end_time": "2019-12-26T16:45:55.192425Z",
     "start_time": "2019-12-26T16:45:50.945316Z"
    }
   },
   "outputs": [
    {
     "name": "stdout",
     "output_type": "stream",
     "text": [
      "(50000, 4)\n"
     ]
    },
    {
     "data": {
      "text/html": [
       "<div>\n",
       "<style scoped>\n",
       "    .dataframe tbody tr th:only-of-type {\n",
       "        vertical-align: middle;\n",
       "    }\n",
       "\n",
       "    .dataframe tbody tr th {\n",
       "        vertical-align: top;\n",
       "    }\n",
       "\n",
       "    .dataframe thead th {\n",
       "        text-align: right;\n",
       "    }\n",
       "</style>\n",
       "<table border=\"1\" class=\"dataframe\">\n",
       "  <thead>\n",
       "    <tr style=\"text-align: right;\">\n",
       "      <th></th>\n",
       "      <th>file_id</th>\n",
       "      <th>review</th>\n",
       "      <th>sentiment</th>\n",
       "      <th>polarity</th>\n",
       "    </tr>\n",
       "  </thead>\n",
       "  <tbody>\n",
       "    <tr>\n",
       "      <th>0</th>\n",
       "      <td>pos_3317_10.txt</td>\n",
       "      <td>Bette Midler is again Divine Raunchily humoro...</td>\n",
       "      <td>pos</td>\n",
       "      <td>1</td>\n",
       "    </tr>\n",
       "    <tr>\n",
       "      <th>1</th>\n",
       "      <td>pos_1999_7.txt</td>\n",
       "      <td>This movie coming from Turkey where you can t...</td>\n",
       "      <td>pos</td>\n",
       "      <td>1</td>\n",
       "    </tr>\n",
       "    <tr>\n",
       "      <th>2</th>\n",
       "      <td>neg_12174_3.txt</td>\n",
       "      <td>I am utterly astonished at how over rated Cem...</td>\n",
       "      <td>neg</td>\n",
       "      <td>0</td>\n",
       "    </tr>\n",
       "    <tr>\n",
       "      <th>3</th>\n",
       "      <td>neg_3255_2.txt</td>\n",
       "      <td>This movie sucks It s horrible If anyone like...</td>\n",
       "      <td>neg</td>\n",
       "      <td>0</td>\n",
       "    </tr>\n",
       "    <tr>\n",
       "      <th>4</th>\n",
       "      <td>neg_9314_4.txt</td>\n",
       "      <td>Well overall this movie was pretty much worth...</td>\n",
       "      <td>neg</td>\n",
       "      <td>0</td>\n",
       "    </tr>\n",
       "  </tbody>\n",
       "</table>\n",
       "</div>"
      ],
      "text/plain": [
       "           file_id                                             review  \\\n",
       "0  pos_3317_10.txt   Bette Midler is again Divine Raunchily humoro...   \n",
       "1   pos_1999_7.txt   This movie coming from Turkey where you can t...   \n",
       "2  neg_12174_3.txt   I am utterly astonished at how over rated Cem...   \n",
       "3   neg_3255_2.txt   This movie sucks It s horrible If anyone like...   \n",
       "4   neg_9314_4.txt   Well overall this movie was pretty much worth...   \n",
       "\n",
       "  sentiment  polarity  \n",
       "0       pos         1  \n",
       "1       pos         1  \n",
       "2       neg         0  \n",
       "3       neg         0  \n",
       "4       neg         0  "
      ]
     },
     "execution_count": 40,
     "metadata": {},
     "output_type": "execute_result"
    }
   ],
   "source": [
    "df = pd.DataFrame({'file_id' : data_id,\n",
    "                   'review' : [re.sub(r\"[^a-zA-Z0-9]+\", ' ', str(rev)) for rev in data_review ],\n",
    "                   'sentiment' : data_sentiment,\n",
    "                   'polarity' : [1 if sent=='pos' else 0 for sent in data_sentiment ]})\n",
    "df = df.sample(frac=1)\n",
    "df.reset_index(inplace=True, drop=True)\n",
    "print(df.shape)\n",
    "df.head()"
   ]
  },
  {
   "cell_type": "code",
   "execution_count": 41,
   "metadata": {
    "ExecuteTime": {
     "end_time": "2019-12-26T16:45:57.003451Z",
     "start_time": "2019-12-26T16:45:55.194876Z"
    }
   },
   "outputs": [],
   "source": [
    "X_train, X_test, y_train, y_test = train_test_split(df.drop(['polarity'],axis=1), df['polarity'],\n",
    "                                                    test_size=0.2, random_state=5)\n",
    "df_train = pd.concat([X_train, y_train], axis=1)\n",
    "\n",
    "if os.path.exists('./data/train.csv'):\n",
    "    os.remove('./data/train.csv')\n",
    "df_train.to_csv('./data/train.csv', index=False)\n",
    "\n",
    "df_test = pd.concat([X_test, y_test], axis=1)\n",
    "if os.path.exists('./data/test.csv'):\n",
    "    os.remove('./data/test.csv')\n",
    "df_test.to_csv('./data/test.csv', index=False)"
   ]
  },
  {
   "cell_type": "code",
   "execution_count": 42,
   "metadata": {
    "ExecuteTime": {
     "end_time": "2019-12-26T16:46:05.794957Z",
     "start_time": "2019-12-26T16:45:57.005229Z"
    }
   },
   "outputs": [],
   "source": [
    "os.remove('./data/aclImdb_v1.tar.gz')\n",
    "shutil.rmtree('./data/aclImdb')"
   ]
  }
 ],
 "metadata": {
  "hide_input": false,
  "kernelspec": {
   "display_name": "Python 3",
   "language": "python",
   "name": "python3"
  },
  "language_info": {
   "codemirror_mode": {
    "name": "ipython",
    "version": 3
   },
   "file_extension": ".py",
   "mimetype": "text/x-python",
   "name": "python",
   "nbconvert_exporter": "python",
   "pygments_lexer": "ipython3",
   "version": "3.7.5"
  },
  "toc": {
   "base_numbering": 1,
   "nav_menu": {},
   "number_sections": true,
   "sideBar": true,
   "skip_h1_title": false,
   "title_cell": "Table of Contents",
   "title_sidebar": "Contents",
   "toc_cell": false,
   "toc_position": {},
   "toc_section_display": true,
   "toc_window_display": false
  }
 },
 "nbformat": 4,
 "nbformat_minor": 2
}
