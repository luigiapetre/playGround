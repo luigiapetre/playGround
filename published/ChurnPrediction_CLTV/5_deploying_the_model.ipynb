{
 "cells": [
  {
   "cell_type": "markdown",
   "metadata": {},
   "source": [
    "# 5_Deploying_the_model \n",
    "From the previous set of modelling notebooks, the 30 day model performed better than the 10 day model. This is as expected since the longer duration introduces sparsity within the different features of the data.\n",
    "\n",
    "In this notebook I will first walk-through how to make use of the model, calculate the potential return of the strategy and then line-out the next stages to take this model ready for to production, and beyond.\n",
    "\n",
    "# The Model\n",
    "The proposed model is namely:\n",
    "- I will randomly load 1000 random customer_id's\n",
    "- Making use of the pre-processing flow in ```3_PreProcessing```, convert these 1000 cid's into model ready inputs\n",
    "- Go through the customer life-cycle:\n",
    "    1. First pass through **churn10** to identify if she/he will churn within 10 days of first transaction\n",
    "    2. From the output of the above\n",
    "        1. pass the cid's into **cvp10** to identify their CLTV\n",
    "        1. Based on the CLTV outcome:\n",
    "            1. For CLTV 3: Recommend reaching out and encourage heavy Bonus/Promo\n",
    "            1. For CLTV 2: Recommend small Bonus/Promo\n",
    "    1. Take original 1000 cid's and pass through **churn30** to identify churn-ability within the player's 30 day lifespan.\n",
    "    1. From output of above:\n",
    "        - pass the cid's into **cvp30** to identify their CLTV\n",
    "        - Based on the CLTV outcome:\n",
    "            - For CLTV 3: Recommend reaching out and encourage heavy Bonus/Promo\n",
    "            - For CLTV 2: Recommend small Bonus/Promo"
   ]
  },
  {
   "cell_type": "code",
   "execution_count": 199,
   "metadata": {},
   "outputs": [],
   "source": [
    "import pandas as pd\n",
    "import numpy as np\n",
    "import dill\n",
    "import gzip\n",
    "import matplotlib.pyplot as plt"
   ]
  },
  {
   "cell_type": "markdown",
   "metadata": {},
   "source": [
    "## Pre-Processing of 1000 Customers\n",
    "Since this has already been applied in ```3_PreProcessing```, I shall load customer_id's directly from outputs following the Pre-Processing flow."
   ]
  },
  {
   "cell_type": "code",
   "execution_count": 200,
   "metadata": {},
   "outputs": [],
   "source": [
    "df_churn10 = pd.read_pickle('./data/df_3_df_churn10.pkl')\n",
    "df_cvp10 = pd.read_pickle('./data/df_3_df_cvp10.pkl')\n",
    "df_churn30 = pd.read_pickle('./data/df_3_df_churn30.pkl')\n",
    "df_cvp30 = pd.read_pickle('./data/df_3_df_cvp30.pkl')"
   ]
  },
  {
   "cell_type": "code",
   "execution_count": 201,
   "metadata": {},
   "outputs": [],
   "source": [
    "# create list of 1000 cid's\n",
    "cid_list = np.arange( df_churn10.shape[0]) \n",
    "np.random.seed(0)\n",
    "np.random.shuffle(cid_list)\n",
    "cid_list = cid_list[:1000]"
   ]
  },
  {
   "cell_type": "code",
   "execution_count": 202,
   "metadata": {},
   "outputs": [],
   "source": [
    "def getDF_cid(DX):\n",
    "    DX = DX.reindex(cid_list).reset_index()\n",
    "    DX.rename(columns={'index':'customer_id'}, inplace=True)\n",
    "    return DX"
   ]
  },
  {
   "cell_type": "code",
   "execution_count": 203,
   "metadata": {},
   "outputs": [],
   "source": [
    "df_churn10 = getDF_cid(df_churn10)\n",
    "df_churn10.drop(['churn'], axis=1, inplace=True)\n",
    "\n",
    "df_churn30 = getDF_cid(df_churn30)\n",
    "df_churn30.drop(['churn'], axis=1, inplace=True)\n",
    "\n",
    "df_cvp10 = getDF_cid(df_cvp10)\n",
    "df_cvp10.drop(['CLTV'], axis=1, inplace=True)\n",
    "\n",
    "df_cvp30 = getDF_cid(df_cvp30)\n",
    "df_cvp30.drop(['CLTV'], axis=1, inplace=True)"
   ]
  },
  {
   "cell_type": "markdown",
   "metadata": {},
   "source": [
    "## Part 1: Identify if the Customer will churn within 10 days"
   ]
  },
  {
   "cell_type": "code",
   "execution_count": 204,
   "metadata": {},
   "outputs": [
    {
     "name": "stdout",
     "output_type": "stream",
     "text": [
      "316 Customers (32%) have been identified as Churnable\n"
     ]
    }
   ],
   "source": [
    "# get model\n",
    "filename = 'churn10.pk'\n",
    "with gzip.open('./models/'+filename ,'rb') as f:\n",
    "    churn10_model = dill.load(f)\n",
    "\n",
    "# infer churn\n",
    "X = churn10_model.predict(df_churn10.drop(['customer_id'], axis=1))\n",
    "df_churn10_churn1 = pd.DataFrame.from_dict({'cid' : cid_list,'churn' : X})\n",
    "df_churn10_churn1 = df_churn10_churn1['cid'][df_churn10_churn1['churn'] == 1]\n",
    "print('{} Customers ({:.00%}) have been identified as Churnable'.format(len(df_churn10_churn1), len(df_churn10_churn1)/1000))"
   ]
  },
  {
   "cell_type": "markdown",
   "metadata": {},
   "source": [
    "## Part 2: Identify the Customer Long Term Value for churnable customers"
   ]
  },
  {
   "cell_type": "code",
   "execution_count": 205,
   "metadata": {},
   "outputs": [
    {
     "name": "stdout",
     "output_type": "stream",
     "text": [
      "(CLTV3) High Value clients have been identified as:\n",
      "        Count : 53\n",
      "[4501, 4092, 2868, 2088, 1116, 1702, 396, 5120, 4838, 1419, 2154, 4224, 1272, 5004, 683, 5026, 2125, 446, 4946, 861, 2824, 3865, 2048, 2980, 4318, 4341, 1414, 2831, 3587, 483, 2842, 3075, 1282, 1989, 3048, 864, 5119, 5107, 751, 1547, 2188, 1191, 4303, 521, 4714, 1750, 3534, 3278, 2505, 3852, 3858, 3456, 3933]\n",
      "\n",
      "(CLTV2) Medium Value clients have been identified as:\n",
      "        Count : 94\n",
      "[2194, 4967, 3979, 4012, 4029, 910, 4600, 2409, 3251, 4442, 3894, 3220, 4351, 2568, 1276, 4275, 3773, 3650, 3287, 5149, 4516, 3434, 1141, 1122, 3472, 2351, 4612, 4943, 3664, 2162, 4843, 4349, 1726, 2635, 4646, 4405, 4657, 965, 727, 2905, 4949, 582, 977, 2719, 2182, 2949, 2832, 4990, 5094, 2550, 4689, 737, 3210, 5147, 552, 2944, 2971, 2976, 5009, 3082, 4740, 4382, 500, 3951, 4446, 3485, 2089, 882, 1319, 538, 415, 806, 1783, 4094, 3631, 1091, 4463, 3353, 496, 1829, 3964, 4759, 3824, 3830, 3603, 3029, 1668, 3283, 1189, 3884, 3122, 2682, 3088, 4449]\n"
     ]
    }
   ],
   "source": [
    "# get model\n",
    "filename = 'cvp10.pk'\n",
    "with gzip.open('./models/'+filename ,'rb') as f:\n",
    "    cvp10_model = dill.load(f)\n",
    "\n",
    "df_cvp10 = df_cvp10[df_cvp10['customer_id'].isin(df_churn10_churn1)]\n",
    "# infer CLTV    \n",
    "cid_list_10 = df_cvp10['customer_id']\n",
    "X = cvp10_model.predict(df_cvp10.drop(['customer_id'], axis=1))\n",
    "df_churn10_CLTV = pd.DataFrame.from_dict({'cid' : cid_list_10,'CLTV' : X})\n",
    "print('(CLTV3) High Value clients have been identified as:')\n",
    "print('        Count : {}'.format(len(df_churn10_CLTV['cid'][df_churn10_CLTV['CLTV']==3].tolist())))\n",
    "print(df_churn10_CLTV['cid'][df_churn10_CLTV['CLTV']==3].tolist())\n",
    "print('')\n",
    "print('(CLTV2) Medium Value clients have been identified as:')\n",
    "print('        Count : {}'.format(len(df_churn10_CLTV['cid'][df_churn10_CLTV['CLTV']==2].tolist())))\n",
    "print(df_churn10_CLTV['cid'][df_churn10_CLTV['CLTV']==2].tolist())"
   ]
  },
  {
   "cell_type": "markdown",
   "metadata": {},
   "source": [
    "## Part 3: Identify if the player will churn within the 30 day mark"
   ]
  },
  {
   "cell_type": "code",
   "execution_count": 206,
   "metadata": {},
   "outputs": [
    {
     "name": "stdout",
     "output_type": "stream",
     "text": [
      "50 Customers (5%) have been identified as Churnable\n"
     ]
    }
   ],
   "source": [
    "# get model\n",
    "filename = 'churn30.pk'\n",
    "with gzip.open('./models/'+filename ,'rb') as f:\n",
    "    churn30_model = dill.load(f)\n",
    "\n",
    "# infer churn\n",
    "X = churn30_model.predict(df_churn30.drop(['customer_id'], axis=1))\n",
    "df_churn30_churn1 = pd.DataFrame.from_dict({'cid' : cid_list,'churn' : X})\n",
    "df_churn30_churn1 = df_churn30_churn1['cid'][df_churn30_churn1['churn'] == 1]\n",
    "print('{} Customers ({:.00%}) have been identified as Churnable'.format(len(df_churn30_churn1), len(df_churn30_churn1)/1000))"
   ]
  },
  {
   "cell_type": "markdown",
   "metadata": {},
   "source": [
    "## Part 4: Identify the CLTV for churnable customers"
   ]
  },
  {
   "cell_type": "code",
   "execution_count": 207,
   "metadata": {},
   "outputs": [
    {
     "name": "stdout",
     "output_type": "stream",
     "text": [
      "(CLTV3) High Value clients have been identified as:\n",
      "        Count : 21\n",
      "[2613, 1912, 4412, 5120, 5026, 3567, 4293, 3321, 3477, 4318, 1765, 4111, 4188, 3183, 2689, 3260, 4850, 2701, 4306, 3283, 3933]\n",
      "\n",
      "(CLTV2) Medium Value clients have been identified as:\n",
      "        Count : 14\n",
      "[3930, 4257, 2277, 2693, 130, 2234, 3981, 1675, 483, 1721, 2324, 1328, 2315, 660]\n"
     ]
    }
   ],
   "source": [
    "# get model\n",
    "filename = 'cvp30.pk'\n",
    "with gzip.open('./models/'+filename ,'rb') as f:\n",
    "    cvp30_model = dill.load(f)\n",
    "\n",
    "df_cvp30 = df_cvp30[df_cvp30['customer_id'].isin(df_churn30_churn1)]\n",
    "# infer CLTV    \n",
    "cid_list_30 = df_cvp30['customer_id']\n",
    "X = cvp30_model.predict(df_cvp30.drop(['customer_id'], axis=1))\n",
    "df_churn30_CLTV = pd.DataFrame.from_dict({'cid' : cid_list_30,'CLTV' : X})\n",
    "print('(CLTV3) High Value clients have been identified as:')\n",
    "print('        Count : {}'.format(len(df_churn30_CLTV['cid'][df_churn30_CLTV['CLTV']==3].tolist())))\n",
    "print(df_churn30_CLTV['cid'][df_churn30_CLTV['CLTV']==3].tolist())\n",
    "print('')\n",
    "print('(CLTV2) Medium Value clients have been identified as:')\n",
    "print('        Count : {}'.format(len(df_churn30_CLTV['cid'][df_churn30_CLTV['CLTV']==2].tolist())))\n",
    "print(df_churn30_CLTV['cid'][df_churn30_CLTV['CLTV']==2].tolist())"
   ]
  },
  {
   "cell_type": "markdown",
   "metadata": {},
   "source": [
    "# Potential Returns\n",
    "In this part of the notebook, I am crudely going to try and estimate the improved NGR that this strategy would have on our casino. I will pass all the data through the strategy to see and compare different conversion rates to see returns."
   ]
  },
  {
   "cell_type": "code",
   "execution_count": 208,
   "metadata": {},
   "outputs": [
    {
     "name": "stdout",
     "output_type": "stream",
     "text": [
      "Part 1 : 1529 Customers (30%) will potentially churn\n",
      "Part 2 : (CLTV3) High Value clients   : 245\n",
      "         (CLTV2) Medium Value clients : 490\n",
      "Part 3 : 295 Customers (6%) will potentially churn\n",
      "Part 4 : (CLTV3) High Value clients   : 149\n",
      "         (CLTV2) Medium Value clients : 66\n"
     ]
    }
   ],
   "source": [
    "#  passing of all the data to identify df_churn10_CTLV3, df_churn10_CTLV2, df_churn30_CTLV3, df_churn30_CTLV2\n",
    "# get all data and drop target feature\n",
    "df_churn10 = pd.read_pickle('./data/df_3_df_churn10.pkl')\n",
    "df_churn10.drop(['churn'], axis=1, inplace=True)\n",
    "df_cvp10 = pd.read_pickle('./data/df_3_df_cvp10.pkl')\n",
    "df_cvp10.drop(['CLTV'], axis=1, inplace=True)\n",
    "df_churn30 = pd.read_pickle('./data/df_3_df_churn30.pkl')\n",
    "df_churn30.drop(['churn'], axis=1, inplace=True)\n",
    "df_cvp30 = pd.read_pickle('./data/df_3_df_cvp30.pkl')\n",
    "df_cvp30.drop(['CLTV'], axis=1, inplace=True)\n",
    "\n",
    "# Part 1 - Infer 10 day churn\n",
    "df_churn10_churn1 = churn10_model.predict(df_churn10)\n",
    "df_churn10_churn1 = pd.DataFrame.from_dict({'cid' : [x for x in range(len(df_churn10_churn1))] , 'churn' : df_churn10_churn1})\n",
    "df_churn10_churn1 = df_churn10_churn1['cid'][df_churn10_churn1['churn'] == 1]\n",
    "print('Part 1 : {} Customers ({:.00%}) will potentially churn'.format(len(df_churn10_churn1),len(df_churn10_churn1)/df_churn10.shape[0]))\n",
    "\n",
    "# Part 2 - Predict CLTV for churn customers\n",
    "df_cvp10 = df_cvp10.iloc[ [x for x in df_churn10_churn1.values ] ]\n",
    "df_churn10_CLTV = pd.DataFrame.from_dict({'cid' : [x for x in df_churn10_churn1.values ],\n",
    "                                          'CLTV' : cvp10_model.predict(df_cvp10)})\n",
    "print('Part 2 : (CLTV3) High Value clients   : {}'.format(len(df_churn10_CLTV['cid'][df_churn10_CLTV['CLTV']==3].tolist())))\n",
    "print('         (CLTV2) Medium Value clients : {}'.format(len(df_churn10_CLTV['cid'][df_churn10_CLTV['CLTV']==2].tolist())))\n",
    "\n",
    "# Part 3 - Infer 30 day churn\n",
    "df_churn30_churn1 = churn30_model.predict(df_churn30)\n",
    "df_churn30_churn1 = pd.DataFrame.from_dict({'cid' : [x for x in range(len(df_churn30_churn1))], 'churn' : df_churn30_churn1})\n",
    "df_churn30_churn1 = df_churn30_churn1['cid'][df_churn30_churn1['churn'] == 1]\n",
    "print('Part 3 : {} Customers ({:.00%}) will potentially churn'.format(len(df_churn30_churn1),len(df_churn30_churn1)/df_churn30.shape[0]))\n",
    "\n",
    "# Part 4 - Predict CLTV for churn customers\n",
    "df_cvp30 = df_cvp30.iloc[ [x for x in df_churn30_churn1.values ] ]\n",
    "df_churn30_CLTV = pd.DataFrame.from_dict({'cid' : [x for x in df_churn30_churn1.values ],\n",
    "                                          'CLTV' : cvp30_model.predict(df_cvp30)})\n",
    "print('Part 4 : (CLTV3) High Value clients   : {}'.format(len(df_churn30_CLTV['cid'][df_churn30_CLTV['CLTV']==3].tolist())))\n",
    "print('         (CLTV2) Medium Value clients : {}'.format(len(df_churn30_CLTV['cid'][df_churn30_CLTV['CLTV']==2].tolist())))"
   ]
  },
  {
   "cell_type": "code",
   "execution_count": 209,
   "metadata": {},
   "outputs": [],
   "source": [
    "df_churn10_CLTV3 = df_churn10_CLTV['cid'][df_churn10_CLTV['CLTV']==3].tolist()\n",
    "df_churn10_CLTV2 = df_churn10_CLTV['cid'][df_churn10_CLTV['CLTV']==3].tolist()\n",
    "df_churn30_CLTV3 = df_churn30_CLTV['cid'][df_churn30_CLTV['CLTV']==3].tolist()\n",
    "df_churn30_CLTV2 = df_churn30_CLTV['cid'][df_churn30_CLTV['CLTV']==2].tolist()"
   ]
  },
  {
   "cell_type": "code",
   "execution_count": 210,
   "metadata": {},
   "outputs": [],
   "source": [
    "# print(len(df_churn10_CLTV3))\n",
    "# print(len(df_churn10_CLTV2))\n",
    "# print(len(df_churn30_CLTV3))\n",
    "# print(len(df_churn30_CLTV2))"
   ]
  },
  {
   "cell_type": "code",
   "execution_count": 211,
   "metadata": {},
   "outputs": [],
   "source": [
    "df_10 = pd.read_pickle('./data/df_2_FE_df_10.pkl')\n",
    "df_10 = df_10.sort_values(by='customer_id')\n",
    "df_30 = pd.read_pickle('./data/df_2_FE_df_30.pkl')\n",
    "df_30 = df_30.sort_values(by='customer_id')\n",
    "\n",
    "def getPotentialReturn(conv):\n",
    "    df_10_converted = df_churn10_CLTV3[:int(round(len(df_churn10_CLTV3) * conv))]\n",
    "    df_10_converted.extend(df_churn10_CLTV2[:int(round(len(df_churn10_CLTV2) * conv))])\n",
    "    df_10_return = df_10['GROSS_10_sum_ngr'].iloc[ [x for x in df_10_converted ] ].sum()\n",
    "\n",
    "    df_30_converted = df_churn30_CLTV3[:int(round(len(df_churn30_CLTV3) * conv))]\n",
    "    df_30_converted.extend(df_churn30_CLTV2[:int(round(len(df_churn30_CLTV2) * conv))])\n",
    "    df_30_return = df_30['GROSS_31_sum_ngr'].iloc[ [x for x in df_30_converted ] ].sum()\n",
    "\n",
    "    return [df_10_return, df_30_return, df_10_return + df_30_return]"
   ]
  },
  {
   "cell_type": "code",
   "execution_count": 224,
   "metadata": {},
   "outputs": [
    {
     "data": {
      "image/png": "[encoded data removed]",
      "text/plain": [
       "<Figure size 432x288 with 1 Axes>"
      ]
     },
     "metadata": {
      "needs_background": "light"
     },
     "output_type": "display_data"
    }
   ],
   "source": [
    "plt.plot([x for x in np.linspace(0.1,.9,9)], [getPotentialReturn(x) for x in np.linspace(0.1,.9,9)] )\n",
    "plt.xlabel('Conversion Rate of Churnable Customer')\n",
    "plt.ylabel('Sum of NGR')\n",
    "plt.title('Potential Increase in NGR')\n",
    "plt.legend(['Day 10 Model','Day 30 Model', 'Gross Return'])\n",
    "plt.savefig('./figs/Pot_Return_NGR.png' , bbox_inches='tight')\n",
    "plt.show()"
   ]
  },
  {
   "cell_type": "markdown",
   "metadata": {},
   "source": [
    "# What would be next?\n",
    "- Encapsulate pre-processing in proper ```sklearn``` pipelines\n",
    "- [flask](http://flask.pocoo.org/) to create an API\n",
    "- [docker](https://hub.docker.com/) to containerise above API\n",
    "- [MLflow](https://mlflow.org/) to maintenance life-cycle of the model\n",
    "- Model feedback to update and asses before and after: Possibly $t$-test analysis for monthly or weekly averages before and after model implementation"
   ]
  }
 ],
 "metadata": {
  "kernelspec": {
   "display_name": "Python 3",
   "language": "python",
   "name": "python3"
  },
  "language_info": {
   "codemirror_mode": {
    "name": "ipython",
    "version": 3
   },
   "file_extension": ".py",
   "mimetype": "text/x-python",
   "name": "python",
   "nbconvert_exporter": "python",
   "pygments_lexer": "ipython3",
   "version": "3.6.8"
  }
 },
 "nbformat": 4,
 "nbformat_minor": 2
}
