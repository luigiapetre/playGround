{
 "cells": [
  {
   "cell_type": "markdown",
   "metadata": {},
   "source": [
    "# 1_get_data\n",
    "This first notebook is all about loading and checking the provided file: ```task_data_set.CSV```. To do so:\n",
    "- I shall load data to ensure usability,\n",
    "- Apply very quick descriptive statistics to explore the contents,\n",
    "- Ensure data quality of the different data objects,\n",
    "- Enhance original dataset with third-party data for Country information. In particular, the addition of Lat and Long per Country since this will be required further on at modelling stages\n",
    "\n",
    "In the end, I export the dataset to a pickle file for use in later notebooks."
   ]
  },
  {
   "cell_type": "code",
   "execution_count": 2,
   "metadata": {},
   "outputs": [],
   "source": [
    "import pandas as pd\n",
    "import numpy as np\n",
    "import matplotlib.pyplot as plt\n",
    "import matplotlib.dates as mdates\n",
    "from collections import Counter"
   ]
  },
  {
   "cell_type": "code",
   "execution_count": 3,
   "metadata": {},
   "outputs": [],
   "source": [
    "df = pd.read_csv('./data/task_data_set.CSV')"
   ]
  },
  {
   "cell_type": "code",
   "execution_count": 4,
   "metadata": {},
   "outputs": [
    {
     "data": {
      "text/plain": [
       "(25342, 16)"
      ]
     },
     "execution_count": 4,
     "metadata": {},
     "output_type": "execute_result"
    }
   ],
   "source": [
    "df.shape"
   ]
  },
  {
   "cell_type": "code",
   "execution_count": 5,
   "metadata": {},
   "outputs": [
    {
     "data": {
      "text/html": [
       "<div>\n",
       "<style scoped>\n",
       "    .dataframe tbody tr th:only-of-type {\n",
       "        vertical-align: middle;\n",
       "    }\n",
       "\n",
       "    .dataframe tbody tr th {\n",
       "        vertical-align: top;\n",
       "    }\n",
       "\n",
       "    .dataframe thead th {\n",
       "        text-align: right;\n",
       "    }\n",
       "</style>\n",
       "<table border=\"1\" class=\"dataframe\">\n",
       "  <thead>\n",
       "    <tr style=\"text-align: right;\">\n",
       "      <th></th>\n",
       "      <th>customer_id</th>\n",
       "      <th>acquisition_source</th>\n",
       "      <th>country</th>\n",
       "      <th>date_first_deposit_id</th>\n",
       "      <th>date_registration_id</th>\n",
       "      <th>gender</th>\n",
       "      <th>date_transaction_id</th>\n",
       "      <th>count_deposit</th>\n",
       "      <th>sum_free_spin</th>\n",
       "      <th>sum_deposit</th>\n",
       "      <th>sum_bonus_cost</th>\n",
       "      <th>sum_ngr</th>\n",
       "      <th>sum_bet_real</th>\n",
       "      <th>sum_bet_bonus</th>\n",
       "      <th>sum_win_real</th>\n",
       "      <th>sum_win_bonus</th>\n",
       "    </tr>\n",
       "  </thead>\n",
       "  <tbody>\n",
       "    <tr>\n",
       "      <th>0</th>\n",
       "      <td>1423</td>\n",
       "      <td>1.0</td>\n",
       "      <td>Netherlands</td>\n",
       "      <td>20100617.0</td>\n",
       "      <td>20100617.0</td>\n",
       "      <td>Male</td>\n",
       "      <td>20100630.0</td>\n",
       "      <td>11.0</td>\n",
       "      <td>2.300</td>\n",
       "      <td>250.0</td>\n",
       "      <td>0.000</td>\n",
       "      <td>-0.070</td>\n",
       "      <td>905.400</td>\n",
       "      <td>0.0</td>\n",
       "      <td>903.170</td>\n",
       "      <td>2.300</td>\n",
       "    </tr>\n",
       "    <tr>\n",
       "      <th>1</th>\n",
       "      <td>170</td>\n",
       "      <td>1.0</td>\n",
       "      <td>Norway</td>\n",
       "      <td>20100623.0</td>\n",
       "      <td>20091210.0</td>\n",
       "      <td>Female</td>\n",
       "      <td>20100704.0</td>\n",
       "      <td>0.0</td>\n",
       "      <td>0.000</td>\n",
       "      <td>0.0</td>\n",
       "      <td>0.000</td>\n",
       "      <td>23.963</td>\n",
       "      <td>67.321</td>\n",
       "      <td>0.0</td>\n",
       "      <td>43.357</td>\n",
       "      <td>0.000</td>\n",
       "    </tr>\n",
       "    <tr>\n",
       "      <th>2</th>\n",
       "      <td>1516</td>\n",
       "      <td>0.0</td>\n",
       "      <td>Sweden</td>\n",
       "      <td>20100618.0</td>\n",
       "      <td>20100618.0</td>\n",
       "      <td>Male</td>\n",
       "      <td>20100705.0</td>\n",
       "      <td>1.0</td>\n",
       "      <td>1.661</td>\n",
       "      <td>53.2</td>\n",
       "      <td>0.000</td>\n",
       "      <td>51.796</td>\n",
       "      <td>195.767</td>\n",
       "      <td>0.0</td>\n",
       "      <td>142.310</td>\n",
       "      <td>1.661</td>\n",
       "    </tr>\n",
       "    <tr>\n",
       "      <th>3</th>\n",
       "      <td>1612</td>\n",
       "      <td>0.0</td>\n",
       "      <td>Finland</td>\n",
       "      <td>20100620.0</td>\n",
       "      <td>20100620.0</td>\n",
       "      <td>Male</td>\n",
       "      <td>20100705.0</td>\n",
       "      <td>0.0</td>\n",
       "      <td>0.340</td>\n",
       "      <td>0.0</td>\n",
       "      <td>0.000</td>\n",
       "      <td>-0.340</td>\n",
       "      <td>0.000</td>\n",
       "      <td>0.0</td>\n",
       "      <td>0.000</td>\n",
       "      <td>0.340</td>\n",
       "    </tr>\n",
       "    <tr>\n",
       "      <th>4</th>\n",
       "      <td>336</td>\n",
       "      <td>1.0</td>\n",
       "      <td>United Kingdom</td>\n",
       "      <td>20100605.0</td>\n",
       "      <td>20100528.0</td>\n",
       "      <td>Male</td>\n",
       "      <td>20100705.0</td>\n",
       "      <td>0.0</td>\n",
       "      <td>0.000</td>\n",
       "      <td>0.0</td>\n",
       "      <td>-0.069</td>\n",
       "      <td>0.069</td>\n",
       "      <td>0.000</td>\n",
       "      <td>0.0</td>\n",
       "      <td>0.000</td>\n",
       "      <td>0.000</td>\n",
       "    </tr>\n",
       "  </tbody>\n",
       "</table>\n",
       "</div>"
      ],
      "text/plain": [
       "   customer_id  acquisition_source         country  date_first_deposit_id  \\\n",
       "0         1423                 1.0     Netherlands             20100617.0   \n",
       "1          170                 1.0          Norway             20100623.0   \n",
       "2         1516                 0.0          Sweden             20100618.0   \n",
       "3         1612                 0.0         Finland             20100620.0   \n",
       "4          336                 1.0  United Kingdom             20100605.0   \n",
       "\n",
       "   date_registration_id  gender  date_transaction_id  count_deposit  \\\n",
       "0            20100617.0    Male           20100630.0           11.0   \n",
       "1            20091210.0  Female           20100704.0            0.0   \n",
       "2            20100618.0    Male           20100705.0            1.0   \n",
       "3            20100620.0    Male           20100705.0            0.0   \n",
       "4            20100528.0    Male           20100705.0            0.0   \n",
       "\n",
       "   sum_free_spin  sum_deposit  sum_bonus_cost  sum_ngr  sum_bet_real  \\\n",
       "0          2.300        250.0           0.000   -0.070       905.400   \n",
       "1          0.000          0.0           0.000   23.963        67.321   \n",
       "2          1.661         53.2           0.000   51.796       195.767   \n",
       "3          0.340          0.0           0.000   -0.340         0.000   \n",
       "4          0.000          0.0          -0.069    0.069         0.000   \n",
       "\n",
       "   sum_bet_bonus  sum_win_real  sum_win_bonus  \n",
       "0            0.0       903.170          2.300  \n",
       "1            0.0        43.357          0.000  \n",
       "2            0.0       142.310          1.661  \n",
       "3            0.0         0.000          0.340  \n",
       "4            0.0         0.000          0.000  "
      ]
     },
     "execution_count": 5,
     "metadata": {},
     "output_type": "execute_result"
    }
   ],
   "source": [
    "df.head()"
   ]
  },
  {
   "cell_type": "code",
   "execution_count": 6,
   "metadata": {},
   "outputs": [
    {
     "data": {
      "text/plain": [
       "['customer_id',\n",
       " 'acquisition_source',\n",
       " 'country',\n",
       " 'date_first_deposit_id',\n",
       " 'date_registration_id',\n",
       " 'gender',\n",
       " 'date_transaction_id',\n",
       " 'count_deposit',\n",
       " 'sum_free_spin',\n",
       " 'sum_deposit',\n",
       " 'sum_bonus_cost',\n",
       " 'sum_ngr',\n",
       " 'sum_bet_real',\n",
       " 'sum_bet_bonus',\n",
       " 'sum_win_real',\n",
       " 'sum_win_bonus']"
      ]
     },
     "execution_count": 6,
     "metadata": {},
     "output_type": "execute_result"
    }
   ],
   "source": [
    "df.columns.tolist()"
   ]
  },
  {
   "cell_type": "code",
   "execution_count": 7,
   "metadata": {},
   "outputs": [
    {
     "data": {
      "text/plain": [
       "customer_id                int64\n",
       "acquisition_source       float64\n",
       "country                   object\n",
       "date_first_deposit_id    float64\n",
       "date_registration_id     float64\n",
       "gender                    object\n",
       "date_transaction_id      float64\n",
       "count_deposit            float64\n",
       "sum_free_spin            float64\n",
       "sum_deposit              float64\n",
       "sum_bonus_cost           float64\n",
       "sum_ngr                  float64\n",
       "sum_bet_real             float64\n",
       "sum_bet_bonus            float64\n",
       "sum_win_real             float64\n",
       "sum_win_bonus            float64\n",
       "dtype: object"
      ]
     },
     "execution_count": 7,
     "metadata": {},
     "output_type": "execute_result"
    }
   ],
   "source": [
    "df.dtypes"
   ]
  },
  {
   "cell_type": "code",
   "execution_count": 8,
   "metadata": {},
   "outputs": [],
   "source": [
    "# Check for Nan, Nat, nulls\n",
    "def missingValues(data):  \n",
    "    total = data.isnull().sum().sort_values(ascending = False) # getting the sum of null values and ordering\n",
    "    percent = (data.isnull().sum() / data.isnull().count() * 100 ).sort_values(ascending = False) #getting the percent and order of null\n",
    "    return pd.concat([total, percent], axis=1, keys=['Total', 'Percent']) # Concatenating the total and percent"
   ]
  },
  {
   "cell_type": "code",
   "execution_count": 9,
   "metadata": {},
   "outputs": [
    {
     "data": {
      "text/html": [
       "<div>\n",
       "<style scoped>\n",
       "    .dataframe tbody tr th:only-of-type {\n",
       "        vertical-align: middle;\n",
       "    }\n",
       "\n",
       "    .dataframe tbody tr th {\n",
       "        vertical-align: top;\n",
       "    }\n",
       "\n",
       "    .dataframe thead th {\n",
       "        text-align: right;\n",
       "    }\n",
       "</style>\n",
       "<table border=\"1\" class=\"dataframe\">\n",
       "  <thead>\n",
       "    <tr style=\"text-align: right;\">\n",
       "      <th></th>\n",
       "      <th>Total</th>\n",
       "      <th>Percent</th>\n",
       "    </tr>\n",
       "  </thead>\n",
       "  <tbody>\n",
       "    <tr>\n",
       "      <th>date_registration_id</th>\n",
       "      <td>21</td>\n",
       "      <td>0.082866</td>\n",
       "    </tr>\n",
       "    <tr>\n",
       "      <th>sum_deposit</th>\n",
       "      <td>19</td>\n",
       "      <td>0.074974</td>\n",
       "    </tr>\n",
       "    <tr>\n",
       "      <th>sum_bet_bonus</th>\n",
       "      <td>15</td>\n",
       "      <td>0.059190</td>\n",
       "    </tr>\n",
       "    <tr>\n",
       "      <th>count_deposit</th>\n",
       "      <td>13</td>\n",
       "      <td>0.051298</td>\n",
       "    </tr>\n",
       "    <tr>\n",
       "      <th>country</th>\n",
       "      <td>13</td>\n",
       "      <td>0.051298</td>\n",
       "    </tr>\n",
       "    <tr>\n",
       "      <th>date_transaction_id</th>\n",
       "      <td>12</td>\n",
       "      <td>0.047352</td>\n",
       "    </tr>\n",
       "    <tr>\n",
       "      <th>sum_win_real</th>\n",
       "      <td>11</td>\n",
       "      <td>0.043406</td>\n",
       "    </tr>\n",
       "    <tr>\n",
       "      <th>sum_ngr</th>\n",
       "      <td>11</td>\n",
       "      <td>0.043406</td>\n",
       "    </tr>\n",
       "    <tr>\n",
       "      <th>gender</th>\n",
       "      <td>11</td>\n",
       "      <td>0.043406</td>\n",
       "    </tr>\n",
       "    <tr>\n",
       "      <th>date_first_deposit_id</th>\n",
       "      <td>11</td>\n",
       "      <td>0.043406</td>\n",
       "    </tr>\n",
       "    <tr>\n",
       "      <th>sum_bonus_cost</th>\n",
       "      <td>10</td>\n",
       "      <td>0.039460</td>\n",
       "    </tr>\n",
       "    <tr>\n",
       "      <th>sum_free_spin</th>\n",
       "      <td>10</td>\n",
       "      <td>0.039460</td>\n",
       "    </tr>\n",
       "    <tr>\n",
       "      <th>acquisition_source</th>\n",
       "      <td>10</td>\n",
       "      <td>0.039460</td>\n",
       "    </tr>\n",
       "    <tr>\n",
       "      <th>sum_win_bonus</th>\n",
       "      <td>8</td>\n",
       "      <td>0.031568</td>\n",
       "    </tr>\n",
       "    <tr>\n",
       "      <th>sum_bet_real</th>\n",
       "      <td>6</td>\n",
       "      <td>0.023676</td>\n",
       "    </tr>\n",
       "    <tr>\n",
       "      <th>customer_id</th>\n",
       "      <td>0</td>\n",
       "      <td>0.000000</td>\n",
       "    </tr>\n",
       "  </tbody>\n",
       "</table>\n",
       "</div>"
      ],
      "text/plain": [
       "                       Total   Percent\n",
       "date_registration_id      21  0.082866\n",
       "sum_deposit               19  0.074974\n",
       "sum_bet_bonus             15  0.059190\n",
       "count_deposit             13  0.051298\n",
       "country                   13  0.051298\n",
       "date_transaction_id       12  0.047352\n",
       "sum_win_real              11  0.043406\n",
       "sum_ngr                   11  0.043406\n",
       "gender                    11  0.043406\n",
       "date_first_deposit_id     11  0.043406\n",
       "sum_bonus_cost            10  0.039460\n",
       "sum_free_spin             10  0.039460\n",
       "acquisition_source        10  0.039460\n",
       "sum_win_bonus              8  0.031568\n",
       "sum_bet_real               6  0.023676\n",
       "customer_id                0  0.000000"
      ]
     },
     "execution_count": 9,
     "metadata": {},
     "output_type": "execute_result"
    }
   ],
   "source": [
    "missingValues(df)"
   ]
  },
  {
   "cell_type": "code",
   "execution_count": 10,
   "metadata": {},
   "outputs": [
    {
     "name": "stdout",
     "output_type": "stream",
     "text": [
      "Shape before : (25342, 16)\n",
      "Shape after  : (25162, 16)\n"
     ]
    }
   ],
   "source": [
    "# nans counts within the data are superficial. I will discard these\n",
    "print('Shape before : {}'.format(df.shape))\n",
    "df.dropna(axis=0, inplace=True)\n",
    "print('Shape after  : {}'.format(df.shape))"
   ]
  },
  {
   "cell_type": "code",
   "execution_count": 11,
   "metadata": {},
   "outputs": [
    {
     "data": {
      "text/html": [
       "<div>\n",
       "<style scoped>\n",
       "    .dataframe tbody tr th:only-of-type {\n",
       "        vertical-align: middle;\n",
       "    }\n",
       "\n",
       "    .dataframe tbody tr th {\n",
       "        vertical-align: top;\n",
       "    }\n",
       "\n",
       "    .dataframe thead th {\n",
       "        text-align: right;\n",
       "    }\n",
       "</style>\n",
       "<table border=\"1\" class=\"dataframe\">\n",
       "  <thead>\n",
       "    <tr style=\"text-align: right;\">\n",
       "      <th></th>\n",
       "      <th>Total</th>\n",
       "      <th>Percent</th>\n",
       "    </tr>\n",
       "  </thead>\n",
       "  <tbody>\n",
       "    <tr>\n",
       "      <th>sum_win_bonus</th>\n",
       "      <td>0</td>\n",
       "      <td>0.0</td>\n",
       "    </tr>\n",
       "    <tr>\n",
       "      <th>sum_win_real</th>\n",
       "      <td>0</td>\n",
       "      <td>0.0</td>\n",
       "    </tr>\n",
       "    <tr>\n",
       "      <th>sum_bet_bonus</th>\n",
       "      <td>0</td>\n",
       "      <td>0.0</td>\n",
       "    </tr>\n",
       "    <tr>\n",
       "      <th>sum_bet_real</th>\n",
       "      <td>0</td>\n",
       "      <td>0.0</td>\n",
       "    </tr>\n",
       "    <tr>\n",
       "      <th>sum_ngr</th>\n",
       "      <td>0</td>\n",
       "      <td>0.0</td>\n",
       "    </tr>\n",
       "    <tr>\n",
       "      <th>sum_bonus_cost</th>\n",
       "      <td>0</td>\n",
       "      <td>0.0</td>\n",
       "    </tr>\n",
       "    <tr>\n",
       "      <th>sum_deposit</th>\n",
       "      <td>0</td>\n",
       "      <td>0.0</td>\n",
       "    </tr>\n",
       "    <tr>\n",
       "      <th>sum_free_spin</th>\n",
       "      <td>0</td>\n",
       "      <td>0.0</td>\n",
       "    </tr>\n",
       "    <tr>\n",
       "      <th>count_deposit</th>\n",
       "      <td>0</td>\n",
       "      <td>0.0</td>\n",
       "    </tr>\n",
       "    <tr>\n",
       "      <th>date_transaction_id</th>\n",
       "      <td>0</td>\n",
       "      <td>0.0</td>\n",
       "    </tr>\n",
       "    <tr>\n",
       "      <th>gender</th>\n",
       "      <td>0</td>\n",
       "      <td>0.0</td>\n",
       "    </tr>\n",
       "    <tr>\n",
       "      <th>date_registration_id</th>\n",
       "      <td>0</td>\n",
       "      <td>0.0</td>\n",
       "    </tr>\n",
       "    <tr>\n",
       "      <th>date_first_deposit_id</th>\n",
       "      <td>0</td>\n",
       "      <td>0.0</td>\n",
       "    </tr>\n",
       "    <tr>\n",
       "      <th>country</th>\n",
       "      <td>0</td>\n",
       "      <td>0.0</td>\n",
       "    </tr>\n",
       "    <tr>\n",
       "      <th>acquisition_source</th>\n",
       "      <td>0</td>\n",
       "      <td>0.0</td>\n",
       "    </tr>\n",
       "    <tr>\n",
       "      <th>customer_id</th>\n",
       "      <td>0</td>\n",
       "      <td>0.0</td>\n",
       "    </tr>\n",
       "  </tbody>\n",
       "</table>\n",
       "</div>"
      ],
      "text/plain": [
       "                       Total  Percent\n",
       "sum_win_bonus              0      0.0\n",
       "sum_win_real               0      0.0\n",
       "sum_bet_bonus              0      0.0\n",
       "sum_bet_real               0      0.0\n",
       "sum_ngr                    0      0.0\n",
       "sum_bonus_cost             0      0.0\n",
       "sum_deposit                0      0.0\n",
       "sum_free_spin              0      0.0\n",
       "count_deposit              0      0.0\n",
       "date_transaction_id        0      0.0\n",
       "gender                     0      0.0\n",
       "date_registration_id       0      0.0\n",
       "date_first_deposit_id      0      0.0\n",
       "country                    0      0.0\n",
       "acquisition_source         0      0.0\n",
       "customer_id                0      0.0"
      ]
     },
     "execution_count": 11,
     "metadata": {},
     "output_type": "execute_result"
    }
   ],
   "source": [
    "# double checking that non Nan, Nats and nulls are present in data\n",
    "missingValues(df)"
   ]
  },
  {
   "cell_type": "code",
   "execution_count": 12,
   "metadata": {},
   "outputs": [
    {
     "name": "stdout",
     "output_type": "stream",
     "text": [
      "Deposit < Reg : 0\n",
      "Tran < Deposit : 0\n",
      "              ----> NO FREE plays in dataset\n"
     ]
    }
   ],
   "source": [
    "# QC with the dates\n",
    "# Dates should always be:\n",
    "#   Reg <= Deposit <= Transaction\n",
    "# UNLESS we offer free plays\n",
    "print('Deposit < Reg : {}'.format(df[df['date_first_deposit_id'] < df['date_registration_id']].shape[0]))\n",
    "print('Tran < Deposit : {}'.format(df[df['date_transaction_id'] < df['date_first_deposit_id']].shape[0]))\n",
    "if df[df['date_transaction_id'] < df['date_first_deposit_id']].shape[0] == 0:\n",
    "    print('              ----> NO FREE plays in dataset')"
   ]
  },
  {
   "cell_type": "code",
   "execution_count": 13,
   "metadata": {},
   "outputs": [
    {
     "name": "stdout",
     "output_type": "stream",
     "text": [
      "date_first_deposit_id - MIN : 2010  MAX : 2011\n",
      "date_registration_id - MIN : 2006  MAX : 2011\n",
      "date_transaction_id - MIN : 2010  MAX : 2011\n"
     ]
    },
    {
     "data": {
      "text/plain": [
       "[None, None, None]"
      ]
     },
     "execution_count": 13,
     "metadata": {},
     "output_type": "execute_result"
    }
   ],
   "source": [
    "# min, max dates\n",
    "colDate = ['date_first_deposit_id','date_registration_id','date_transaction_id']\n",
    "\n",
    "def getDateStats(col):\n",
    "    years = [ int(str(d)[:4]) for d in df[col] ]\n",
    "    print('{} - MIN : {}  MAX : {}'.format(col, min(years), max(years)))\n",
    "\n",
    "[getDateStats(x) for x in colDate]\n",
    "\n",
    "# No crazy dates present"
   ]
  },
  {
   "cell_type": "code",
   "execution_count": 14,
   "metadata": {},
   "outputs": [
    {
     "name": "stdout",
     "output_type": "stream",
     "text": [
      "Number of unique players : 5167\n",
      "\n",
      "Acquisition sources : {0.0, 1.0}\n",
      "\n",
      "Country : {'Austria', 'Iceland', 'Bahrain', 'Germany', 'United Arab Emirates', 'Serbia', 'Ireland', 'Macedonia, the former Yugoslav Republic of', 'Russian Federation', 'Finland', 'Malta', 'Isle of Man', 'New Zealand', 'Mexico', 'Belarus', 'Croatia', 'Sweden', 'United Kingdom', 'Jersey', 'Saudi Arabia', 'Guernsey', 'Georgia', 'Canada', 'Chile', 'Netherlands', 'Luxembourg', 'Switzerland', 'Moldova, Republic of', 'Bosnia and Herzegovina', 'Norway', 'Ukraine'}\n",
      "\n",
      "gender : {'Male', 'Female'}\n"
     ]
    }
   ],
   "source": [
    "print('Number of unique players : {}'.format(len(set(df['customer_id']))))\n",
    "print('')\n",
    "print('Acquisition sources : {}'.format(set(df['acquisition_source'])))\n",
    "print('')\n",
    "print('Country : {}'.format(set(df['country'])))\n",
    "print('')\n",
    "print('gender : {}'.format(set(df['gender'])))\n",
    "\n",
    "\n",
    "# data below looks ok"
   ]
  },
  {
   "cell_type": "code",
   "execution_count": 15,
   "metadata": {},
   "outputs": [
    {
     "data": {
      "image/png": "[encoded data removed]",
      "text/plain": [
       "<Figure size 1440x360 with 3 Axes>"
      ]
     },
     "metadata": {
      "needs_background": "light"
     },
     "output_type": "display_data"
    }
   ],
   "source": [
    "# start looking at Categorical Data. Used quick bar plots to better guage the frequencies\n",
    "\n",
    "catData = ['acquisition_source','country','gender']\n",
    "fig, ax  = plt.subplots(nrows=1,ncols=3, figsize=(20,5))\n",
    "i = 0\n",
    "for ind, col in enumerate(df[catData]):\n",
    "    dt = df[['customer_id', col]].groupby(col).count().reset_index()\n",
    "    ax[ind].bar(dt[col].astype(str),dt['customer_id'])\n",
    "    ax[ind].set_title(col)\n",
    "# for ax in fig.axes:\n",
    "plt.sca(ax[1])\n",
    "plt.xticks(rotation=90)\n",
    "fig.suptitle(\"Frequencies for Categorical Data\", fontsize=14)\n",
    "plt.show()"
   ]
  },
  {
   "cell_type": "markdown",
   "metadata": {},
   "source": [
    "From the above I can easily point out that:\n",
    "- FIG 1: Acquisition is coming from 2 different sources only, with an even distribution for either\n",
    "- FIG 2: \n",
    "    - Predominant market is UK, following by Norway and Germany. \n",
    "    - There are certain countries such as Bahrain, Belarus, Bosnia .., Chile, etc which are emerging markets and the counts are very low. It is recommended that these are grouped together into an *Other* country grouping.\n",
    "- FIG 3: \n",
    "    - Data is strongly biased towards Males.\n",
    "    - Need to be careful if considering a form of price model not to include Gender for GDPR purposes."
   ]
  },
  {
   "cell_type": "code",
   "execution_count": 16,
   "metadata": {},
   "outputs": [
    {
     "data": {
      "text/html": [
       "<div>\n",
       "<style scoped>\n",
       "    .dataframe tbody tr th:only-of-type {\n",
       "        vertical-align: middle;\n",
       "    }\n",
       "\n",
       "    .dataframe tbody tr th {\n",
       "        vertical-align: top;\n",
       "    }\n",
       "\n",
       "    .dataframe thead th {\n",
       "        text-align: right;\n",
       "    }\n",
       "</style>\n",
       "<table border=\"1\" class=\"dataframe\">\n",
       "  <thead>\n",
       "    <tr style=\"text-align: right;\">\n",
       "      <th></th>\n",
       "      <th>count_deposit</th>\n",
       "      <th>sum_free_spin</th>\n",
       "      <th>sum_deposit</th>\n",
       "      <th>sum_bonus_cost</th>\n",
       "      <th>sum_bet_bonus</th>\n",
       "      <th>sum_win_bonus</th>\n",
       "      <th>sum_bet_real</th>\n",
       "      <th>sum_win_real</th>\n",
       "      <th>sum_ngr</th>\n",
       "    </tr>\n",
       "  </thead>\n",
       "  <tbody>\n",
       "    <tr>\n",
       "      <th>count</th>\n",
       "      <td>25162.000000</td>\n",
       "      <td>25162.000000</td>\n",
       "      <td>25162.000000</td>\n",
       "      <td>25162.000000</td>\n",
       "      <td>25162.000000</td>\n",
       "      <td>25162.000000</td>\n",
       "      <td>25162.000000</td>\n",
       "      <td>25162.000000</td>\n",
       "      <td>25162.000000</td>\n",
       "    </tr>\n",
       "    <tr>\n",
       "      <th>mean</th>\n",
       "      <td>0.972458</td>\n",
       "      <td>2.381136</td>\n",
       "      <td>65.888219</td>\n",
       "      <td>12.188057</td>\n",
       "      <td>101.292793</td>\n",
       "      <td>107.536266</td>\n",
       "      <td>430.993975</td>\n",
       "      <td>411.722003</td>\n",
       "      <td>9.501080</td>\n",
       "    </tr>\n",
       "    <tr>\n",
       "      <th>std</th>\n",
       "      <td>1.611136</td>\n",
       "      <td>116.734436</td>\n",
       "      <td>473.715971</td>\n",
       "      <td>40.776655</td>\n",
       "      <td>478.867102</td>\n",
       "      <td>565.953552</td>\n",
       "      <td>3789.387621</td>\n",
       "      <td>3845.533302</td>\n",
       "      <td>715.630634</td>\n",
       "    </tr>\n",
       "    <tr>\n",
       "      <th>min</th>\n",
       "      <td>0.000000</td>\n",
       "      <td>0.000000</td>\n",
       "      <td>0.000000</td>\n",
       "      <td>-761.805000</td>\n",
       "      <td>0.000000</td>\n",
       "      <td>0.000000</td>\n",
       "      <td>-0.637000</td>\n",
       "      <td>-6.874000</td>\n",
       "      <td>-65524.977000</td>\n",
       "    </tr>\n",
       "    <tr>\n",
       "      <th>25%</th>\n",
       "      <td>0.000000</td>\n",
       "      <td>0.000000</td>\n",
       "      <td>0.000000</td>\n",
       "      <td>0.000000</td>\n",
       "      <td>0.000000</td>\n",
       "      <td>0.000000</td>\n",
       "      <td>0.000000</td>\n",
       "      <td>0.000000</td>\n",
       "      <td>-0.336750</td>\n",
       "    </tr>\n",
       "    <tr>\n",
       "      <th>50%</th>\n",
       "      <td>1.000000</td>\n",
       "      <td>0.000000</td>\n",
       "      <td>11.240000</td>\n",
       "      <td>0.000000</td>\n",
       "      <td>0.000000</td>\n",
       "      <td>0.000000</td>\n",
       "      <td>7.667000</td>\n",
       "      <td>0.400000</td>\n",
       "      <td>5.000000</td>\n",
       "    </tr>\n",
       "    <tr>\n",
       "      <th>75%</th>\n",
       "      <td>1.000000</td>\n",
       "      <td>0.400000</td>\n",
       "      <td>48.800000</td>\n",
       "      <td>0.000000</td>\n",
       "      <td>0.627750</td>\n",
       "      <td>4.890000</td>\n",
       "      <td>116.256000</td>\n",
       "      <td>88.740000</td>\n",
       "      <td>38.849000</td>\n",
       "    </tr>\n",
       "    <tr>\n",
       "      <th>max</th>\n",
       "      <td>56.000000</td>\n",
       "      <td>18480.580000</td>\n",
       "      <td>57724.500000</td>\n",
       "      <td>1100.000000</td>\n",
       "      <td>12157.404000</td>\n",
       "      <td>18482.180000</td>\n",
       "      <td>302879.545000</td>\n",
       "      <td>330018.731000</td>\n",
       "      <td>57598.275000</td>\n",
       "    </tr>\n",
       "  </tbody>\n",
       "</table>\n",
       "</div>"
      ],
      "text/plain": [
       "       count_deposit  sum_free_spin   sum_deposit  sum_bonus_cost  \\\n",
       "count   25162.000000   25162.000000  25162.000000    25162.000000   \n",
       "mean        0.972458       2.381136     65.888219       12.188057   \n",
       "std         1.611136     116.734436    473.715971       40.776655   \n",
       "min         0.000000       0.000000      0.000000     -761.805000   \n",
       "25%         0.000000       0.000000      0.000000        0.000000   \n",
       "50%         1.000000       0.000000     11.240000        0.000000   \n",
       "75%         1.000000       0.400000     48.800000        0.000000   \n",
       "max        56.000000   18480.580000  57724.500000     1100.000000   \n",
       "\n",
       "       sum_bet_bonus  sum_win_bonus   sum_bet_real   sum_win_real  \\\n",
       "count   25162.000000   25162.000000   25162.000000   25162.000000   \n",
       "mean      101.292793     107.536266     430.993975     411.722003   \n",
       "std       478.867102     565.953552    3789.387621    3845.533302   \n",
       "min         0.000000       0.000000      -0.637000      -6.874000   \n",
       "25%         0.000000       0.000000       0.000000       0.000000   \n",
       "50%         0.000000       0.000000       7.667000       0.400000   \n",
       "75%         0.627750       4.890000     116.256000      88.740000   \n",
       "max     12157.404000   18482.180000  302879.545000  330018.731000   \n",
       "\n",
       "            sum_ngr  \n",
       "count  25162.000000  \n",
       "mean       9.501080  \n",
       "std      715.630634  \n",
       "min   -65524.977000  \n",
       "25%       -0.336750  \n",
       "50%        5.000000  \n",
       "75%       38.849000  \n",
       "max    57598.275000  "
      ]
     },
     "execution_count": 16,
     "metadata": {},
     "output_type": "execute_result"
    }
   ],
   "source": [
    "#  consider the continous data and provide quick stats\n",
    "continousData = ['count_deposit','sum_free_spin','sum_deposit',\n",
    "                 'sum_bonus_cost','sum_bet_bonus', 'sum_win_bonus',\n",
    "                 'sum_bet_real','sum_win_real', 'sum_ngr']\n",
    "df[continousData].describe()"
   ]
  },
  {
   "cell_type": "markdown",
   "metadata": {},
   "source": [
    "There are some very large StDevs for **sum_bet_real** and **sum_win_real**. Need to check these out to see if these are erroneous or simply the nature of the data."
   ]
  },
  {
   "cell_type": "code",
   "execution_count": 17,
   "metadata": {},
   "outputs": [
    {
     "data": {
      "image/png": "[encoded data removed]",
      "text/plain": [
       "<Figure size 1440x864 with 9 Axes>"
      ]
     },
     "metadata": {
      "needs_background": "light"
     },
     "output_type": "display_data"
    }
   ],
   "source": [
    "fig, ax  = plt.subplots(nrows=3,ncols=3, figsize=(20,12))\n",
    "i = 0\n",
    "for ind, col in enumerate(df[continousData]):\n",
    "    if ((ind%3==0) & (ind > 1)):\n",
    "              i+=1\n",
    "    ax[i, ind%3].hist(df[col].values)\n",
    "    ax[i, ind%3].set_title(col)\n",
    "fig.suptitle(\"Distribution for Continous Data\", fontsize=14)    \n",
    "plt.show()"
   ]
  },
  {
   "cell_type": "code",
   "execution_count": 18,
   "metadata": {},
   "outputs": [
    {
     "data": {
      "image/png": "[encoded data removed]",
      "text/plain": [
       "<Figure size 1440x864 with 9 Axes>"
      ]
     },
     "metadata": {
      "needs_background": "light"
     },
     "output_type": "display_data"
    }
   ],
   "source": [
    "lowBound = 0.1\n",
    "upBound = .9\n",
    "fig, ax  = plt.subplots(nrows=3,ncols=3, figsize=(20,12))\n",
    "i = 0\n",
    "for ind, col in enumerate(df[continousData]):\n",
    "    if ((ind%3==0) & (ind > 1)):\n",
    "              i+=1\n",
    "    X = df[col]\n",
    "    ax[i, ind%3].hist(X[(X>X.quantile(lowBound)) & (X<X.quantile(upBound))])\n",
    "    ax[i, ind%3].set_title(\"{}% of {} in range [{}-{}]\".format(round((upBound-lowBound)*100), col, X.quantile(lowBound),X.quantile(upBound)))\n",
    "fig.suptitle(\"Truncated distributions for Continous Data\", fontsize=14)    \n",
    "plt.show()"
   ]
  },
  {
   "cell_type": "markdown",
   "metadata": {},
   "source": [
    "From the above:\n",
    "- FIG1 & FIG3: \n",
    "    - The average deposit is of 0.97, with a narrow std of 1.611136. This suggests that players deposit low amounts in general. \n",
    "    - The average deposit is of 11.240000CUR, thus the shift of the bar chart towards the left. However, we also have a group of players who tend to deposit 50CUR and 100-150CUR. These could possibly be High Value Clients.\n",
    "- FIG2: \n",
    "    - **sum_free_spins** seems to have a very nice, gradually decreasing exponential trend. I am guessing that these are programatically generated within the different casinos which are sampling an exponential distribution.\n",
    "    - This viz suggests that most players do not get a free spin, since median is 0. *Could this be a means of increasing our player retention if we increased the free spin to atleast a median of 1 per player??*\n",
    "- FIG4 - FIG6: \n",
    "    - **sum_bonus_cost**, **sum_bet_bonus**, **sum_win_bonus** all indicate an average bonus value of 10CUR. There is an interesting jump at around the 100CUR mark for **sum_bet_bonus**. *Could this be coming from the free bonus that we are giving to the higher value players identified before?*\n",
    "- FIG7 & FIG8:\n",
    "    - **sum_bet_real** and **sum_win_real** have very similar distributions with almost identical 80% ranges. *Could there be a possible linear relations? Will check for Corr later.*\n",
    "- FIG9: \n",
    "    - NGR = Net Gaming Revenue defined as *player bets minus wins, minus bonus costs, minus regulated market tax*. To be honest, I think it is low at avg 9.501080EUR. The 3rd quartile is actually very wide from 5CUR to 38.849000CUR. Possibly suggesting that we have a lot of different player styles which are resulting in a spread (hence the 715.630634CUR St.Dev).\n",
    "    - Once again, we have a slight increase at the 100CUR side. ...*High value clients ?*...\n",
    "    - The -ve side is showing low counts, which is a relief. "
   ]
  },
  {
   "cell_type": "code",
   "execution_count": 19,
   "metadata": {},
   "outputs": [],
   "source": [
    "# convert objects to datetime\n",
    "dateData = ['date_first_deposit_id','date_transaction_id']\n",
    "for col in dateData:\n",
    "    df[col] = df[col].apply(lambda x : pd.to_datetime(str(x)[:8]) )\n",
    "#     date_registration_id is throwing an error of incorrect date \"ValueError: day is out of range for month\""
   ]
  },
  {
   "cell_type": "code",
   "execution_count": 20,
   "metadata": {},
   "outputs": [
    {
     "name": "stdout",
     "output_type": "stream",
     "text": [
      "Incorrect dates : [20090229.0, 20090229.0, 20090229.0, 20090229.0]\n"
     ]
    }
   ],
   "source": [
    "dateToFix = []\n",
    "for x in df['date_registration_id']:\n",
    "    try:\n",
    "        pd.to_datetime(str(x)[:8])\n",
    "    except:\n",
    "        dateToFix.append(x)\n",
    "print('Incorrect dates : {}'.format(dateToFix))"
   ]
  },
  {
   "cell_type": "code",
   "execution_count": 21,
   "metadata": {},
   "outputs": [],
   "source": [
    "df['date_registration_id'].replace({20090229.0 : 20090228}, inplace=True)\n",
    "df['date_registration_id'] = df['date_registration_id'].apply(lambda x : pd.to_datetime(str(x)[:8]) )"
   ]
  },
  {
   "cell_type": "code",
   "execution_count": 22,
   "metadata": {},
   "outputs": [
    {
     "name": "stderr",
     "output_type": "stream",
     "text": [
      "/Users/Chris/anaconda3/lib/python3.6/site-packages/pandas/plotting/_converter.py:129: FutureWarning: Using an implicitly registered datetime converter for a matplotlib plotting method. The converter was registered by pandas on import. Future versions of pandas will require you to explicitly register matplotlib converters.\n",
      "\n",
      "To register the converters:\n",
      "\t>>> from pandas.plotting import register_matplotlib_converters\n",
      "\t>>> register_matplotlib_converters()\n",
      "  warnings.warn(msg, FutureWarning)\n"
     ]
    },
    {
     "data": {
      "image/png": "[encoded data removed]",
      "text/plain": [
       "<Figure size 1440x360 with 3 Axes>"
      ]
     },
     "metadata": {
      "needs_background": "light"
     },
     "output_type": "display_data"
    }
   ],
   "source": [
    "#  plot datetime information\n",
    "dateData = ['date_first_deposit_id','date_transaction_id','date_registration_id']\n",
    "locator = mdates.AutoDateLocator()\n",
    "fig, ax  = plt.subplots(nrows=1,ncols=3, figsize=(20,5))\n",
    "i = 0\n",
    "for ind, col in enumerate(df[dateData]):\n",
    "    ax[ind].hist(df[col])\n",
    "    ax[ind].xaxis.set_major_locator(locator)\n",
    "    ax[ind].xaxis.set_major_formatter(mdates.AutoDateFormatter(locator))\n",
    "    ax[ind].set_title(col)\n",
    "fig.suptitle(\"Frequency for Time Data\", fontsize=14)\n",
    "plt.show()"
   ]
  },
  {
   "cell_type": "code",
   "execution_count": 23,
   "metadata": {},
   "outputs": [
    {
     "name": "stdout",
     "output_type": "stream",
     "text": [
      "date_first_deposit_id : \n",
      "[('2010-06', 11025), ('2011-06', 14137)]\n",
      "-------\n",
      "\n",
      "date_transaction_id : \n",
      "[('2010-06', 5322), ('2010-07', 2712), ('2010-08', 2064), ('2010-09', 927), ('2011-06', 7492), ('2011-07', 3814), ('2011-08', 2210), ('2011-09', 621)]\n",
      "-------\n",
      "\n",
      "date_registration_id : \n",
      "[('2006-07', 3), ('2006-08', 4), ('2006-10', 2), ('2006-11', 28), ('2006-12', 6), ('2007-03', 2), ('2007-04', 21), ('2007-05', 18), ('2007-06', 4), ('2007-07', 7), ('2007-09', 34), ('2007-10', 4), ('2007-11', 4), ('2007-12', 31), ('2008-01', 11), ('2008-02', 9), ('2008-04', 3), ('2008-05', 59), ('2008-07', 2), ('2008-08', 15), ('2008-09', 41), ('2008-10', 38), ('2008-11', 54), ('2008-12', 18), ('2009-01', 20), ('2009-02', 34), ('2009-03', 30), ('2009-04', 40), ('2009-05', 25), ('2009-06', 79), ('2009-07', 24), ('2009-08', 52), ('2009-09', 62), ('2009-10', 86), ('2009-11', 83), ('2009-12', 81), ('2010-01', 41), ('2010-02', 133), ('2010-03', 159), ('2010-04', 77), ('2010-05', 750), ('2010-06', 9104), ('2010-07', 20), ('2010-08', 25), ('2010-09', 101), ('2010-10', 53), ('2010-11', 42), ('2010-12', 24), ('2011-01', 48), ('2011-02', 39), ('2011-03', 138), ('2011-04', 218), ('2011-05', 468), ('2011-06', 12688)]\n",
      "-------\n",
      "\n"
     ]
    }
   ],
   "source": [
    "for dd in dateData:\n",
    "    print('{} : '.format(dd))\n",
    "    print( sorted( Counter( [d.strftime('%Y-%m') for d in df[dd]] ).items() ) )\n",
    "    print('-------')\n",
    "    print('')"
   ]
  },
  {
   "cell_type": "markdown",
   "metadata": {},
   "source": [
    "For above Chart and table printout:\n",
    "- FIG1: Looks weird. We seem to have only data coming from 2011-06 and 2010-06 deposits\n",
    "- FIG2: We are getting 4 months of data for 2010 and 2011 respectively. This is expected since the data provided for 3 months after first deposit.\n",
    "- FIG3: There is a wider spread of dates for **date_registration_id**. However, the concentration still lies at '2010-06' and '2011-06'. Players seem to register and deposit straight away....trivial."
   ]
  },
  {
   "cell_type": "code",
   "execution_count": 24,
   "metadata": {},
   "outputs": [
    {
     "name": "stdout",
     "output_type": "stream",
     "text": [
      "['Austria', 'Iceland', 'Bahrain', 'Germany', 'United Arab Emirates', 'Serbia', 'Ireland', 'Macedonia, the former Yugoslav Republic of', 'Russian Federation', 'Finland', 'Malta', 'Isle of Man', 'New Zealand', 'Mexico', 'Belarus', 'Croatia', 'Sweden', 'United Kingdom', 'Jersey', 'Saudi Arabia', 'Guernsey', 'Georgia', 'Canada', 'Chile', 'Netherlands', 'Luxembourg', 'Switzerland', 'Moldova, Republic of', 'Bosnia and Herzegovina', 'Norway', 'Ukraine']\n"
     ]
    }
   ],
   "source": [
    "# consider country. I will try and add Country Lat / Long as this will be necessary further \n",
    "# on in the modelling stages\n",
    "X = [x for x in set(df['country']) ]\n",
    "print(X)"
   ]
  },
  {
   "cell_type": "code",
   "execution_count": 25,
   "metadata": {},
   "outputs": [],
   "source": [
    "# Get Country information\n",
    "# https://www.kaggle.com/eidanch/counties-geographic-coordinates\n",
    "df_country = pd.read_csv('./data/extraData/countries.csv', low_memory=False)\n",
    "df_country.columns = ['CountryKey','Country_Lat','Country_Long','Country']"
   ]
  },
  {
   "cell_type": "markdown",
   "metadata": {},
   "source": [
    "Matching of Country is going to be a bit trick due to \"free text\". The approach I will follow will be:\n",
    "1. First do an exact match,\n",
    "2. Use a similarity metric (such as Levenshtein) to find the closest match, or hard code the result depending on the number of missing variables"
   ]
  },
  {
   "cell_type": "code",
   "execution_count": 26,
   "metadata": {},
   "outputs": [
    {
     "name": "stdout",
     "output_type": "stream",
     "text": [
      "[12, 106, 22, 53, 1, 186, 99, 'MISSING', 'MISSING', 66, 149, 101, 167, 153, 33, 95, 193, 73, 108, 189, 77, 75, 35, 43, 162, 131, 40, 'MISSING', 16, 163, 224]\n"
     ]
    }
   ],
   "source": [
    "matchExact = [df_country[df_country['Country']==x].index for x in X]\n",
    "indexValues = []\n",
    "for x in matchExact:\n",
    "    if len(x) > 0:\n",
    "        indexValues.append(x[0])\n",
    "    else:\n",
    "        indexValues.append('MISSING')\n",
    "print(indexValues)"
   ]
  },
  {
   "cell_type": "code",
   "execution_count": 27,
   "metadata": {},
   "outputs": [
    {
     "name": "stdout",
     "output_type": "stream",
     "text": [
      "['Macedonia, the former Yugoslav Republic of', 'Russian Federation', 'Moldova, Republic of']\n"
     ]
    }
   ],
   "source": [
    "df_countries_partial = [x for x, ind in zip(X, indexValues) if ind=='MISSING']\n",
    "print(df_countries_partial)"
   ]
  },
  {
   "cell_type": "markdown",
   "metadata": {},
   "source": [
    "Since only 3 countries did not match, I manually fixed the csv file to contain the above countries. In a production environment, I would have gone via a partial matching approach to find the best fit."
   ]
  },
  {
   "cell_type": "code",
   "execution_count": 28,
   "metadata": {},
   "outputs": [],
   "source": [
    "df_country = pd.read_csv('./data/extraData/countries_edited.csv', low_memory=False)\n",
    "df_country.columns = ['CountryKey','Country_Lat','Country_Long','Country']"
   ]
  },
  {
   "cell_type": "code",
   "execution_count": 29,
   "metadata": {},
   "outputs": [
    {
     "name": "stdout",
     "output_type": "stream",
     "text": [
      "[12, 106, 22, 53, 1, 186, 99, 140, 187, 66, 149, 101, 167, 153, 33, 95, 193, 73, 108, 189, 77, 75, 35, 43, 162, 131, 40, 136, 16, 163, 224]\n"
     ]
    }
   ],
   "source": [
    "matchExact = [df_country[df_country['Country']==x].index for x in X]\n",
    "indexValues = []\n",
    "for x in matchExact:\n",
    "    if len(x) > 0:\n",
    "        indexValues.append(x[0])\n",
    "    else:\n",
    "        indexValues.append('MISSING')\n",
    "print(indexValues)"
   ]
  },
  {
   "cell_type": "code",
   "execution_count": 30,
   "metadata": {},
   "outputs": [],
   "source": [
    "df_country_match = df_country.loc[indexValues]"
   ]
  },
  {
   "cell_type": "code",
   "execution_count": 31,
   "metadata": {},
   "outputs": [],
   "source": [
    "df = df.merge(df_country_match,how='left', left_on='country', right_on='Country')\n",
    "df.drop(['Country'], axis=1, inplace=True)"
   ]
  },
  {
   "cell_type": "code",
   "execution_count": 32,
   "metadata": {},
   "outputs": [
    {
     "data": {
      "text/html": [
       "<div>\n",
       "<style scoped>\n",
       "    .dataframe tbody tr th:only-of-type {\n",
       "        vertical-align: middle;\n",
       "    }\n",
       "\n",
       "    .dataframe tbody tr th {\n",
       "        vertical-align: top;\n",
       "    }\n",
       "\n",
       "    .dataframe thead th {\n",
       "        text-align: right;\n",
       "    }\n",
       "</style>\n",
       "<table border=\"1\" class=\"dataframe\">\n",
       "  <thead>\n",
       "    <tr style=\"text-align: right;\">\n",
       "      <th></th>\n",
       "      <th>Total</th>\n",
       "      <th>Percent</th>\n",
       "    </tr>\n",
       "  </thead>\n",
       "  <tbody>\n",
       "    <tr>\n",
       "      <th>Country_Long</th>\n",
       "      <td>0</td>\n",
       "      <td>0.0</td>\n",
       "    </tr>\n",
       "    <tr>\n",
       "      <th>sum_free_spin</th>\n",
       "      <td>0</td>\n",
       "      <td>0.0</td>\n",
       "    </tr>\n",
       "    <tr>\n",
       "      <th>acquisition_source</th>\n",
       "      <td>0</td>\n",
       "      <td>0.0</td>\n",
       "    </tr>\n",
       "    <tr>\n",
       "      <th>country</th>\n",
       "      <td>0</td>\n",
       "      <td>0.0</td>\n",
       "    </tr>\n",
       "    <tr>\n",
       "      <th>date_first_deposit_id</th>\n",
       "      <td>0</td>\n",
       "      <td>0.0</td>\n",
       "    </tr>\n",
       "    <tr>\n",
       "      <th>date_registration_id</th>\n",
       "      <td>0</td>\n",
       "      <td>0.0</td>\n",
       "    </tr>\n",
       "    <tr>\n",
       "      <th>gender</th>\n",
       "      <td>0</td>\n",
       "      <td>0.0</td>\n",
       "    </tr>\n",
       "    <tr>\n",
       "      <th>date_transaction_id</th>\n",
       "      <td>0</td>\n",
       "      <td>0.0</td>\n",
       "    </tr>\n",
       "    <tr>\n",
       "      <th>count_deposit</th>\n",
       "      <td>0</td>\n",
       "      <td>0.0</td>\n",
       "    </tr>\n",
       "    <tr>\n",
       "      <th>sum_deposit</th>\n",
       "      <td>0</td>\n",
       "      <td>0.0</td>\n",
       "    </tr>\n",
       "    <tr>\n",
       "      <th>Country_Lat</th>\n",
       "      <td>0</td>\n",
       "      <td>0.0</td>\n",
       "    </tr>\n",
       "    <tr>\n",
       "      <th>sum_bonus_cost</th>\n",
       "      <td>0</td>\n",
       "      <td>0.0</td>\n",
       "    </tr>\n",
       "    <tr>\n",
       "      <th>sum_ngr</th>\n",
       "      <td>0</td>\n",
       "      <td>0.0</td>\n",
       "    </tr>\n",
       "    <tr>\n",
       "      <th>sum_bet_real</th>\n",
       "      <td>0</td>\n",
       "      <td>0.0</td>\n",
       "    </tr>\n",
       "    <tr>\n",
       "      <th>sum_bet_bonus</th>\n",
       "      <td>0</td>\n",
       "      <td>0.0</td>\n",
       "    </tr>\n",
       "    <tr>\n",
       "      <th>sum_win_real</th>\n",
       "      <td>0</td>\n",
       "      <td>0.0</td>\n",
       "    </tr>\n",
       "    <tr>\n",
       "      <th>sum_win_bonus</th>\n",
       "      <td>0</td>\n",
       "      <td>0.0</td>\n",
       "    </tr>\n",
       "    <tr>\n",
       "      <th>CountryKey</th>\n",
       "      <td>0</td>\n",
       "      <td>0.0</td>\n",
       "    </tr>\n",
       "    <tr>\n",
       "      <th>customer_id</th>\n",
       "      <td>0</td>\n",
       "      <td>0.0</td>\n",
       "    </tr>\n",
       "  </tbody>\n",
       "</table>\n",
       "</div>"
      ],
      "text/plain": [
       "                       Total  Percent\n",
       "Country_Long               0      0.0\n",
       "sum_free_spin              0      0.0\n",
       "acquisition_source         0      0.0\n",
       "country                    0      0.0\n",
       "date_first_deposit_id      0      0.0\n",
       "date_registration_id       0      0.0\n",
       "gender                     0      0.0\n",
       "date_transaction_id        0      0.0\n",
       "count_deposit              0      0.0\n",
       "sum_deposit                0      0.0\n",
       "Country_Lat                0      0.0\n",
       "sum_bonus_cost             0      0.0\n",
       "sum_ngr                    0      0.0\n",
       "sum_bet_real               0      0.0\n",
       "sum_bet_bonus              0      0.0\n",
       "sum_win_real               0      0.0\n",
       "sum_win_bonus              0      0.0\n",
       "CountryKey                 0      0.0\n",
       "customer_id                0      0.0"
      ]
     },
     "execution_count": 32,
     "metadata": {},
     "output_type": "execute_result"
    }
   ],
   "source": [
    "missingValues(df)"
   ]
  },
  {
   "cell_type": "code",
   "execution_count": 33,
   "metadata": {},
   "outputs": [
    {
     "data": {
      "text/html": [
       "<div>\n",
       "<style scoped>\n",
       "    .dataframe tbody tr th:only-of-type {\n",
       "        vertical-align: middle;\n",
       "    }\n",
       "\n",
       "    .dataframe tbody tr th {\n",
       "        vertical-align: top;\n",
       "    }\n",
       "\n",
       "    .dataframe thead th {\n",
       "        text-align: right;\n",
       "    }\n",
       "</style>\n",
       "<table border=\"1\" class=\"dataframe\">\n",
       "  <thead>\n",
       "    <tr style=\"text-align: right;\">\n",
       "      <th></th>\n",
       "      <th>customer_id</th>\n",
       "      <th>acquisition_source</th>\n",
       "      <th>country</th>\n",
       "      <th>date_first_deposit_id</th>\n",
       "      <th>date_registration_id</th>\n",
       "      <th>gender</th>\n",
       "      <th>date_transaction_id</th>\n",
       "      <th>count_deposit</th>\n",
       "      <th>sum_free_spin</th>\n",
       "      <th>sum_deposit</th>\n",
       "      <th>sum_bonus_cost</th>\n",
       "      <th>sum_ngr</th>\n",
       "      <th>sum_bet_real</th>\n",
       "      <th>sum_bet_bonus</th>\n",
       "      <th>sum_win_real</th>\n",
       "      <th>sum_win_bonus</th>\n",
       "      <th>CountryKey</th>\n",
       "      <th>Country_Lat</th>\n",
       "      <th>Country_Long</th>\n",
       "    </tr>\n",
       "  </thead>\n",
       "  <tbody>\n",
       "    <tr>\n",
       "      <th>0</th>\n",
       "      <td>1423</td>\n",
       "      <td>1.0</td>\n",
       "      <td>Netherlands</td>\n",
       "      <td>2010-06-17</td>\n",
       "      <td>2010-06-17</td>\n",
       "      <td>Male</td>\n",
       "      <td>2010-06-30</td>\n",
       "      <td>11.0</td>\n",
       "      <td>2.300</td>\n",
       "      <td>250.0</td>\n",
       "      <td>0.000</td>\n",
       "      <td>-0.070</td>\n",
       "      <td>905.400</td>\n",
       "      <td>0.0</td>\n",
       "      <td>903.170</td>\n",
       "      <td>2.300</td>\n",
       "      <td>NL</td>\n",
       "      <td>52.132633</td>\n",
       "      <td>5.291266</td>\n",
       "    </tr>\n",
       "    <tr>\n",
       "      <th>1</th>\n",
       "      <td>170</td>\n",
       "      <td>1.0</td>\n",
       "      <td>Norway</td>\n",
       "      <td>2010-06-23</td>\n",
       "      <td>2009-12-10</td>\n",
       "      <td>Female</td>\n",
       "      <td>2010-07-04</td>\n",
       "      <td>0.0</td>\n",
       "      <td>0.000</td>\n",
       "      <td>0.0</td>\n",
       "      <td>0.000</td>\n",
       "      <td>23.963</td>\n",
       "      <td>67.321</td>\n",
       "      <td>0.0</td>\n",
       "      <td>43.357</td>\n",
       "      <td>0.000</td>\n",
       "      <td>NO</td>\n",
       "      <td>60.472024</td>\n",
       "      <td>8.468946</td>\n",
       "    </tr>\n",
       "    <tr>\n",
       "      <th>2</th>\n",
       "      <td>1516</td>\n",
       "      <td>0.0</td>\n",
       "      <td>Sweden</td>\n",
       "      <td>2010-06-18</td>\n",
       "      <td>2010-06-18</td>\n",
       "      <td>Male</td>\n",
       "      <td>2010-07-05</td>\n",
       "      <td>1.0</td>\n",
       "      <td>1.661</td>\n",
       "      <td>53.2</td>\n",
       "      <td>0.000</td>\n",
       "      <td>51.796</td>\n",
       "      <td>195.767</td>\n",
       "      <td>0.0</td>\n",
       "      <td>142.310</td>\n",
       "      <td>1.661</td>\n",
       "      <td>SE</td>\n",
       "      <td>60.128161</td>\n",
       "      <td>18.643501</td>\n",
       "    </tr>\n",
       "    <tr>\n",
       "      <th>3</th>\n",
       "      <td>1612</td>\n",
       "      <td>0.0</td>\n",
       "      <td>Finland</td>\n",
       "      <td>2010-06-20</td>\n",
       "      <td>2010-06-20</td>\n",
       "      <td>Male</td>\n",
       "      <td>2010-07-05</td>\n",
       "      <td>0.0</td>\n",
       "      <td>0.340</td>\n",
       "      <td>0.0</td>\n",
       "      <td>0.000</td>\n",
       "      <td>-0.340</td>\n",
       "      <td>0.000</td>\n",
       "      <td>0.0</td>\n",
       "      <td>0.000</td>\n",
       "      <td>0.340</td>\n",
       "      <td>FI</td>\n",
       "      <td>61.924110</td>\n",
       "      <td>25.748151</td>\n",
       "    </tr>\n",
       "    <tr>\n",
       "      <th>4</th>\n",
       "      <td>336</td>\n",
       "      <td>1.0</td>\n",
       "      <td>United Kingdom</td>\n",
       "      <td>2010-06-05</td>\n",
       "      <td>2010-05-28</td>\n",
       "      <td>Male</td>\n",
       "      <td>2010-07-05</td>\n",
       "      <td>0.0</td>\n",
       "      <td>0.000</td>\n",
       "      <td>0.0</td>\n",
       "      <td>-0.069</td>\n",
       "      <td>0.069</td>\n",
       "      <td>0.000</td>\n",
       "      <td>0.0</td>\n",
       "      <td>0.000</td>\n",
       "      <td>0.000</td>\n",
       "      <td>GB</td>\n",
       "      <td>55.378051</td>\n",
       "      <td>-3.435973</td>\n",
       "    </tr>\n",
       "  </tbody>\n",
       "</table>\n",
       "</div>"
      ],
      "text/plain": [
       "   customer_id  acquisition_source         country date_first_deposit_id  \\\n",
       "0         1423                 1.0     Netherlands            2010-06-17   \n",
       "1          170                 1.0          Norway            2010-06-23   \n",
       "2         1516                 0.0          Sweden            2010-06-18   \n",
       "3         1612                 0.0         Finland            2010-06-20   \n",
       "4          336                 1.0  United Kingdom            2010-06-05   \n",
       "\n",
       "  date_registration_id  gender date_transaction_id  count_deposit  \\\n",
       "0           2010-06-17    Male          2010-06-30           11.0   \n",
       "1           2009-12-10  Female          2010-07-04            0.0   \n",
       "2           2010-06-18    Male          2010-07-05            1.0   \n",
       "3           2010-06-20    Male          2010-07-05            0.0   \n",
       "4           2010-05-28    Male          2010-07-05            0.0   \n",
       "\n",
       "   sum_free_spin  sum_deposit  sum_bonus_cost  sum_ngr  sum_bet_real  \\\n",
       "0          2.300        250.0           0.000   -0.070       905.400   \n",
       "1          0.000          0.0           0.000   23.963        67.321   \n",
       "2          1.661         53.2           0.000   51.796       195.767   \n",
       "3          0.340          0.0           0.000   -0.340         0.000   \n",
       "4          0.000          0.0          -0.069    0.069         0.000   \n",
       "\n",
       "   sum_bet_bonus  sum_win_real  sum_win_bonus CountryKey  Country_Lat  \\\n",
       "0            0.0       903.170          2.300         NL    52.132633   \n",
       "1            0.0        43.357          0.000         NO    60.472024   \n",
       "2            0.0       142.310          1.661         SE    60.128161   \n",
       "3            0.0         0.000          0.340         FI    61.924110   \n",
       "4            0.0         0.000          0.000         GB    55.378051   \n",
       "\n",
       "   Country_Long  \n",
       "0      5.291266  \n",
       "1      8.468946  \n",
       "2     18.643501  \n",
       "3     25.748151  \n",
       "4     -3.435973  "
      ]
     },
     "execution_count": 33,
     "metadata": {},
     "output_type": "execute_result"
    }
   ],
   "source": [
    "df.head()"
   ]
  },
  {
   "cell_type": "code",
   "execution_count": 34,
   "metadata": {},
   "outputs": [],
   "source": [
    "df.to_pickle('./data/df_1_get_data.pkl')"
   ]
  }
 ],
 "metadata": {
  "kernelspec": {
   "display_name": "Python 3",
   "language": "python",
   "name": "python3"
  },
  "language_info": {
   "codemirror_mode": {
    "name": "ipython",
    "version": 3
   },
   "file_extension": ".py",
   "mimetype": "text/x-python",
   "name": "python",
   "nbconvert_exporter": "python",
   "pygments_lexer": "ipython3",
   "version": "3.6.8"
  }
 },
 "nbformat": 4,
 "nbformat_minor": 2
}
