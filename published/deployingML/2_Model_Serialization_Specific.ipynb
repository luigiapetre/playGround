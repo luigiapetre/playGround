{
 "cells": [
  {
   "cell_type": "markdown",
   "metadata": {},
   "source": [
    "# ML Preprocessing & Modelling specifically for Seriliazation "
   ]
  },
  {
   "cell_type": "code",
   "execution_count": 1,
   "metadata": {},
   "outputs": [
    {
     "data": {
      "text/html": [
       "<div>\n",
       "<style scoped>\n",
       "    .dataframe tbody tr th:only-of-type {\n",
       "        vertical-align: middle;\n",
       "    }\n",
       "\n",
       "    .dataframe tbody tr th {\n",
       "        vertical-align: top;\n",
       "    }\n",
       "\n",
       "    .dataframe thead th {\n",
       "        text-align: right;\n",
       "    }\n",
       "</style>\n",
       "<table border=\"1\" class=\"dataframe\">\n",
       "  <thead>\n",
       "    <tr style=\"text-align: right;\">\n",
       "      <th></th>\n",
       "      <th>Loan_ID</th>\n",
       "      <th>Gender</th>\n",
       "      <th>Married</th>\n",
       "      <th>Dependents</th>\n",
       "      <th>Education</th>\n",
       "      <th>Self_Employed</th>\n",
       "      <th>ApplicantIncome</th>\n",
       "      <th>CoapplicantIncome</th>\n",
       "      <th>LoanAmount</th>\n",
       "      <th>Loan_Amount_Term</th>\n",
       "      <th>Credit_History</th>\n",
       "      <th>Property_Area</th>\n",
       "      <th>Loan_Status</th>\n",
       "    </tr>\n",
       "  </thead>\n",
       "  <tbody>\n",
       "    <tr>\n",
       "      <th>0</th>\n",
       "      <td>LP001002</td>\n",
       "      <td>Male</td>\n",
       "      <td>No</td>\n",
       "      <td>0</td>\n",
       "      <td>Graduate</td>\n",
       "      <td>No</td>\n",
       "      <td>5849</td>\n",
       "      <td>0.0</td>\n",
       "      <td>NaN</td>\n",
       "      <td>360.0</td>\n",
       "      <td>1.0</td>\n",
       "      <td>Urban</td>\n",
       "      <td>Y</td>\n",
       "    </tr>\n",
       "    <tr>\n",
       "      <th>1</th>\n",
       "      <td>LP001003</td>\n",
       "      <td>Male</td>\n",
       "      <td>Yes</td>\n",
       "      <td>1</td>\n",
       "      <td>Graduate</td>\n",
       "      <td>No</td>\n",
       "      <td>4583</td>\n",
       "      <td>1508.0</td>\n",
       "      <td>128.0</td>\n",
       "      <td>360.0</td>\n",
       "      <td>1.0</td>\n",
       "      <td>Rural</td>\n",
       "      <td>N</td>\n",
       "    </tr>\n",
       "    <tr>\n",
       "      <th>2</th>\n",
       "      <td>LP001005</td>\n",
       "      <td>Male</td>\n",
       "      <td>Yes</td>\n",
       "      <td>0</td>\n",
       "      <td>Graduate</td>\n",
       "      <td>Yes</td>\n",
       "      <td>3000</td>\n",
       "      <td>0.0</td>\n",
       "      <td>66.0</td>\n",
       "      <td>360.0</td>\n",
       "      <td>1.0</td>\n",
       "      <td>Urban</td>\n",
       "      <td>Y</td>\n",
       "    </tr>\n",
       "    <tr>\n",
       "      <th>3</th>\n",
       "      <td>LP001006</td>\n",
       "      <td>Male</td>\n",
       "      <td>Yes</td>\n",
       "      <td>0</td>\n",
       "      <td>Not Graduate</td>\n",
       "      <td>No</td>\n",
       "      <td>2583</td>\n",
       "      <td>2358.0</td>\n",
       "      <td>120.0</td>\n",
       "      <td>360.0</td>\n",
       "      <td>1.0</td>\n",
       "      <td>Urban</td>\n",
       "      <td>Y</td>\n",
       "    </tr>\n",
       "    <tr>\n",
       "      <th>4</th>\n",
       "      <td>LP001008</td>\n",
       "      <td>Male</td>\n",
       "      <td>No</td>\n",
       "      <td>0</td>\n",
       "      <td>Graduate</td>\n",
       "      <td>No</td>\n",
       "      <td>6000</td>\n",
       "      <td>0.0</td>\n",
       "      <td>141.0</td>\n",
       "      <td>360.0</td>\n",
       "      <td>1.0</td>\n",
       "      <td>Urban</td>\n",
       "      <td>Y</td>\n",
       "    </tr>\n",
       "  </tbody>\n",
       "</table>\n",
       "</div>"
      ],
      "text/plain": [
       "    Loan_ID Gender Married Dependents     Education Self_Employed  \\\n",
       "0  LP001002   Male      No          0      Graduate            No   \n",
       "1  LP001003   Male     Yes          1      Graduate            No   \n",
       "2  LP001005   Male     Yes          0      Graduate           Yes   \n",
       "3  LP001006   Male     Yes          0  Not Graduate            No   \n",
       "4  LP001008   Male      No          0      Graduate            No   \n",
       "\n",
       "   ApplicantIncome  CoapplicantIncome  LoanAmount  Loan_Amount_Term  \\\n",
       "0             5849                0.0         NaN             360.0   \n",
       "1             4583             1508.0       128.0             360.0   \n",
       "2             3000                0.0        66.0             360.0   \n",
       "3             2583             2358.0       120.0             360.0   \n",
       "4             6000                0.0       141.0             360.0   \n",
       "\n",
       "   Credit_History Property_Area Loan_Status  \n",
       "0             1.0         Urban           Y  \n",
       "1             1.0         Rural           N  \n",
       "2             1.0         Urban           Y  \n",
       "3             1.0         Urban           Y  \n",
       "4             1.0         Urban           Y  "
      ]
     },
     "execution_count": 1,
     "metadata": {},
     "output_type": "execute_result"
    }
   ],
   "source": [
    "import pandas as pd\n",
    "data = pd.read_csv('./data/data_loanPrediction.csv')\n",
    "data.head()"
   ]
  },
  {
   "cell_type": "code",
   "execution_count": 2,
   "metadata": {},
   "outputs": [],
   "source": [
    "data['Loan_Status'] = data['Loan_Status'].replace({'Y':1, 'N':0})"
   ]
  },
  {
   "cell_type": "code",
   "execution_count": 3,
   "metadata": {},
   "outputs": [
    {
     "name": "stdout",
     "output_type": "stream",
     "text": [
      "Orig size        : (614, 12) - (614,) \n",
      "Training size    : (441, 12) - (441,) \n",
      "Validation size  : (62, 12) - (62,) \n",
      "Testing size     : (111, 12) - (111,) \n",
      "Check split      : 614\n"
     ]
    }
   ],
   "source": [
    "# Split the data into *train*, *test* and *validation*\n",
    "from sklearn.model_selection import train_test_split\n",
    "X = data.drop(['Loan_Status'],axis=1)\n",
    "y = data['Loan_Status']\n",
    "X_train, X_valid, y_train, y_valid = train_test_split(X, y, test_size=0.1, random_state=0)\n",
    "\n",
    "data.drop(['Loan_ID'], axis=1, inplace=True)\n",
    "X_train, X_test, y_train, y_test = train_test_split(X_train, y_train, test_size=0.2, random_state=0)\n",
    "\n",
    "print('Orig size        : {} - {} '.format(X.shape,y.shape))\n",
    "print('Training size    : {} - {} '.format(X_train.shape,y_train.shape))\n",
    "print('Validation size  : {} - {} '.format(X_valid.shape,y_valid.shape))\n",
    "print('Testing size     : {} - {} '.format(X_test.shape,y_test.shape))\n",
    "print('Check split      : {}'.format(X_train.shape[0] + X_valid.shape[0] + X_test.shape[0]))"
   ]
  },
  {
   "cell_type": "code",
   "execution_count": 4,
   "metadata": {},
   "outputs": [
    {
     "name": "stdout",
     "output_type": "stream",
     "text": [
      "Null Values\n",
      "    Gender : 13\n",
      "    Married : 3\n",
      "    Dependents : 15\n",
      "    Education : 0\n",
      "    Self_Employed : 32\n",
      "    ApplicantIncome : 0\n",
      "    CoapplicantIncome : 0\n",
      "    LoanAmount : 22\n",
      "    Loan_Amount_Term : 14\n",
      "    Credit_History : 50\n",
      "    Property_Area : 0\n",
      "    Loan_Status : 0\n",
      "\n",
      "Columns with Nulls : \n",
      "['Gender', 'Married', 'Dependents', 'Self_Employed', 'LoanAmount', 'Loan_Amount_Term', 'Credit_History']\n"
     ]
    }
   ],
   "source": [
    "# check null values and save cols with null values\n",
    "cols_nulls = []\n",
    "print('Null Values')\n",
    "for col in data.columns:\n",
    "    print(\"    {} : {}\".format(col, data[col].isnull().sum()))\n",
    "    if data[col].isnull().sum() != 0:\n",
    "        cols_nulls.append(col)\n",
    "print('')\n",
    "print('Columns with Nulls : ')\n",
    "print(cols_nulls)        "
   ]
  },
  {
   "cell_type": "code",
   "execution_count": 5,
   "metadata": {},
   "outputs": [
    {
     "name": "stdout",
     "output_type": "stream",
     "text": [
      "Contents of labels with nulls:\n",
      "   Gender - {nan, 'Male', 'Female'}\n",
      "\n",
      "   Married - {'Yes', nan, 'No'}\n",
      "\n",
      "   Dependents - {nan, '3+', '2', '1', '0'}\n",
      "\n",
      "   Self_Employed - {'Yes', nan, 'No'}\n",
      "\n",
      "   LoanAmount - {nan, nan, nan, nan, nan, nan, nan, nan, nan, nan, nan, nan, nan, nan, nan, nan, 9.0, 17.0, 25.0, 26.0, 30.0, nan, nan, nan, nan, 35.0, nan, 36.0, nan, 40.0, 42.0, 44.0, 45.0, 46.0, 47.0, 48.0, 50.0, 53.0, 54.0, 55.0, 56.0, 58.0, 59.0, 60.0, 570.0, 62.0, 63.0, 61.0, 65.0, 66.0, 67.0, 70.0, 71.0, 72.0, 73.0, 74.0, 75.0, 76.0, 78.0, 80.0, 81.0, 83.0, 84.0, 85.0, 86.0, 87.0, 88.0, 600.0, 90.0, 89.0, 93.0, 94.0, 95.0, 96.0, 97.0, 98.0, 99.0, 100.0, 101.0, 102.0, 103.0, 104.0, 105.0, 106.0, 107.0, 108.0, 109.0, 110.0, 111.0, 112.0, 113.0, 114.0, 115.0, 116.0, 117.0, 118.0, 119.0, 120.0, 121.0, 122.0, 123.0, 124.0, 125.0, 126.0, 127.0, 128.0, 129.0, 130.0, 131.0, 132.0, 133.0, 134.0, 135.0, 136.0, 137.0, 650.0, 139.0, 138.0, 141.0, 140.0, 143.0, 144.0, 145.0, 146.0, 142.0, 148.0, 149.0, 150.0, 151.0, 152.0, 153.0, 154.0, 155.0, 156.0, 157.0, 158.0, 159.0, 160.0, 161.0, 162.0, 164.0, 165.0, 166.0, 167.0, 168.0, 170.0, 172.0, 173.0, 175.0, 176.0, 178.0, 180.0, 181.0, 182.0, 184.0, 185.0, 186.0, 187.0, 188.0, 700.0, 190.0, 191.0, 192.0, 194.0, 196.0, 200.0, 201.0, 205.0, 207.0, 208.0, 209.0, 210.0, 211.0, 214.0, 216.0, 218.0, 225.0, 228.0, 230.0, 234.0, 236.0, 239.0, 240.0, 242.0, 243.0, 244.0, 246.0, 250.0, 253.0, 255.0, 258.0, 259.0, 260.0, 265.0, 267.0, 275.0, 279.0, 280.0, 286.0, 290.0, 292.0, 296.0, 300.0, 304.0, 308.0, 311.0, 312.0, 315.0, 320.0, 324.0, 330.0, 349.0, 350.0, 360.0, 370.0, 376.0, 380.0, 400.0, 405.0, 436.0, 480.0, 490.0, 495.0, 496.0, 500.0}\n",
      "\n",
      "   Loan_Amount_Term - {nan, nan, nan, nan, nan, nan, nan, nan, nan, nan, nan, nan, nan, nan, 12.0, 36.0, 300.0, 180.0, 60.0, 84.0, 480.0, 360.0, 240.0, 120.0}\n",
      "\n",
      "   Credit_History - {0.0, 1.0, nan, nan, nan, nan, nan, nan, nan, nan, nan, nan, nan, nan, nan, nan, nan, nan, nan, nan, nan, nan, nan, nan, nan, nan, nan, nan, nan, nan, nan, nan, nan, nan, nan, nan, nan, nan, nan, nan, nan, nan, nan, nan, nan, nan, nan, nan, nan, nan, nan, nan}\n",
      "\n"
     ]
    }
   ],
   "source": [
    "print('Contents of labels with nulls:')\n",
    "for col in cols_nulls:\n",
    "    print('   {} - {}'.format(col, set(data[col])), end ='\\n\\n')"
   ]
  },
  {
   "cell_type": "markdown",
   "metadata": {},
   "source": [
    "Ok, so I need to inpute some of these features. To do so, I will:\n",
    "- **Gender**  : I shall pick the most promimant applicant.\n",
    "- **Married** : Shall set to **No**\n",
    "- **Dependents** : Inpute as **0**\n",
    "- **Self_Employed** : Inpute as **No**\n",
    "- **LoanAmount** : I shall the derive the **Mean** Amount as based on the *Loan_Amount_Term*\n",
    "- **Loan_Amount_Term** : I shall derive the **Mean** term for all applicants\n",
    "- **Credit_History** : Inpute as **1** (yes)"
   ]
  },
  {
   "cell_type": "code",
   "execution_count": 6,
   "metadata": {},
   "outputs": [
    {
     "data": {
      "text/plain": [
       "'Male'"
      ]
     },
     "execution_count": 6,
     "metadata": {},
     "output_type": "execute_result"
    }
   ],
   "source": [
    "# Gender selection\n",
    "from collections import Counter\n",
    "\n",
    "def mostCommon(lst):\n",
    "    data = Counter(lst)\n",
    "    return data.most_common(1)[0][0]\n",
    "\n",
    "mostCommon(X_train['Gender'])"
   ]
  },
  {
   "cell_type": "code",
   "execution_count": 7,
   "metadata": {},
   "outputs": [],
   "source": [
    "# elements of main pipeline\n",
    "X_train['Gender'] = X_train['Gender'].fillna('Male')\n",
    "X_train['Married'] = X_train['Married'].fillna('No')\n",
    "X_train['Dependents'] = X_train['Dependents'].fillna('0')\n",
    "X_train['Self_Employed'] = X_train['Self_Employed'].fillna('No')\n",
    "X_train['Loan_Amount_Term'] = X_train['Loan_Amount_Term'].fillna(X_train['Loan_Amount_Term'].mean())\n",
    "X_train['LoanAmount'] = X_train['LoanAmount'].fillna(X_train['LoanAmount'].mean())\n",
    "X_train['Credit_History'] = X_train['Credit_History'].fillna(1)"
   ]
  },
  {
   "cell_type": "code",
   "execution_count": 8,
   "metadata": {},
   "outputs": [],
   "source": [
    "from sklearn.base import BaseEstimator, TransformerMixin\n",
    "import warnings\n",
    "warnings.filterwarnings(\"ignore\")\n",
    "\n",
    "class PreProcessing(BaseEstimator, TransformerMixin):\n",
    "    def __init__(self):\n",
    "        pass\n",
    "\n",
    "    def transform(self, df, y=None):\n",
    "        pred_var = ['Gender','Married','Dependents','Education','Self_Employed','ApplicantIncome',\n",
    "                    'CoapplicantIncome','LoanAmount','Loan_Amount_Term','Credit_History','Property_Area']\n",
    "        \n",
    "        df = df[pred_var]\n",
    "        \n",
    "        df['Dependents'] = df['Dependents'].fillna(0)\n",
    "        df['Self_Employed'] = df['Self_Employed'].fillna('No')\n",
    "        df['Loan_Amount_Term'] = df['Loan_Amount_Term'].fillna(self.term_mean_)\n",
    "        df['Credit_History'] = df['Credit_History'].fillna(1)\n",
    "        df['Married'] = df['Married'].fillna('No')\n",
    "        df['Gender'] = df['Gender'].fillna('Male')\n",
    "        df['LoanAmount'] = df['LoanAmount'].fillna(self.amt_mean_)\n",
    "\n",
    "        gender_values = {'Female' : 0, 'Male' : 1} \n",
    "        married_values = {'No' : 0, 'Yes' : 1}\n",
    "        education_values = {'Graduate' : 0, 'Not Graduate' : 1}\n",
    "        employed_values = {'No' : 0, 'Yes' : 1}\n",
    "\n",
    "        col_OHE = ['Property_Area','Dependents']\n",
    "        for col in col_OHE:\n",
    "            for enum, lbl in enumerate(set(df[col])):\n",
    "                col_name = col+'_'+lbl    \n",
    "                Xt = df[col].replace(lbl,1)\n",
    "                Xt[Xt!=1]=0\n",
    "                df[col_name] = Xt\n",
    "        df.drop(col_OHE, axis=1, inplace=True)\n",
    "        \n",
    "        df.replace({'Gender': gender_values,\n",
    "                    'Married': married_values, \n",
    "                    'Education': education_values,\n",
    "                    'Self_Employed': employed_values\n",
    "                   }, inplace=True)\n",
    "        \n",
    "        # Standard Scalar for Continuous Functions\n",
    "        colCONT = ['ApplicantIncome','CoapplicantIncome','LoanAmount', 'Loan_Amount_Term']\n",
    "        for col in colCONT:\n",
    "            df[col] = (df[col] - df[col].mean())/df[col].std(ddof=0)\n",
    "        \n",
    "        return df\n",
    "\n",
    "    def fit(self, df, y=None):\n",
    "        self.term_mean_ = df['Loan_Amount_Term'].mean()\n",
    "        self.amt_mean_ = df['LoanAmount'].mean()\n",
    "\n",
    "        return self"
   ]
  },
  {
   "cell_type": "code",
   "execution_count": 9,
   "metadata": {},
   "outputs": [
    {
     "data": {
      "text/html": [
       "<div>\n",
       "<style scoped>\n",
       "    .dataframe tbody tr th:only-of-type {\n",
       "        vertical-align: middle;\n",
       "    }\n",
       "\n",
       "    .dataframe tbody tr th {\n",
       "        vertical-align: top;\n",
       "    }\n",
       "\n",
       "    .dataframe thead th {\n",
       "        text-align: right;\n",
       "    }\n",
       "</style>\n",
       "<table border=\"1\" class=\"dataframe\">\n",
       "  <thead>\n",
       "    <tr style=\"text-align: right;\">\n",
       "      <th></th>\n",
       "      <th>Gender</th>\n",
       "      <th>Married</th>\n",
       "      <th>Education</th>\n",
       "      <th>Self_Employed</th>\n",
       "      <th>ApplicantIncome</th>\n",
       "      <th>CoapplicantIncome</th>\n",
       "      <th>LoanAmount</th>\n",
       "      <th>Loan_Amount_Term</th>\n",
       "      <th>Credit_History</th>\n",
       "      <th>Property_Area_Urban</th>\n",
       "      <th>Property_Area_Semiurban</th>\n",
       "      <th>Property_Area_Rural</th>\n",
       "      <th>Dependents_2</th>\n",
       "      <th>Dependents_1</th>\n",
       "      <th>Dependents_0</th>\n",
       "      <th>Dependents_3+</th>\n",
       "    </tr>\n",
       "  </thead>\n",
       "  <tbody>\n",
       "    <tr>\n",
       "      <th>369</th>\n",
       "      <td>1</td>\n",
       "      <td>1</td>\n",
       "      <td>0</td>\n",
       "      <td>0</td>\n",
       "      <td>1.962401</td>\n",
       "      <td>1.434529</td>\n",
       "      <td>1.916470</td>\n",
       "      <td>0.5</td>\n",
       "      <td>1.0</td>\n",
       "      <td>0</td>\n",
       "      <td>0</td>\n",
       "      <td>1</td>\n",
       "      <td>0</td>\n",
       "      <td>0</td>\n",
       "      <td>1</td>\n",
       "      <td>0</td>\n",
       "    </tr>\n",
       "    <tr>\n",
       "      <th>147</th>\n",
       "      <td>1</td>\n",
       "      <td>1</td>\n",
       "      <td>0</td>\n",
       "      <td>0</td>\n",
       "      <td>-0.774699</td>\n",
       "      <td>-0.689286</td>\n",
       "      <td>-0.945515</td>\n",
       "      <td>0.5</td>\n",
       "      <td>1.0</td>\n",
       "      <td>1</td>\n",
       "      <td>0</td>\n",
       "      <td>0</td>\n",
       "      <td>0</td>\n",
       "      <td>1</td>\n",
       "      <td>0</td>\n",
       "      <td>0</td>\n",
       "    </tr>\n",
       "    <tr>\n",
       "      <th>359</th>\n",
       "      <td>1</td>\n",
       "      <td>1</td>\n",
       "      <td>0</td>\n",
       "      <td>0</td>\n",
       "      <td>-0.228694</td>\n",
       "      <td>0.273923</td>\n",
       "      <td>-0.044520</td>\n",
       "      <td>0.5</td>\n",
       "      <td>1.0</td>\n",
       "      <td>0</td>\n",
       "      <td>1</td>\n",
       "      <td>0</td>\n",
       "      <td>0</td>\n",
       "      <td>0</td>\n",
       "      <td>0</td>\n",
       "      <td>1</td>\n",
       "    </tr>\n",
       "    <tr>\n",
       "      <th>19</th>\n",
       "      <td>1</td>\n",
       "      <td>1</td>\n",
       "      <td>0</td>\n",
       "      <td>0</td>\n",
       "      <td>-0.614915</td>\n",
       "      <td>0.458050</td>\n",
       "      <td>-0.495017</td>\n",
       "      <td>-2.0</td>\n",
       "      <td>1.0</td>\n",
       "      <td>1</td>\n",
       "      <td>0</td>\n",
       "      <td>0</td>\n",
       "      <td>0</td>\n",
       "      <td>0</td>\n",
       "      <td>1</td>\n",
       "      <td>0</td>\n",
       "    </tr>\n",
       "    <tr>\n",
       "      <th>291</th>\n",
       "      <td>1</td>\n",
       "      <td>1</td>\n",
       "      <td>0</td>\n",
       "      <td>0</td>\n",
       "      <td>-0.344094</td>\n",
       "      <td>-1.477216</td>\n",
       "      <td>-0.431418</td>\n",
       "      <td>0.5</td>\n",
       "      <td>0.0</td>\n",
       "      <td>0</td>\n",
       "      <td>1</td>\n",
       "      <td>0</td>\n",
       "      <td>1</td>\n",
       "      <td>0</td>\n",
       "      <td>0</td>\n",
       "      <td>0</td>\n",
       "    </tr>\n",
       "  </tbody>\n",
       "</table>\n",
       "</div>"
      ],
      "text/plain": [
       "     Gender  Married Education Self_Employed  ApplicantIncome  \\\n",
       "369       1        1         0             0         1.962401   \n",
       "147       1        1         0             0        -0.774699   \n",
       "359       1        1         0             0        -0.228694   \n",
       "19        1        1         0             0        -0.614915   \n",
       "291       1        1         0             0        -0.344094   \n",
       "\n",
       "     CoapplicantIncome  LoanAmount  Loan_Amount_Term  Credit_History  \\\n",
       "369           1.434529    1.916470               0.5             1.0   \n",
       "147          -0.689286   -0.945515               0.5             1.0   \n",
       "359           0.273923   -0.044520               0.5             1.0   \n",
       "19            0.458050   -0.495017              -2.0             1.0   \n",
       "291          -1.477216   -0.431418               0.5             0.0   \n",
       "\n",
       "    Property_Area_Urban Property_Area_Semiurban Property_Area_Rural  \\\n",
       "369                   0                       0                   1   \n",
       "147                   1                       0                   0   \n",
       "359                   0                       1                   0   \n",
       "19                    1                       0                   0   \n",
       "291                   0                       1                   0   \n",
       "\n",
       "    Dependents_2 Dependents_1 Dependents_0 Dependents_3+  \n",
       "369            0            0            1             0  \n",
       "147            0            1            0             0  \n",
       "359            0            0            0             1  \n",
       "19             0            0            1             0  \n",
       "291            1            0            0             0  "
      ]
     },
     "execution_count": 9,
     "metadata": {},
     "output_type": "execute_result"
    }
   ],
   "source": [
    "pp = PreProcessing()\n",
    "pp.fit_transform(X_train.head())    "
   ]
  },
  {
   "cell_type": "code",
   "execution_count": 10,
   "metadata": {},
   "outputs": [],
   "source": [
    "from sklearn.pipeline import Pipeline\n",
    "from sklearn.ensemble import RandomForestClassifier\n",
    "\n",
    "pipe = Pipeline([('preProc',PreProcessing())\n",
    "                 ,('clsfy',RandomForestClassifier())\n",
    "                ])"
   ]
  },
  {
   "cell_type": "code",
   "execution_count": 11,
   "metadata": {},
   "outputs": [
    {
     "name": "stdout",
     "output_type": "stream",
     "text": [
      "Fitting 5 folds for each of 100 candidates, totalling 500 fits\n"
     ]
    },
    {
     "name": "stderr",
     "output_type": "stream",
     "text": [
      "[Parallel(n_jobs=-1)]: Done  42 tasks      | elapsed:   19.2s\n",
      "[Parallel(n_jobs=-1)]: Done 192 tasks      | elapsed:  1.5min\n",
      "[Parallel(n_jobs=-1)]: Done 442 tasks      | elapsed:  3.6min\n",
      "[Parallel(n_jobs=-1)]: Done 500 out of 500 | elapsed:  4.0min finished\n"
     ]
    },
    {
     "data": {
      "text/plain": [
       "RandomizedSearchCV(cv=5, error_score='raise',\n",
       "          estimator=Pipeline(memory=None,\n",
       "     steps=[('preProc', PreProcessing()), ('clsfy', RandomForestClassifier(bootstrap=True, class_weight=None, criterion='gini',\n",
       "            max_depth=None, max_features='auto', max_leaf_nodes=None,\n",
       "            min_impurity_decrease=0.0, min_impurity_split=None,\n",
       "      ..._jobs=1,\n",
       "            oob_score=False, random_state=None, verbose=0,\n",
       "            warm_start=False))]),\n",
       "          fit_params=None, iid=True, n_iter=100, n_jobs=-1,\n",
       "          param_distributions={'clsfy__n_estimators': [5, 10, 15, 20, 25, 30, 35, 40, 45, 50, 55, 60, 65, 70, 75, 80, 85, 90, 95, 100], 'clsfy__max_depth': [None, 5, 10, 15, 20, 25, 30], 'clsfy__max_leaf_nodes': [None, 5, 10, 15, 20, 25, 30], 'clsfy__max_features': [None, 'auto']},\n",
       "          pre_dispatch='2*n_jobs', random_state=0, refit=True,\n",
       "          return_train_score='warn', scoring=None, verbose=1)"
      ]
     },
     "execution_count": 11,
     "metadata": {},
     "output_type": "execute_result"
    }
   ],
   "source": [
    "from sklearn.model_selection import RandomizedSearchCV\n",
    "import numpy as np\n",
    "param_grid = {'clsfy__n_estimators' : [int(n) for n in np.linspace(5,100,20)],\n",
    "              'clsfy__max_depth' : [None, 5, 10, 15, 20, 25, 30],\n",
    "              'clsfy__max_leaf_nodes': [None, 5, 10, 15, 20, 25, 30],\n",
    "              'clsfy__max_features' : [None, 'auto']\n",
    "             }\n",
    "param_search = RandomizedSearchCV(pipe, param_grid, cv=5, n_jobs=-1, verbose=1, n_iter=100, random_state=0)\n",
    "param_search.fit(X_train, y_train)"
   ]
  },
  {
   "cell_type": "code",
   "execution_count": 12,
   "metadata": {},
   "outputs": [
    {
     "name": "stdout",
     "output_type": "stream",
     "text": [
      "Parameters: \n",
      "{'clsfy__n_estimators': 45, 'clsfy__max_leaf_nodes': 5, 'clsfy__max_features': 'auto', 'clsfy__max_depth': 20}\n"
     ]
    }
   ],
   "source": [
    "print('Parameters: ')\n",
    "print(param_search.best_params_)"
   ]
  },
  {
   "cell_type": "code",
   "execution_count": 13,
   "metadata": {},
   "outputs": [],
   "source": [
    "model = param_search.best_estimator_"
   ]
  },
  {
   "cell_type": "code",
   "execution_count": 14,
   "metadata": {},
   "outputs": [
    {
     "name": "stdout",
     "output_type": "stream",
     "text": [
      "Best model score : 0.8027210884353742\n",
      "Validation score : 0.8709677419354839\n"
     ]
    }
   ],
   "source": [
    "print('Best model score : {}'.format( model.score(X_train,y_train) ))\n",
    "print('Validation score : {}'.format( model.score(X_valid, y_valid)))"
   ]
  },
  {
   "cell_type": "markdown",
   "metadata": {},
   "source": [
    "# Serialize the model"
   ]
  },
  {
   "cell_type": "code",
   "execution_count": 15,
   "metadata": {},
   "outputs": [],
   "source": [
    "import dill as pickle\n",
    "filename = 'classify_model2.pk'\n",
    "# save the model within current directory for testing\n",
    "with open('./model/'+filename, 'wb') as file:\n",
    "    pickle.dump(model, file)\n",
    "# save mode to API directory    \n",
    "with open('./classifyAPI/model/'+filename, 'wb') as file:\n",
    "    pickle.dump(model, file)"
   ]
  },
  {
   "cell_type": "code",
   "execution_count": 17,
   "metadata": {},
   "outputs": [
    {
     "name": "stdout",
     "output_type": "stream",
     "text": [
      "1-1 : Identical\n",
      "1-1 : Identical\n",
      "1-1 : Identical\n",
      "1-1 : Identical\n",
      "1-1 : Identical\n",
      "0-0 : Identical\n",
      "1-1 : Identical\n",
      "1-1 : Identical\n",
      "0-0 : Identical\n",
      "1-1 : Identical\n",
      "1-1 : Identical\n",
      "1-1 : Identical\n",
      "1-1 : Identical\n",
      "1-1 : Identical\n",
      "1-1 : Identical\n",
      "1-1 : Identical\n",
      "1-1 : Identical\n",
      "1-1 : Identical\n",
      "1-1 : Identical\n",
      "0-0 : Identical\n",
      "0-0 : Identical\n",
      "1-1 : Identical\n",
      "1-1 : Identical\n",
      "1-1 : Identical\n",
      "1-1 : Identical\n",
      "1-1 : Identical\n",
      "1-1 : Identical\n",
      "1-1 : Identical\n",
      "0-0 : Identical\n",
      "0-0 : Identical\n",
      "1-1 : Identical\n",
      "1-1 : Identical\n",
      "1-1 : Identical\n",
      "1-1 : Identical\n",
      "1-1 : Identical\n",
      "0-0 : Identical\n",
      "1-1 : Identical\n",
      "1-1 : Identical\n",
      "1-1 : Identical\n",
      "1-1 : Identical\n",
      "1-1 : Identical\n",
      "0-0 : Identical\n",
      "1-1 : Identical\n",
      "1-1 : Identical\n",
      "1-1 : Identical\n",
      "1-1 : Identical\n",
      "1-1 : Identical\n",
      "1-1 : Identical\n",
      "1-1 : Identical\n",
      "1-1 : Identical\n",
      "1-1 : Identical\n",
      "1-1 : Identical\n",
      "1-1 : Identical\n",
      "1-1 : Identical\n",
      "1-1 : Identical\n",
      "1-1 : Identical\n",
      "1-1 : Identical\n",
      "1-1 : Identical\n",
      "1-1 : Identical\n",
      "1-1 : Identical\n",
      "0-0 : Identical\n",
      "1-1 : Identical\n"
     ]
    }
   ],
   "source": [
    "# Check if the original and loaded model are identical\n",
    "with open('./model/'+filename ,'rb') as f:\n",
    "    loaded_model = pickle.load(f)\n",
    "for orig, loaded in zip(model.predict(X_valid),loaded_model.predict(X_valid)):\n",
    "    if orig != loaded:\n",
    "        print('Not identical')\n",
    "    else:\n",
    "        print('{}-{} : Identical'.format(orig,loaded))"
   ]
  },
  {
   "cell_type": "markdown",
   "metadata": {},
   "source": [
    "# Creation of server within `Flask`"
   ]
  },
  {
   "cell_type": "code",
   "execution_count": 18,
   "metadata": {},
   "outputs": [
    {
     "name": "stdout",
     "output_type": "stream",
     "text": [
      "------------------------------------------------------------------\n",
      "server2.py\n",
      "------------------------------------------------------------------\n",
      "#import os\n",
      "import pandas as pd\n",
      "import dill as pickle\n",
      "from flask import Flask, jsonify, request\n",
      "from sklearn.base import BaseEstimator, TransformerMixin\n",
      "import warnings\n",
      "warnings.filterwarnings(\"ignore\")\n",
      "\n",
      "\n",
      "# =============================================================================\n",
      "# PreProcessing\n",
      "# =============================================================================\n",
      "class PreProcessing(BaseEstimator, TransformerMixin):\n",
      "    def __init__(self):\n",
      "        pass\n",
      "\n",
      "    def transform(self, df, y=None):\n",
      "        pred_var = ['Gender','Married','Dependents','Education','Self_Employed','ApplicantIncome',\n",
      "                    'CoapplicantIncome','LoanAmount','Loan_Amount_Term','Credit_History','Property_Area']\n",
      "\n",
      "        df = df[pred_var]\n",
      "\n",
      "        df['Dependents'] = df['Dependents'].fillna(0)\n",
      "        df['Self_Employed'] = df['Self_Employed'].fillna('No')\n",
      "        df['Loan_Amount_Term'] = df['Loan_Amount_Term'].fillna(self.term_mean_)\n",
      "        df['Credit_History'] = df['Credit_History'].fillna(1)\n",
      "        df['Married'] = df['Married'].fillna('No')\n",
      "        df['Gender'] = df['Gender'].fillna('Male')\n",
      "        df['LoanAmount'] = df['LoanAmount'].fillna(self.amt_mean_)\n",
      "\n",
      "        gender_values = {'Female' : 0, 'Male' : 1}\n",
      "        married_values = {'No' : 0, 'Yes' : 1}\n",
      "        education_values = {'Graduate' : 0, 'Not Graduate' : 1}\n",
      "        employed_values = {'No' : 0, 'Yes' : 1}\n",
      "\n",
      "        col_OHE = ['Property_Area','Dependents']\n",
      "        for col in col_OHE:\n",
      "            for enum, lbl in enumerate(set(df[col])):\n",
      "                col_name = col+'_'+lbl\n",
      "                Xt = df[col].replace(lbl,1)\n",
      "                Xt[Xt!=1]=0\n",
      "                df[col_name] = Xt\n",
      "        df.drop(col_OHE, axis=1, inplace=True)\n",
      "\n",
      "        df.replace({'Gender': gender_values,\n",
      "                    'Married': married_values,\n",
      "                    'Education': education_values,\n",
      "                    'Self_Employed': employed_values\n",
      "                   }, inplace=True)\n",
      "\n",
      "        # Standard Scalar for Continuous Functions\n",
      "        colCONT = ['ApplicantIncome','CoapplicantIncome','LoanAmount', 'Loan_Amount_Term']\n",
      "        for col in colCONT:\n",
      "            df[col] = (df[col] - df[col].mean())/df[col].std(ddof=0)\n",
      "\n",
      "        return df\n",
      "\n",
      "    def fit(self, df, y=None):\n",
      "        self.term_mean_ = df['Loan_Amount_Term'].mean()\n",
      "        self.amt_mean_ = df['LoanAmount'].mean()\n",
      "\n",
      "        return self\n",
      "\n",
      "# =============================================================================\n",
      "# Setting up the App\n",
      "# =============================================================================\n",
      "app = Flask(__name__)\n",
      "\n",
      "@app.route('/predict', methods=['POST'])\n",
      "def apicall():\n",
      "\t\"\"\"API Call\"\"\"\n",
      "\ttry:\n",
      "\t\ttest_json = request.get_json()\n",
      "\t\ttest = pd.read_json(test_json, orient='records')\n",
      "\n",
      "\t\t#Getting the Loan_IDs separated out\n",
      "\t\tloan_ids = test['Loan_ID']\n",
      "\n",
      "\texcept Exception as e:\n",
      "\t\traise e\n",
      "\n",
      "\tclf = 'classify_model2.pk'\n",
      "\n",
      "\tif test.empty:\n",
      "\t\treturn(bad_request())\n",
      "\telse:\n",
      "\t\t#Load the saved model\n",
      "\t\tprint(\"Load the model:\")\n",
      "\t\tloaded_model = None\n",
      "\t\twith open('./model/'+clf,'rb') as f:\n",
      "\t\t\tloaded_model = pickle.load(f)\n",
      "\n",
      "\t\tprint(\"Doing predictions:\")\n",
      "\t\tpredictions = loaded_model.predict(test)\n",
      "\n",
      "\t\tprediction_series = list(pd.Series(predictions))\n",
      "\n",
      "\t\tfinal_predictions = pd.DataFrame(list(zip(loan_ids, prediction_series)))\n",
      "\n",
      "\t\tresponses = jsonify(predictions=final_predictions.to_json(orient=\"records\"))\n",
      "\t\tresponses.status_code = 200\n",
      "\n",
      "\t\treturn (responses)\n",
      "\n",
      "\n",
      "@app.errorhandler(400)\n",
      "def bad_request(error=None):\n",
      "\tmessage = {\n",
      "\t\t\t'status': 400,\n",
      "\t\t\t'message': 'Bad Request: ' + request.url }\n",
      "\tresp = jsonify(message)\n",
      "\tresp.status_code = 400\n",
      "\n",
      "\treturn resp\n"
     ]
    }
   ],
   "source": [
    "print('------------------------------------------------------------------')\n",
    "print('server2.py')\n",
    "print('------------------------------------------------------------------')\n",
    "with open('./classifyAPI/server2.py' ,'r') as f:\n",
    "    print(f.read())"
   ]
  },
  {
   "cell_type": "markdown",
   "metadata": {},
   "source": [
    "## Setting up the API\n",
    "- Within terminal, navigate to location of the api.\n",
    "- Set [app and env](http://flask.pocoo.org/docs/1.0/tutorial/factory/). \n",
    "    - For Linux and Mac:\n",
    "        - export FLASK_APP=server2:app\n",
    "        - export FLASK_ENV=development\n",
    "        - flask run --host=0.0.0.0 --port=5000\n",
    "    - For Windows cmd, use set instead of export:\n",
    "        - set FLASK_APP=server2:app\n",
    "        - set FLASK_ENV=development\n",
    "        - flask run --host=0.0.0.0 --port=5000\n",
    "    - For Windows PowerShell:\n",
    "        - \\\\$env:FLASK_APP = \"server2:app\"\n",
    "        - \\\\$env:FLASK_ENV = \"development\"\n",
    "        - flask run --host=0.0.0.0 --port=5000\n",
    "\n"
   ]
  },
  {
   "cell_type": "code",
   "execution_count": 19,
   "metadata": {},
   "outputs": [],
   "source": [
    "import json\n",
    "import requests"
   ]
  },
  {
   "cell_type": "code",
   "execution_count": 20,
   "metadata": {},
   "outputs": [
    {
     "data": {
      "text/plain": [
       "'[{\"Loan_ID\":\"LP002453\",\"Gender\":\"Male\",\"Married\":\"No\",\"Dependents\":\"0\",\"Education\":\"Graduate\",\"Self_Employed\":\"Yes\",\"ApplicantIncome\":7085,\"CoapplicantIncome\":0.0,\"LoanAmount\":84.0,\"Loan_Amount_Term\":360.0,\"Credit_History\":1.0,\"Property_Area\":\"Semiurban\"},{\"Loan_ID\":\"LP001164\",\"Gender\":\"Female\",\"Married\":\"No\",\"Dependents\":\"0\",\"Education\":\"Graduate\",\"Self_Employed\":\"No\",\"ApplicantIncome\":4230,\"CoapplicantIncome\":0.0,\"LoanAmount\":112.0,\"Loan_Amount_Term\":360.0,\"Credit_History\":1.0,\"Property_Area\":\"Semiurban\"},{\"Loan_ID\":\"LP002734\",\"Gender\":\"Male\",\"Married\":\"Yes\",\"Dependents\":\"0\",\"Education\":\"Graduate\",\"Self_Employed\":\"No\",\"ApplicantIncome\":6133,\"CoapplicantIncome\":3906.0,\"LoanAmount\":324.0,\"Loan_Amount_Term\":360.0,\"Credit_History\":1.0,\"Property_Area\":\"Urban\"},{\"Loan_ID\":\"LP002505\",\"Gender\":\"Male\",\"Married\":\"Yes\",\"Dependents\":\"0\",\"Education\":\"Graduate\",\"Self_Employed\":\"No\",\"ApplicantIncome\":4333,\"CoapplicantIncome\":2451.0,\"LoanAmount\":110.0,\"Loan_Amount_Term\":360.0,\"Credit_History\":1.0,\"Property_Area\":\"Urban\"},{\"Loan_ID\":\"LP001194\",\"Gender\":\"Male\",\"Married\":\"Yes\",\"Dependents\":\"2\",\"Education\":\"Graduate\",\"Self_Employed\":\"No\",\"ApplicantIncome\":2708,\"CoapplicantIncome\":1167.0,\"LoanAmount\":97.0,\"Loan_Amount_Term\":360.0,\"Credit_History\":1.0,\"Property_Area\":\"Semiurban\"},{\"Loan_ID\":\"LP001207\",\"Gender\":\"Male\",\"Married\":\"Yes\",\"Dependents\":\"0\",\"Education\":\"Not Graduate\",\"Self_Employed\":\"Yes\",\"ApplicantIncome\":2609,\"CoapplicantIncome\":3449.0,\"LoanAmount\":165.0,\"Loan_Amount_Term\":180.0,\"Credit_History\":0.0,\"Property_Area\":\"Rural\"},{\"Loan_ID\":\"LP002740\",\"Gender\":\"Male\",\"Married\":\"Yes\",\"Dependents\":\"3+\",\"Education\":\"Graduate\",\"Self_Employed\":\"No\",\"ApplicantIncome\":6417,\"CoapplicantIncome\":0.0,\"LoanAmount\":157.0,\"Loan_Amount_Term\":180.0,\"Credit_History\":1.0,\"Property_Area\":\"Rural\"},{\"Loan_ID\":\"LP002386\",\"Gender\":\"Male\",\"Married\":\"No\",\"Dependents\":\"0\",\"Education\":\"Graduate\",\"Self_Employed\":null,\"ApplicantIncome\":12876,\"CoapplicantIncome\":0.0,\"LoanAmount\":405.0,\"Loan_Amount_Term\":360.0,\"Credit_History\":1.0,\"Property_Area\":\"Semiurban\"},{\"Loan_ID\":\"LP002188\",\"Gender\":\"Male\",\"Married\":\"No\",\"Dependents\":\"0\",\"Education\":\"Graduate\",\"Self_Employed\":\"No\",\"ApplicantIncome\":5124,\"CoapplicantIncome\":0.0,\"LoanAmount\":124.0,\"Loan_Amount_Term\":null,\"Credit_History\":0.0,\"Property_Area\":\"Rural\"},{\"Loan_ID\":\"LP002537\",\"Gender\":\"Male\",\"Married\":\"Yes\",\"Dependents\":\"0\",\"Education\":\"Graduate\",\"Self_Employed\":\"No\",\"ApplicantIncome\":2083,\"CoapplicantIncome\":3150.0,\"LoanAmount\":128.0,\"Loan_Amount_Term\":360.0,\"Credit_History\":1.0,\"Property_Area\":\"Semiurban\"},{\"Loan_ID\":\"LP002002\",\"Gender\":\"Female\",\"Married\":\"No\",\"Dependents\":\"0\",\"Education\":\"Graduate\",\"Self_Employed\":\"No\",\"ApplicantIncome\":2917,\"CoapplicantIncome\":0.0,\"LoanAmount\":84.0,\"Loan_Amount_Term\":360.0,\"Credit_History\":1.0,\"Property_Area\":\"Semiurban\"},{\"Loan_ID\":\"LP002600\",\"Gender\":\"Male\",\"Married\":\"Yes\",\"Dependents\":\"1\",\"Education\":\"Graduate\",\"Self_Employed\":\"Yes\",\"ApplicantIncome\":2895,\"CoapplicantIncome\":0.0,\"LoanAmount\":95.0,\"Loan_Amount_Term\":360.0,\"Credit_History\":1.0,\"Property_Area\":\"Semiurban\"},{\"Loan_ID\":\"LP001776\",\"Gender\":\"Female\",\"Married\":\"No\",\"Dependents\":\"0\",\"Education\":\"Graduate\",\"Self_Employed\":\"No\",\"ApplicantIncome\":8333,\"CoapplicantIncome\":0.0,\"LoanAmount\":280.0,\"Loan_Amount_Term\":360.0,\"Credit_History\":1.0,\"Property_Area\":\"Semiurban\"},{\"Loan_ID\":\"LP002170\",\"Gender\":\"Male\",\"Married\":\"Yes\",\"Dependents\":\"2\",\"Education\":\"Graduate\",\"Self_Employed\":\"No\",\"ApplicantIncome\":5000,\"CoapplicantIncome\":3667.0,\"LoanAmount\":236.0,\"Loan_Amount_Term\":360.0,\"Credit_History\":1.0,\"Property_Area\":\"Semiurban\"},{\"Loan_ID\":\"LP002364\",\"Gender\":\"Male\",\"Married\":\"Yes\",\"Dependents\":\"0\",\"Education\":\"Graduate\",\"Self_Employed\":\"No\",\"ApplicantIncome\":14880,\"CoapplicantIncome\":0.0,\"LoanAmount\":96.0,\"Loan_Amount_Term\":360.0,\"Credit_History\":1.0,\"Property_Area\":\"Semiurban\"},{\"Loan_ID\":\"LP002151\",\"Gender\":\"Male\",\"Married\":\"Yes\",\"Dependents\":\"1\",\"Education\":\"Graduate\",\"Self_Employed\":\"No\",\"ApplicantIncome\":3875,\"CoapplicantIncome\":0.0,\"LoanAmount\":67.0,\"Loan_Amount_Term\":360.0,\"Credit_History\":1.0,\"Property_Area\":\"Urban\"},{\"Loan_ID\":\"LP002444\",\"Gender\":\"Male\",\"Married\":\"No\",\"Dependents\":\"1\",\"Education\":\"Not Graduate\",\"Self_Employed\":\"Yes\",\"ApplicantIncome\":2769,\"CoapplicantIncome\":1542.0,\"LoanAmount\":190.0,\"Loan_Amount_Term\":360.0,\"Credit_History\":null,\"Property_Area\":\"Semiurban\"},{\"Loan_ID\":\"LP002239\",\"Gender\":\"Male\",\"Married\":\"No\",\"Dependents\":\"0\",\"Education\":\"Not Graduate\",\"Self_Employed\":\"No\",\"ApplicantIncome\":2346,\"CoapplicantIncome\":1600.0,\"LoanAmount\":132.0,\"Loan_Amount_Term\":360.0,\"Credit_History\":1.0,\"Property_Area\":\"Semiurban\"},{\"Loan_ID\":\"LP002522\",\"Gender\":\"Female\",\"Married\":\"No\",\"Dependents\":\"0\",\"Education\":\"Graduate\",\"Self_Employed\":\"Yes\",\"ApplicantIncome\":2500,\"CoapplicantIncome\":0.0,\"LoanAmount\":93.0,\"Loan_Amount_Term\":360.0,\"Credit_History\":null,\"Property_Area\":\"Urban\"},{\"Loan_ID\":\"LP002788\",\"Gender\":\"Male\",\"Married\":\"Yes\",\"Dependents\":\"0\",\"Education\":\"Not Graduate\",\"Self_Employed\":\"No\",\"ApplicantIncome\":2454,\"CoapplicantIncome\":2333.0,\"LoanAmount\":181.0,\"Loan_Amount_Term\":360.0,\"Credit_History\":0.0,\"Property_Area\":\"Urban\"},{\"Loan_ID\":\"LP001146\",\"Gender\":\"Female\",\"Married\":\"Yes\",\"Dependents\":\"0\",\"Education\":\"Graduate\",\"Self_Employed\":\"No\",\"ApplicantIncome\":2645,\"CoapplicantIncome\":3440.0,\"LoanAmount\":120.0,\"Loan_Amount_Term\":360.0,\"Credit_History\":0.0,\"Property_Area\":\"Urban\"},{\"Loan_ID\":\"LP002387\",\"Gender\":\"Male\",\"Married\":\"Yes\",\"Dependents\":\"0\",\"Education\":\"Graduate\",\"Self_Employed\":\"No\",\"ApplicantIncome\":2425,\"CoapplicantIncome\":2340.0,\"LoanAmount\":143.0,\"Loan_Amount_Term\":360.0,\"Credit_History\":1.0,\"Property_Area\":\"Semiurban\"},{\"Loan_ID\":\"LP001807\",\"Gender\":\"Male\",\"Married\":\"Yes\",\"Dependents\":\"2\",\"Education\":\"Graduate\",\"Self_Employed\":\"Yes\",\"ApplicantIncome\":6250,\"CoapplicantIncome\":1300.0,\"LoanAmount\":108.0,\"Loan_Amount_Term\":360.0,\"Credit_History\":1.0,\"Property_Area\":\"Rural\"},{\"Loan_ID\":\"LP002149\",\"Gender\":\"Male\",\"Married\":\"Yes\",\"Dependents\":\"2\",\"Education\":\"Graduate\",\"Self_Employed\":\"No\",\"ApplicantIncome\":8333,\"CoapplicantIncome\":3167.0,\"LoanAmount\":165.0,\"Loan_Amount_Term\":360.0,\"Credit_History\":1.0,\"Property_Area\":\"Rural\"},{\"Loan_ID\":\"LP001643\",\"Gender\":\"Male\",\"Married\":\"Yes\",\"Dependents\":\"0\",\"Education\":\"Graduate\",\"Self_Employed\":\"No\",\"ApplicantIncome\":2383,\"CoapplicantIncome\":2138.0,\"LoanAmount\":58.0,\"Loan_Amount_Term\":360.0,\"Credit_History\":null,\"Property_Area\":\"Rural\"},{\"Loan_ID\":\"LP002640\",\"Gender\":\"Male\",\"Married\":\"Yes\",\"Dependents\":\"1\",\"Education\":\"Graduate\",\"Self_Employed\":\"No\",\"ApplicantIncome\":6065,\"CoapplicantIncome\":2004.0,\"LoanAmount\":250.0,\"Loan_Amount_Term\":360.0,\"Credit_History\":1.0,\"Property_Area\":\"Semiurban\"},{\"Loan_ID\":\"LP002408\",\"Gender\":\"Male\",\"Married\":\"No\",\"Dependents\":\"0\",\"Education\":\"Graduate\",\"Self_Employed\":\"No\",\"ApplicantIncome\":3660,\"CoapplicantIncome\":5064.0,\"LoanAmount\":187.0,\"Loan_Amount_Term\":360.0,\"Credit_History\":1.0,\"Property_Area\":\"Semiurban\"},{\"Loan_ID\":\"LP001594\",\"Gender\":\"Male\",\"Married\":\"Yes\",\"Dependents\":\"0\",\"Education\":\"Graduate\",\"Self_Employed\":\"No\",\"ApplicantIncome\":5708,\"CoapplicantIncome\":5625.0,\"LoanAmount\":187.0,\"Loan_Amount_Term\":360.0,\"Credit_History\":1.0,\"Property_Area\":\"Semiurban\"},{\"Loan_ID\":\"LP001711\",\"Gender\":\"Male\",\"Married\":\"Yes\",\"Dependents\":\"3+\",\"Education\":\"Graduate\",\"Self_Employed\":\"No\",\"ApplicantIncome\":3430,\"CoapplicantIncome\":1250.0,\"LoanAmount\":128.0,\"Loan_Amount_Term\":360.0,\"Credit_History\":0.0,\"Property_Area\":\"Semiurban\"},{\"Loan_ID\":\"LP002776\",\"Gender\":\"Female\",\"Married\":\"No\",\"Dependents\":\"0\",\"Education\":\"Graduate\",\"Self_Employed\":\"No\",\"ApplicantIncome\":5000,\"CoapplicantIncome\":0.0,\"LoanAmount\":103.0,\"Loan_Amount_Term\":360.0,\"Credit_History\":0.0,\"Property_Area\":\"Semiurban\"},{\"Loan_ID\":\"LP002139\",\"Gender\":\"Male\",\"Married\":\"Yes\",\"Dependents\":\"0\",\"Education\":\"Graduate\",\"Self_Employed\":\"No\",\"ApplicantIncome\":9083,\"CoapplicantIncome\":0.0,\"LoanAmount\":228.0,\"Loan_Amount_Term\":360.0,\"Credit_History\":1.0,\"Property_Area\":\"Semiurban\"},{\"Loan_ID\":\"LP001653\",\"Gender\":\"Male\",\"Married\":\"No\",\"Dependents\":\"0\",\"Education\":\"Not Graduate\",\"Self_Employed\":\"No\",\"ApplicantIncome\":4885,\"CoapplicantIncome\":0.0,\"LoanAmount\":48.0,\"Loan_Amount_Term\":360.0,\"Credit_History\":1.0,\"Property_Area\":\"Rural\"},{\"Loan_ID\":\"LP001674\",\"Gender\":\"Male\",\"Married\":\"Yes\",\"Dependents\":\"1\",\"Education\":\"Not Graduate\",\"Self_Employed\":\"No\",\"ApplicantIncome\":2600,\"CoapplicantIncome\":2500.0,\"LoanAmount\":90.0,\"Loan_Amount_Term\":360.0,\"Credit_History\":1.0,\"Property_Area\":\"Semiurban\"},{\"Loan_ID\":\"LP002409\",\"Gender\":\"Male\",\"Married\":\"Yes\",\"Dependents\":\"0\",\"Education\":\"Graduate\",\"Self_Employed\":\"No\",\"ApplicantIncome\":7901,\"CoapplicantIncome\":1833.0,\"LoanAmount\":180.0,\"Loan_Amount_Term\":360.0,\"Credit_History\":1.0,\"Property_Area\":\"Rural\"},{\"Loan_ID\":\"LP001356\",\"Gender\":\"Male\",\"Married\":\"Yes\",\"Dependents\":\"0\",\"Education\":\"Graduate\",\"Self_Employed\":\"No\",\"ApplicantIncome\":4652,\"CoapplicantIncome\":3583.0,\"LoanAmount\":null,\"Loan_Amount_Term\":360.0,\"Credit_History\":1.0,\"Property_Area\":\"Semiurban\"},{\"Loan_ID\":\"LP002335\",\"Gender\":\"Female\",\"Married\":\"Yes\",\"Dependents\":\"0\",\"Education\":\"Not Graduate\",\"Self_Employed\":\"No\",\"ApplicantIncome\":2149,\"CoapplicantIncome\":3237.0,\"LoanAmount\":178.0,\"Loan_Amount_Term\":360.0,\"Credit_History\":0.0,\"Property_Area\":\"Semiurban\"},{\"Loan_ID\":\"LP001947\",\"Gender\":\"Male\",\"Married\":\"Yes\",\"Dependents\":\"0\",\"Education\":\"Graduate\",\"Self_Employed\":\"No\",\"ApplicantIncome\":2383,\"CoapplicantIncome\":3334.0,\"LoanAmount\":172.0,\"Loan_Amount_Term\":360.0,\"Credit_History\":1.0,\"Property_Area\":\"Semiurban\"},{\"Loan_ID\":\"LP002732\",\"Gender\":\"Male\",\"Married\":\"No\",\"Dependents\":\"0\",\"Education\":\"Not Graduate\",\"Self_Employed\":null,\"ApplicantIncome\":2550,\"CoapplicantIncome\":2042.0,\"LoanAmount\":126.0,\"Loan_Amount_Term\":360.0,\"Credit_History\":1.0,\"Property_Area\":\"Rural\"},{\"Loan_ID\":\"LP001750\",\"Gender\":\"Male\",\"Married\":\"Yes\",\"Dependents\":\"0\",\"Education\":\"Graduate\",\"Self_Employed\":\"No\",\"ApplicantIncome\":6250,\"CoapplicantIncome\":0.0,\"LoanAmount\":128.0,\"Loan_Amount_Term\":360.0,\"Credit_History\":1.0,\"Property_Area\":\"Semiurban\"},{\"Loan_ID\":\"LP002807\",\"Gender\":\"Male\",\"Married\":\"Yes\",\"Dependents\":\"2\",\"Education\":\"Not Graduate\",\"Self_Employed\":\"No\",\"ApplicantIncome\":3675,\"CoapplicantIncome\":242.0,\"LoanAmount\":108.0,\"Loan_Amount_Term\":360.0,\"Credit_History\":1.0,\"Property_Area\":\"Semiurban\"},{\"Loan_ID\":\"LP001693\",\"Gender\":\"Female\",\"Married\":\"No\",\"Dependents\":\"0\",\"Education\":\"Graduate\",\"Self_Employed\":\"No\",\"ApplicantIncome\":3244,\"CoapplicantIncome\":0.0,\"LoanAmount\":80.0,\"Loan_Amount_Term\":360.0,\"Credit_History\":1.0,\"Property_Area\":\"Urban\"},{\"Loan_ID\":\"LP002837\",\"Gender\":\"Male\",\"Married\":\"Yes\",\"Dependents\":\"3+\",\"Education\":\"Graduate\",\"Self_Employed\":\"No\",\"ApplicantIncome\":3400,\"CoapplicantIncome\":2500.0,\"LoanAmount\":123.0,\"Loan_Amount_Term\":360.0,\"Credit_History\":0.0,\"Property_Area\":\"Rural\"},{\"Loan_ID\":\"LP001030\",\"Gender\":\"Male\",\"Married\":\"Yes\",\"Dependents\":\"2\",\"Education\":\"Graduate\",\"Self_Employed\":\"No\",\"ApplicantIncome\":1299,\"CoapplicantIncome\":1086.0,\"LoanAmount\":17.0,\"Loan_Amount_Term\":120.0,\"Credit_History\":1.0,\"Property_Area\":\"Urban\"},{\"Loan_ID\":\"LP002119\",\"Gender\":\"Male\",\"Married\":\"Yes\",\"Dependents\":\"1\",\"Education\":\"Not Graduate\",\"Self_Employed\":\"No\",\"ApplicantIncome\":4554,\"CoapplicantIncome\":1229.0,\"LoanAmount\":158.0,\"Loan_Amount_Term\":360.0,\"Credit_History\":1.0,\"Property_Area\":\"Urban\"},{\"Loan_ID\":\"LP001658\",\"Gender\":\"Male\",\"Married\":\"No\",\"Dependents\":\"0\",\"Education\":\"Graduate\",\"Self_Employed\":\"No\",\"ApplicantIncome\":3858,\"CoapplicantIncome\":0.0,\"LoanAmount\":76.0,\"Loan_Amount_Term\":360.0,\"Credit_History\":1.0,\"Property_Area\":\"Semiurban\"},{\"Loan_ID\":\"LP001666\",\"Gender\":\"Male\",\"Married\":\"No\",\"Dependents\":\"0\",\"Education\":\"Graduate\",\"Self_Employed\":\"No\",\"ApplicantIncome\":8333,\"CoapplicantIncome\":3750.0,\"LoanAmount\":187.0,\"Loan_Amount_Term\":360.0,\"Credit_History\":1.0,\"Property_Area\":\"Rural\"},{\"Loan_ID\":\"LP001616\",\"Gender\":\"Male\",\"Married\":\"Yes\",\"Dependents\":\"1\",\"Education\":\"Graduate\",\"Self_Employed\":\"No\",\"ApplicantIncome\":3750,\"CoapplicantIncome\":0.0,\"LoanAmount\":116.0,\"Loan_Amount_Term\":360.0,\"Credit_History\":1.0,\"Property_Area\":\"Semiurban\"},{\"Loan_ID\":\"LP002305\",\"Gender\":\"Female\",\"Married\":\"No\",\"Dependents\":\"0\",\"Education\":\"Graduate\",\"Self_Employed\":\"No\",\"ApplicantIncome\":4547,\"CoapplicantIncome\":0.0,\"LoanAmount\":115.0,\"Loan_Amount_Term\":360.0,\"Credit_History\":1.0,\"Property_Area\":\"Semiurban\"},{\"Loan_ID\":\"LP001003\",\"Gender\":\"Male\",\"Married\":\"Yes\",\"Dependents\":\"1\",\"Education\":\"Graduate\",\"Self_Employed\":\"No\",\"ApplicantIncome\":4583,\"CoapplicantIncome\":1508.0,\"LoanAmount\":128.0,\"Loan_Amount_Term\":360.0,\"Credit_History\":1.0,\"Property_Area\":\"Rural\"},{\"Loan_ID\":\"LP001978\",\"Gender\":\"Male\",\"Married\":\"No\",\"Dependents\":\"0\",\"Education\":\"Graduate\",\"Self_Employed\":\"No\",\"ApplicantIncome\":4000,\"CoapplicantIncome\":2500.0,\"LoanAmount\":140.0,\"Loan_Amount_Term\":360.0,\"Credit_History\":1.0,\"Property_Area\":\"Rural\"},{\"Loan_ID\":\"LP002126\",\"Gender\":\"Male\",\"Married\":\"Yes\",\"Dependents\":\"3+\",\"Education\":\"Not Graduate\",\"Self_Employed\":\"No\",\"ApplicantIncome\":3173,\"CoapplicantIncome\":0.0,\"LoanAmount\":74.0,\"Loan_Amount_Term\":360.0,\"Credit_History\":1.0,\"Property_Area\":\"Semiurban\"},{\"Loan_ID\":\"LP002175\",\"Gender\":\"Male\",\"Married\":\"Yes\",\"Dependents\":\"0\",\"Education\":\"Graduate\",\"Self_Employed\":\"No\",\"ApplicantIncome\":4750,\"CoapplicantIncome\":2333.0,\"LoanAmount\":130.0,\"Loan_Amount_Term\":360.0,\"Credit_History\":1.0,\"Property_Area\":\"Urban\"},{\"Loan_ID\":\"LP002587\",\"Gender\":\"Male\",\"Married\":\"Yes\",\"Dependents\":\"0\",\"Education\":\"Not Graduate\",\"Self_Employed\":\"No\",\"ApplicantIncome\":2600,\"CoapplicantIncome\":1700.0,\"LoanAmount\":107.0,\"Loan_Amount_Term\":360.0,\"Credit_History\":1.0,\"Property_Area\":\"Rural\"},{\"Loan_ID\":\"LP001449\",\"Gender\":\"Male\",\"Married\":\"No\",\"Dependents\":\"0\",\"Education\":\"Graduate\",\"Self_Employed\":\"No\",\"ApplicantIncome\":3865,\"CoapplicantIncome\":1640.0,\"LoanAmount\":null,\"Loan_Amount_Term\":360.0,\"Credit_History\":1.0,\"Property_Area\":\"Rural\"},{\"Loan_ID\":\"LP002345\",\"Gender\":\"Male\",\"Married\":\"Yes\",\"Dependents\":\"0\",\"Education\":\"Graduate\",\"Self_Employed\":\"No\",\"ApplicantIncome\":1025,\"CoapplicantIncome\":2773.0,\"LoanAmount\":112.0,\"Loan_Amount_Term\":360.0,\"Credit_History\":1.0,\"Property_Area\":\"Rural\"},{\"Loan_ID\":\"LP002137\",\"Gender\":\"Male\",\"Married\":\"Yes\",\"Dependents\":\"0\",\"Education\":\"Graduate\",\"Self_Employed\":\"No\",\"ApplicantIncome\":6333,\"CoapplicantIncome\":4583.0,\"LoanAmount\":259.0,\"Loan_Amount_Term\":360.0,\"Credit_History\":null,\"Property_Area\":\"Semiurban\"},{\"Loan_ID\":\"LP002281\",\"Gender\":\"Male\",\"Married\":\"Yes\",\"Dependents\":\"0\",\"Education\":\"Graduate\",\"Self_Employed\":\"No\",\"ApplicantIncome\":3033,\"CoapplicantIncome\":1459.0,\"LoanAmount\":95.0,\"Loan_Amount_Term\":360.0,\"Credit_History\":1.0,\"Property_Area\":\"Urban\"},{\"Loan_ID\":\"LP002181\",\"Gender\":\"Male\",\"Married\":\"No\",\"Dependents\":\"0\",\"Education\":\"Not Graduate\",\"Self_Employed\":\"No\",\"ApplicantIncome\":6216,\"CoapplicantIncome\":0.0,\"LoanAmount\":133.0,\"Loan_Amount_Term\":360.0,\"Credit_History\":1.0,\"Property_Area\":\"Rural\"},{\"Loan_ID\":\"LP001018\",\"Gender\":\"Male\",\"Married\":\"Yes\",\"Dependents\":\"2\",\"Education\":\"Graduate\",\"Self_Employed\":\"No\",\"ApplicantIncome\":4006,\"CoapplicantIncome\":1526.0,\"LoanAmount\":168.0,\"Loan_Amount_Term\":360.0,\"Credit_History\":1.0,\"Property_Area\":\"Urban\"},{\"Loan_ID\":\"LP001664\",\"Gender\":\"Male\",\"Married\":\"No\",\"Dependents\":\"0\",\"Education\":\"Graduate\",\"Self_Employed\":\"No\",\"ApplicantIncome\":4191,\"CoapplicantIncome\":0.0,\"LoanAmount\":120.0,\"Loan_Amount_Term\":360.0,\"Credit_History\":1.0,\"Property_Area\":\"Rural\"},{\"Loan_ID\":\"LP001431\",\"Gender\":\"Female\",\"Married\":\"No\",\"Dependents\":\"0\",\"Education\":\"Graduate\",\"Self_Employed\":\"No\",\"ApplicantIncome\":2137,\"CoapplicantIncome\":8980.0,\"LoanAmount\":137.0,\"Loan_Amount_Term\":360.0,\"Credit_History\":0.0,\"Property_Area\":\"Semiurban\"},{\"Loan_ID\":\"LP001708\",\"Gender\":\"Female\",\"Married\":\"No\",\"Dependents\":\"0\",\"Education\":\"Graduate\",\"Self_Employed\":\"No\",\"ApplicantIncome\":10000,\"CoapplicantIncome\":0.0,\"LoanAmount\":214.0,\"Loan_Amount_Term\":360.0,\"Credit_History\":1.0,\"Property_Area\":\"Semiurban\"}]'"
      ]
     },
     "execution_count": 20,
     "metadata": {},
     "output_type": "execute_result"
    }
   ],
   "source": [
    "# Set up headers to send and accept json responses\n",
    "header = {'Content-Type': 'application/json', 'Accept': 'application/json'}\n",
    "\n",
    "# Convert dataframe to json\n",
    "data = X_valid.to_json(orient='records')\n",
    "data"
   ]
  },
  {
   "cell_type": "code",
   "execution_count": 21,
   "metadata": {},
   "outputs": [
    {
     "data": {
      "text/plain": [
       "200"
      ]
     },
     "execution_count": 21,
     "metadata": {},
     "output_type": "execute_result"
    }
   ],
   "source": [
    "# POST <url>/predict\n",
    "resp = requests.post(\"http://0.0.0.0:5000/predict\", data = json.dumps(data), headers= header)\n",
    "resp.status_code"
   ]
  },
  {
   "cell_type": "code",
   "execution_count": 22,
   "metadata": {},
   "outputs": [
    {
     "data": {
      "text/plain": [
       "{'predictions': '[{\"0\":\"LP002453\",\"1\":1},{\"0\":\"LP001164\",\"1\":1},{\"0\":\"LP002734\",\"1\":1},{\"0\":\"LP002505\",\"1\":1},{\"0\":\"LP001194\",\"1\":1},{\"0\":\"LP001207\",\"1\":0},{\"0\":\"LP002740\",\"1\":1},{\"0\":\"LP002386\",\"1\":1},{\"0\":\"LP002188\",\"1\":0},{\"0\":\"LP002537\",\"1\":1},{\"0\":\"LP002002\",\"1\":1},{\"0\":\"LP002600\",\"1\":1},{\"0\":\"LP001776\",\"1\":1},{\"0\":\"LP002170\",\"1\":1},{\"0\":\"LP002364\",\"1\":1},{\"0\":\"LP002151\",\"1\":1},{\"0\":\"LP002444\",\"1\":1},{\"0\":\"LP002239\",\"1\":1},{\"0\":\"LP002522\",\"1\":1},{\"0\":\"LP002788\",\"1\":0},{\"0\":\"LP001146\",\"1\":0},{\"0\":\"LP002387\",\"1\":1},{\"0\":\"LP001807\",\"1\":1},{\"0\":\"LP002149\",\"1\":1},{\"0\":\"LP001643\",\"1\":1},{\"0\":\"LP002640\",\"1\":1},{\"0\":\"LP002408\",\"1\":1},{\"0\":\"LP001594\",\"1\":1},{\"0\":\"LP001711\",\"1\":0},{\"0\":\"LP002776\",\"1\":0},{\"0\":\"LP002139\",\"1\":1},{\"0\":\"LP001653\",\"1\":1},{\"0\":\"LP001674\",\"1\":1},{\"0\":\"LP002409\",\"1\":1},{\"0\":\"LP001356\",\"1\":1},{\"0\":\"LP002335\",\"1\":0},{\"0\":\"LP001947\",\"1\":1},{\"0\":\"LP002732\",\"1\":1},{\"0\":\"LP001750\",\"1\":1},{\"0\":\"LP002807\",\"1\":1},{\"0\":\"LP001693\",\"1\":1},{\"0\":\"LP002837\",\"1\":0},{\"0\":\"LP001030\",\"1\":1},{\"0\":\"LP002119\",\"1\":1},{\"0\":\"LP001658\",\"1\":1},{\"0\":\"LP001666\",\"1\":1},{\"0\":\"LP001616\",\"1\":1},{\"0\":\"LP002305\",\"1\":1},{\"0\":\"LP001003\",\"1\":1},{\"0\":\"LP001978\",\"1\":1},{\"0\":\"LP002126\",\"1\":1},{\"0\":\"LP002175\",\"1\":1},{\"0\":\"LP002587\",\"1\":1},{\"0\":\"LP001449\",\"1\":1},{\"0\":\"LP002345\",\"1\":1},{\"0\":\"LP002137\",\"1\":1},{\"0\":\"LP002281\",\"1\":1},{\"0\":\"LP002181\",\"1\":1},{\"0\":\"LP001018\",\"1\":1},{\"0\":\"LP001664\",\"1\":1},{\"0\":\"LP001431\",\"1\":0},{\"0\":\"LP001708\",\"1\":1}]'}"
      ]
     },
     "execution_count": 22,
     "metadata": {},
     "output_type": "execute_result"
    }
   ],
   "source": [
    "resp.json()"
   ]
  },
  {
   "cell_type": "code",
   "execution_count": 23,
   "metadata": {},
   "outputs": [],
   "source": [
    "df_json = resp.json()\n",
    "df_json = pd.read_json(df_json['predictions'], orient='records')"
   ]
  },
  {
   "cell_type": "code",
   "execution_count": 24,
   "metadata": {},
   "outputs": [
    {
     "name": "stdout",
     "output_type": "stream",
     "text": [
      "1-1 : Identical\n",
      "1-1 : Identical\n",
      "1-1 : Identical\n",
      "1-1 : Identical\n",
      "1-1 : Identical\n",
      "0-0 : Identical\n",
      "1-1 : Identical\n",
      "1-1 : Identical\n",
      "0-0 : Identical\n",
      "1-1 : Identical\n",
      "1-1 : Identical\n",
      "1-1 : Identical\n",
      "1-1 : Identical\n",
      "1-1 : Identical\n",
      "1-1 : Identical\n",
      "1-1 : Identical\n",
      "1-1 : Identical\n",
      "1-1 : Identical\n",
      "1-1 : Identical\n",
      "0-0 : Identical\n",
      "0-0 : Identical\n",
      "1-1 : Identical\n",
      "1-1 : Identical\n",
      "1-1 : Identical\n",
      "1-1 : Identical\n",
      "1-1 : Identical\n",
      "1-1 : Identical\n",
      "1-1 : Identical\n",
      "0-0 : Identical\n",
      "0-0 : Identical\n",
      "1-1 : Identical\n",
      "1-1 : Identical\n",
      "1-1 : Identical\n",
      "1-1 : Identical\n",
      "1-1 : Identical\n",
      "0-0 : Identical\n",
      "1-1 : Identical\n",
      "1-1 : Identical\n",
      "1-1 : Identical\n",
      "1-1 : Identical\n",
      "1-1 : Identical\n",
      "0-0 : Identical\n",
      "1-1 : Identical\n",
      "1-1 : Identical\n",
      "1-1 : Identical\n",
      "1-1 : Identical\n",
      "1-1 : Identical\n",
      "1-1 : Identical\n",
      "1-1 : Identical\n",
      "1-1 : Identical\n",
      "1-1 : Identical\n",
      "1-1 : Identical\n",
      "1-1 : Identical\n",
      "1-1 : Identical\n",
      "1-1 : Identical\n",
      "1-1 : Identical\n",
      "1-1 : Identical\n",
      "1-1 : Identical\n",
      "1-1 : Identical\n",
      "1-1 : Identical\n",
      "0-0 : Identical\n",
      "1-1 : Identical\n"
     ]
    }
   ],
   "source": [
    "# Check that local predicted is the same as API predicted\n",
    "for orig, loaded in zip(list(model.predict(X_valid)), list(df_json[1])):\n",
    "    if orig != loaded:\n",
    "        print('{}-{} : Not identical'.format(orig,loaded))\n",
    "    else:\n",
    "        print('{}-{} : Identical'.format(orig,loaded))"
   ]
  },
  {
   "cell_type": "markdown",
   "metadata": {},
   "source": [
    "## Viola! We have managed to publish a model to an API on flask to classify our data"
   ]
  },
  {
   "cell_type": "code",
   "execution_count": null,
   "metadata": {},
   "outputs": [],
   "source": []
  }
 ],
 "metadata": {
  "kernelspec": {
   "display_name": "Python 3",
   "language": "python",
   "name": "python3"
  },
  "language_info": {
   "codemirror_mode": {
    "name": "ipython",
    "version": 3
   },
   "file_extension": ".py",
   "mimetype": "text/x-python",
   "name": "python",
   "nbconvert_exporter": "python",
   "pygments_lexer": "ipython3",
   "version": "3.6.8"
  }
 },
 "nbformat": 4,
 "nbformat_minor": 2
}
