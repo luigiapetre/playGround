{
 "cells": [
  {
   "cell_type": "markdown",
   "metadata": {},
   "source": [
    "# Deploying an API for production using Flask\n",
    "In these set of notebooks, I put together an API within `Flask` to be used in production."
   ]
  },
  {
   "cell_type": "markdown",
   "metadata": {},
   "source": [
    "## Task\n",
    "The task is to use the provided dataset to make a prediction if a loan application will be approved or denied. The data is available at [Loan Prediction Dataset](https://github.com/PayelGanguly96/Loan-Prediction). \n",
    "\n",
    "## Contents\n",
    "There are 2 notebooks:\n",
    "- [**1_PreProcess_Model_Serialize**](https://github.com/zerafachris/playGround/published/deployingML/1_PreProcess_Model_Serialize.ipynb): This is the original pre-processing flow, model creation and serialization. However, Flask API's require base packages within python. For this reason, I re-visited the pipeline creation in the next notebook.\n",
    "- [**2_Model_Serialization_Specific**](https://github.com/zerafachris/playGround/published/deployingML/2_Model_Serialization_Specific.ipynb): In this notebook, I specifically re-work the pre-processing flow to contain python base packages. \n",
    "    - When the `app` is started within `Flask`, this allows for POST method available at http://0.0.0.0:5000/predict.\n",
    "    - Response is a `json` with a dictionary of the predicted outcomes for the dataset where $1$ is *Approved* abd $0$ is *Denied*. "
   ]
  }
 ],
 "metadata": {
  "kernelspec": {
   "display_name": "Python 3",
   "language": "python",
   "name": "python3"
  },
  "language_info": {
   "codemirror_mode": {
    "name": "ipython",
    "version": 3
   },
   "file_extension": ".py",
   "mimetype": "text/x-python",
   "name": "python",
   "nbconvert_exporter": "python",
   "pygments_lexer": "ipython3",
   "version": "3.6.8"
  }
 },
 "nbformat": 4,
 "nbformat_minor": 2
}
