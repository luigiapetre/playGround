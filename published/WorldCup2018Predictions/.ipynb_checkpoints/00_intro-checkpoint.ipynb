{
 "cells": [
  {
   "cell_type": "markdown",
   "metadata": {},
   "source": [
    "*This project was not completed as I stopped half-way through the prediction modelling. However, some interesting results came out from the EDA and Feature engineering in notebook 2*\n",
    "\n",
    "In these set of notebooks I tried using ML to predict the outcome of the 2018 Fifa World Cup. This has 3 noteboks:\n",
    "- **[01_Getting_Historic_World_Cup_Data](https://github.com/zerafachris/playGround/blob/master/published/WorldCup2018Predictions/01_Getting_Historic_World_Cup_Data.ipynb)** : Here I parse International matches to create a dataset.\n",
    "- **[02_EDA](https://github.com/zerafachris/playGround/blob/master/published/WorldCup2018Predictions/02_EDA.ipynb)** :  Had a look at some exploratory data analysis and feature engineering\n",
    "- **[03_Predicting_Fifa_World_Cup_2018](https://github.com/zerafachris/playGround/blob/master/published/WorldCup2018Predictions/03_Predicting_Fifa_World_Cup_2018.ipynb)** : Creation of an ML to predict the outcome. "
   ]
  }
 ],
 "metadata": {
  "kernelspec": {
   "display_name": "Python 3",
   "language": "python",
   "name": "python3"
  },
  "language_info": {
   "codemirror_mode": {
    "name": "ipython",
    "version": 3
   },
   "file_extension": ".py",
   "mimetype": "text/x-python",
   "name": "python",
   "nbconvert_exporter": "python",
   "pygments_lexer": "ipython3",
   "version": "3.6.6"
  }
 },
 "nbformat": 4,
 "nbformat_minor": 2
}
