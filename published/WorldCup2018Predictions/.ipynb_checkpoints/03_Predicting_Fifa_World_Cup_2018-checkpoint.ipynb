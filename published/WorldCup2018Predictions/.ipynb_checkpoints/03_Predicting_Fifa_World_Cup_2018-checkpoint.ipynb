{
 "cells": [
  {
   "cell_type": "code",
   "execution_count": 252,
   "metadata": {},
   "outputs": [],
   "source": [
    "# preamble\n",
    "import pickle\n",
    "import data\n",
    "import pandas as pd\n",
    "import numpy as np\n",
    "# sklearn models\n",
    "from sklearn.model_selection import GridSearchCV\n",
    "from sklearn.tree import DecisionTreeRegressor\n",
    "from sklearn.neighbors import KNeighborsRegressor\n",
    "from sklearn.ensemble import RandomForestRegressor,GradientBoostingRegressor"
   ]
  },
  {
   "cell_type": "code",
   "execution_count": 220,
   "metadata": {},
   "outputs": [
    {
     "data": {
      "text/plain": [
       "dict_keys(['matches', 'performance', 'matches_performance'])"
      ]
     },
     "execution_count": 220,
     "metadata": {},
     "output_type": "execute_result"
    }
   ],
   "source": [
    "def load_obj(name ):\n",
    "    with open('obj/' + name + '.pkl', 'rb') as f:\n",
    "        return pickle.load(f)\n",
    "p = load_obj('02_EDA')\n",
    "p.keys()"
   ]
  },
  {
   "cell_type": "markdown",
   "metadata": {},
   "source": [
    "## Training a model"
   ]
  },
  {
   "cell_type": "code",
   "execution_count": 242,
   "metadata": {},
   "outputs": [],
   "source": [
    "df = p['matches_performance']"
   ]
  },
  {
   "cell_type": "code",
   "execution_count": 246,
   "metadata": {},
   "outputs": [
    {
     "name": "stderr",
     "output_type": "stream",
     "text": [
      "/Users/Chris/anaconda3/lib/python3.6/site-packages/pandas/core/frame.py:3694: SettingWithCopyWarning: \n",
      "A value is trying to be set on a copy of a slice from a DataFrame\n",
      "\n",
      "See the caveats in the documentation: http://pandas.pydata.org/pandas-docs/stable/indexing.html#indexing-view-versus-copy\n",
      "  errors=errors)\n"
     ]
    }
   ],
   "source": [
    "df.sort_values('pseudo_date',ascending=True, inplace=True) # sort items based on pseudo_date\n",
    "training_split = int(len(df)*.15) # select the last 15% for testing\n",
    "df_train = df.head(len(df) - training_split)\n",
    "df_test = df.tail(training_split)\n",
    "\n",
    "train_target = df_train['goal_diff']\n",
    "df_train.drop(columns='goal_diff', inplace=True)\n",
    "\n",
    "test_target = df_test['goal_diff']\n",
    "df_test.drop(columns='goal_diff', inplace=True)"
   ]
  },
  {
   "cell_type": "code",
   "execution_count": 244,
   "metadata": {},
   "outputs": [],
   "source": [
    "features = ['last10_w', 'last20_w', 'last40_w', 'last10_l', 'last20_l',\n",
    "       'last40_l', 'last10_d', 'last20_d', 'last40_d', 'last10_gd',\n",
    "       'last20_gd', 'last40_gd', 'last10_opp_per', 'last20_opp_per',\n",
    "       'last40_opp_per']"
   ]
  },
  {
   "cell_type": "code",
   "execution_count": 257,
   "metadata": {},
   "outputs": [
    {
     "name": "stdout",
     "output_type": "stream",
     "text": [
      "{'gb_reg': -4.286890270384573}\n",
      "{'learning_rate': 0.05, 'max_depth': 1}\n"
     ]
    }
   ],
   "source": [
    "# brute test to identify which regressor to choose\n",
    "tree_reg = DecisionTreeRegressor()\n",
    "knn_reg = KNeighborsRegressor()\n",
    "rf_reg = RandomForestRegressor()\n",
    "gb_reg = GradientBoostingRegressor()\n",
    "\n",
    "estimators = {\n",
    "    'tree_reg': tree_reg\n",
    "    ,'knn_reg': knn_reg\n",
    "    ,'rf_reg': rf_reg\n",
    "    ,'gb_reg':gb_reg\n",
    "             }\n",
    "hyperparam_dict = {\n",
    "    'tree_reg': {'min_samples_split': range(10, 110, 10), 'max_depth': range(1, 15)}\n",
    "    ,'knn_reg': {'n_neighbors': range(10, 100, 10)}\n",
    "    ,'rf_reg' : {'max_depth': range(1, 15)}\n",
    "    ,'gb_reg' : {'learning_rate':np.linspace(0.05,0.2,5), 'max_depth': range(1, 8)}\n",
    "                  }\n",
    "scores = {}\n",
    "for name, estimator in estimators.items():\n",
    "    gs = GridSearchCV(estimator,\n",
    "                      hyperparam_dict[name],\n",
    "                      cv=5,\n",
    "                      n_jobs=2,\n",
    "                      scoring='neg_mean_squared_error')\n",
    "    gs.fit(df_train[features], train_target)\n",
    "\n",
    "scores[name] = gs.best_score_\n",
    "    \n",
    "print(scores)\n",
    "print(gs.best_params_)"
   ]
  },
  {
   "cell_type": "markdown",
   "metadata": {},
   "source": [
    "## To be continued, hopefully very soon"
   ]
  },
  {
   "cell_type": "code",
   "execution_count": null,
   "metadata": {},
   "outputs": [],
   "source": []
  }
 ],
 "metadata": {
  "kernelspec": {
   "display_name": "Python 3",
   "language": "python",
   "name": "python3"
  },
  "language_info": {
   "codemirror_mode": {
    "name": "ipython",
    "version": 3
   },
   "file_extension": ".py",
   "mimetype": "text/x-python",
   "name": "python",
   "nbconvert_exporter": "python",
   "pygments_lexer": "ipython3",
   "version": "3.6.5"
  }
 },
 "nbformat": 4,
 "nbformat_minor": 2
}
