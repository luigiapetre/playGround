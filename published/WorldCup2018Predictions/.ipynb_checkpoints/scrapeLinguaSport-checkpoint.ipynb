{
 "cells": [
  {
   "cell_type": "code",
   "execution_count": 18,
   "metadata": {
    "collapsed": true
   },
   "outputs": [],
   "source": [
    "import os\n",
    "import re\n",
    "import hashlib\n",
    "import requests\n",
    "from lxml.html import parse\n",
    "import pandas as pd\n",
    "\n",
    "if not os.path.exists('.cache'):\n",
    "    os.makedirs('.cache')\n",
    "\n",
    "ua = 'Mozilla/5.0 (Windows NT 6.1; WOW64) AppleWebKit/537.36 (KHTML, like Gecko) Chrome/34.0.1847.116 Safari/537.36'\n",
    "session = requests.Session()\n",
    "\n",
    "def get(url):\n",
    "    '''Return cached lxml tree for url'''\n",
    "    path = os.path.join('.cache', hashlib.md5(url).hexdigest() + '.html')\n",
    "    if not os.path.exists(path):\n",
    "        response = session.get(url, headers={'User-Agent': ua})\n",
    "        with open(path, 'w') as fd:\n",
    "            fd.write(response.text.encode('utf-8'))\n",
    "    return parse(open(path))"
   ]
  },
  {
   "cell_type": "code",
   "execution_count": 19,
   "metadata": {},
   "outputs": [],
   "source": [
    "def process(page,comp):\n",
    "    headers = 'competition,edition,year,venue,round,team1,team2,score'.split(',')\n",
    "    if comp == 'WorldCup':\n",
    "        url = 'http://www.linguasport.com/futbol/internacional/mundial/seekff.asp'\n",
    "    if comp == 'Olympic':\n",
    "        url = 'http://www.linguasport.com/futbol/internacional/olimpiadas/seekff.asp'        \n",
    "    if page > 1:\n",
    "        url += '?pn=%d' % page\n",
    "    tree = get(url)\n",
    "    count = 0\n",
    "    for row in tree.findall('.//tr')[1:]:\n",
    "        cells = [cell.text_content().strip() for cell in row.findall('.//td')]\n",
    "        if len(cells) == 7:\n",
    "            match = dict(zip(headers, cells))\n",
    "            match['url'] = row.find('.//a').get('href')\n",
    "            result.append(match)\n",
    "            count += 1\n",
    "    return count"
   ]
  },
  {
   "cell_type": "code",
   "execution_count": 20,
   "metadata": {},
   "outputs": [],
   "source": [
    "def scrape(edn):\n",
    "    #edition='WorldCup'\n",
    "    # process worldcup data and save to dataframe\n",
    "    page = 1\n",
    "    while True:\n",
    "        count = process(page,comp=edn)\n",
    "        if count == 0:\n",
    "            break\n",
    "        else:\n",
    "            page += 1\n",
    "    data = pd.DataFrame(result)\n",
    "    data['competition'] = edn\n",
    "    return data"
   ]
  },
  {
   "cell_type": "code",
   "execution_count": 21,
   "metadata": {},
   "outputs": [],
   "source": [
    "result = []\n",
    "data_wc = scrape('WorldCup')\n",
    "result = []\n",
    "data_oly = scrape('Olympic')"
   ]
  },
  {
   "cell_type": "code",
   "execution_count": 22,
   "metadata": {},
   "outputs": [],
   "source": [
    "data = pd.concat([data_wc,data_oly],ignore_index=True)\n",
    "data.to_csv('matches.csv', index=False, encoding='utf-8')"
   ]
  },
  {
   "cell_type": "code",
   "execution_count": null,
   "metadata": {
    "collapsed": true
   },
   "outputs": [],
   "source": []
  }
 ],
 "metadata": {
  "kernelspec": {
   "display_name": "Python 2",
   "language": "python",
   "name": "python2"
  },
  "language_info": {
   "codemirror_mode": {
    "name": "ipython",
    "version": 2
   },
   "file_extension": ".py",
   "mimetype": "text/x-python",
   "name": "python",
   "nbconvert_exporter": "python",
   "pygments_lexer": "ipython2",
   "version": "2.7.15"
  },
  "toc": {
   "nav_menu": {},
   "number_sections": true,
   "sideBar": true,
   "skip_h1_title": false,
   "title_cell": "Table of Contents",
   "title_sidebar": "Contents",
   "toc_cell": false,
   "toc_position": {},
   "toc_section_display": true,
   "toc_window_display": false
  }
 },
 "nbformat": 4,
 "nbformat_minor": 2
}
