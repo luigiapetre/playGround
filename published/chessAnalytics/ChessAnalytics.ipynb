{
 "cells": [
  {
   "cell_type": "markdown",
   "metadata": {},
   "source": [
    "# Question\n",
    "[Kingbase](http://www.kingbase-chess.net/) is a database of 1.8 million chess games. This dataset is freely available for download in Portable Game Notation (PGN) format. This\n",
    "is a text file format that contains each player’s move (and related data) for multiple games.\n",
    "\n",
    "I was asked to create a set of visualizations which summarize and explain this dataset.\n",
    "\n",
    "# Solution\n",
    "The [code] for this was originally in R.\n"
   ]
  },
  {
   "cell_type": "markdown",
   "metadata": {},
   "source": [
    "Visual 1\n",
    "Most prominent cells are towards the centre, with particular focus at cells d4 and d5\n",
    "![viz1](http://github.com/zerafachris/playGround/blob/master/published/chessAnalytics/01_viz1.png)\n",
    "\n",
    "# Visual 2\n",
    "# Chess games are becoming longer over time, possibly suggesting that a defensive play is becoming more popular.\n",
    "\n",
    "\n",
    "# Visual 3\n",
    "# 50% of the data lies between 59 – 101 plys, with the mean sitting at 82 plys.\n",
    "\n",
    "# Visual 4\n",
    "# Confirms that white is nominally at an advantage, and actually a Draw for a Black starting player could be considered as a win since the player started at a disadvantage."
   ]
  },
  {
   "cell_type": "code",
   "execution_count": null,
   "metadata": {},
   "outputs": [],
   "source": []
  }
 ],
 "metadata": {
  "kernelspec": {
   "display_name": "R",
   "language": "R",
   "name": "ir"
  },
  "language_info": {
   "codemirror_mode": "r",
   "file_extension": ".r",
   "mimetype": "text/x-r-source",
   "name": "R",
   "pygments_lexer": "r",
   "version": "3.5.1"
  }
 },
 "nbformat": 4,
 "nbformat_minor": 2
}
